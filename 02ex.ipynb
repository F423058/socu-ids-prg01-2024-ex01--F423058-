{
  "cells": [
    {
      "cell_type": "markdown",
      "metadata": {
        "id": "view-in-github",
        "colab_type": "text"
      },
      "source": [
        "<a href=\"https://colab.research.google.com/github/F423058/socu-ids-prg01-2024-ex01--F423058-/blob/main/02ex.ipynb\" target=\"_parent\"><img src=\"https://colab.research.google.com/assets/colab-badge.svg\" alt=\"Open In Colab\"/></a>"
      ]
    },
    {
      "cell_type": "markdown",
      "metadata": {
        "id": "z-7zbBY0ggkS"
      },
      "source": [
        "## 演習問題"
      ]
    },
    {
      "cell_type": "markdown",
      "metadata": {
        "id": "MIz7RJJGggkS"
      },
      "source": [
        "黄金比を計算するコードを以下に記入してください。黄金比とは、5 の平方根に 1 を加えて 2 で割ったものです。コードを実行すると、約 1.618 になるはずです。"
      ]
    },
    {
      "cell_type": "code",
      "execution_count": 2,
      "metadata": {
        "id": "Ftu5bWndggkS",
        "outputId": "40d3fa5f-7790-4306-bf64-86860fdac090",
        "colab": {
          "base_uri": "https://localhost:8080/"
        }
      },
      "outputs": [
        {
          "output_type": "execute_result",
          "data": {
            "text/plain": [
              "1.618033988749895"
            ]
          },
          "metadata": {},
          "execution_count": 2
        }
      ],
      "source": [
        "# 黄金比\n",
        "import math\n",
        "(math.sqrt(5)+1)/2"
      ]
    }
  ],
  "metadata": {
    "kernelspec": {
      "display_name": "Python 3",
      "language": "python",
      "name": "python3"
    },
    "language_info": {
      "name": "python"
    },
    "colab": {
      "provenance": [],
      "toc_visible": true,
      "include_colab_link": true
    }
  },
  "nbformat": 4,
  "nbformat_minor": 0
}