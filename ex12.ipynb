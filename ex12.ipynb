{
  "cells": [
    {
      "cell_type": "markdown",
      "metadata": {
        "id": "view-in-github",
        "colab_type": "text"
      },
      "source": [
        "<a href=\"https://colab.research.google.com/github/F423058/socu-ids-prg01-2024-ex01--F423058-/blob/main/ex12.ipynb\" target=\"_parent\"><img src=\"https://colab.research.google.com/assets/colab-badge.svg\" alt=\"Open In Colab\"/></a>"
      ]
    },
    {
      "cell_type": "markdown",
      "metadata": {
        "id": "ki8dvPyddyxf"
      },
      "source": [
        "# 第12回課題"
      ]
    },
    {
      "cell_type": "code",
      "execution_count": 1,
      "metadata": {
        "id": "txrbHrKQdyxi"
      },
      "outputs": [],
      "source": [
        "# このセルは決して書き換えたり消したりしないこと\n",
        "import os\n",
        "\n",
        "def is_closed(f):\n",
        "    try:\n",
        "        with open(f, 'a+'):\n",
        "            return True\n",
        "    except:\n",
        "        return False\n",
        "\n",
        "def local_run(t):\n",
        "    \"\"\"\n",
        "    自動採点を妨げずにテストを実行するための補助関数。\n",
        "    \"\"\"\n",
        "    if not ('GRADING' in os.environ):\n",
        "        return t()"
      ]
    },
    {
      "cell_type": "markdown",
      "metadata": {
        "id": "5VJr0DDJdyxj"
      },
      "source": [
        "## テスト用ファイルの作り方"
      ]
    },
    {
      "cell_type": "markdown",
      "metadata": {
        "id": "4ZPXdIyIdyxj"
      },
      "source": [
        "コードセルの先頭行に\n",
        "```text\n",
        "%%writefile <ファイル名>\n",
        "```\n",
        "\n",
        "と書いて実行すると、そのコードセル中の2行目以降の内容が<ファイル名>で指定されたファイルに保存される。例えば以下を実行すると、sample.txtに\n",
        "> これはサンプルです\n",
        "\n",
        "と書き込まれる。"
      ]
    },
    {
      "cell_type": "markdown",
      "metadata": {
        "id": "ueUK8t6gdyxj"
      },
      "source": [
        "以下を実行せよ。"
      ]
    },
    {
      "cell_type": "code",
      "execution_count": 2,
      "metadata": {
        "id": "1Xh7yq7Wdyxj",
        "outputId": "289e5d41-e1f0-457b-c97c-44684d28b1bc",
        "colab": {
          "base_uri": "https://localhost:8080/"
        }
      },
      "outputs": [
        {
          "output_type": "stream",
          "name": "stdout",
          "text": [
            "Writing sample.txt\n"
          ]
        }
      ],
      "source": [
        "%%writefile sample.txt\n",
        "これはサンプルです"
      ]
    },
    {
      "cell_type": "markdown",
      "metadata": {
        "id": "rj2LCYiEdyxk"
      },
      "source": [
        "## Q1."
      ]
    },
    {
      "cell_type": "markdown",
      "metadata": {
        "id": "Pql4nngcdyxk"
      },
      "source": [
        "引数で指定された名前を持つファイルの全内容を取得する関数`get_content()`を完成させよ。"
      ]
    },
    {
      "cell_type": "markdown",
      "metadata": {
        "id": "brT_Pe-Idyxk"
      },
      "source": [
        "### Step 1. `get_content()`の完成"
      ]
    },
    {
      "cell_type": "code",
      "execution_count": 3,
      "metadata": {
        "id": "h31MGhf1dyxk"
      },
      "outputs": [],
      "source": [
        "def get_content(file_name):\n",
        "    \"\"\"\n",
        "    指定されたファイルの全内容を文字列で取得する\n",
        "\n",
        "    Parameters:\n",
        "        file_name (str): ファイル名\n",
        "    Returns:\n",
        "        str: file_nameファイルに書かれた文字列\n",
        "    \"\"\"\n",
        "    with open(file_name,'r') as file:\n",
        "      return file.read()"
      ]
    },
    {
      "cell_type": "markdown",
      "metadata": {
        "id": "J8Nd42zSdyxk"
      },
      "source": [
        "### Step 2. テストの実行"
      ]
    },
    {
      "cell_type": "code",
      "execution_count": 4,
      "metadata": {
        "id": "rmZvzvvzdyxk",
        "outputId": "d340a466-3dd2-4ba2-f540-214785bfcdd1",
        "colab": {
          "base_uri": "https://localhost:8080/"
        }
      },
      "outputs": [
        {
          "output_type": "stream",
          "name": "stdout",
          "text": [
            "これはサンプルです\n",
            "\n"
          ]
        }
      ],
      "source": [
        "def test_get_content():\n",
        "    \"\"\"\n",
        "    read_sample()が正しいことを確認する\n",
        "    \"\"\"\n",
        "    # 内容が取得できているかどうかのテスト\n",
        "    actual = get_content(\"sample.txt\")\n",
        "    print(actual)\n",
        "    assert actual == \"これはサンプルです\\n\"\n",
        "    # ファイルが閉じられていることを確認するテスト\n",
        "    assert is_closed(\"sample.txt\")\n",
        "\n",
        "local_run(test_get_content)"
      ]
    },
    {
      "cell_type": "markdown",
      "metadata": {
        "id": "iBCXqzsEdyxl"
      },
      "source": [
        "## Q2."
      ]
    },
    {
      "cell_type": "markdown",
      "metadata": {
        "id": "F_AAOveydyxl"
      },
      "source": [
        "世界道化コンテスト(International Clown and Pierrot Competition; ICPC)は興行界で権威も人気も最高の行事である．\n",
        "\n",
        "このコンテストの特色のひとつは，採点に当たる審判員の数が多いことで，ときには百人にも上る．審判の数は競技者ごとに異なる．採点対象の競技者と少しでも関係のある審判は，公平性に鑑み，その競技者の演技の採点から一時的に外れるからである．\n",
        "\n",
        "ひとりの競技者の演技についての審判の点数の平均がその競技者の点数になる．ただし, 常軌を逸した視点から採点する審判が点数に大きな影響を与えないよう，最高点と最低点は除外する．もし最高点をつけた審判が複数いたら，そのうちのひとつだけを無視する．最低点についても同様である．平均点には端数があるかもしれないが，それは切り捨てて最終的な点数は整数値とす る．\n",
        "\n",
        "君は審判全員の採点から演技の点数を計算する関数`scores()`の開発を頼まれた．"
      ]
    },
    {
      "cell_type": "markdown",
      "metadata": {
        "id": "1ono_1Jtdyxm"
      },
      "source": [
        "### `scores()`の仕様"
      ]
    },
    {
      "cell_type": "markdown",
      "metadata": {
        "id": "4hXvCbGMdyxm"
      },
      "source": [
        "`scores()`は審判による点数を記したファイルの名を受け取り、各演技ごとに点数を計算して、点数のリストを出力する。\n",
        "\n",
        "審判による点数を記したファイルには、競技者の演技ごとに、以下の形式で各審判からの点数が記入されている.\n",
        "\n",
        "最初の行はある演技の採点に当たった審判の数 n ($3\\leq n\\leq 100$) である．引き続く$n$行には各審判のつけた 点数$s$($0\\leq s\\leq 1000$) がひとつずつ入っている． $n$も各$s$も整数である．入力中にはこれらの数を表すための数 字以外の文字はない．審判名は秘匿されている．\n",
        "\n",
        "審判の数が0であるとき, ファイルは終わりである."
      ]
    },
    {
      "cell_type": "markdown",
      "metadata": {
        "id": "dvX27z9wdyxm"
      },
      "source": [
        "### 採点ファイルのサンプルと期待される出力"
      ]
    },
    {
      "cell_type": "markdown",
      "metadata": {
        "id": "YzXqsayDdyxm"
      },
      "source": [
        "sample_q2.txtを以下とする(先頭行はファイルの内容ではない)。"
      ]
    },
    {
      "cell_type": "code",
      "execution_count": 5,
      "metadata": {
        "id": "w8pmpNLNdyxm",
        "colab": {
          "base_uri": "https://localhost:8080/"
        },
        "outputId": "5c5a7d33-4f62-49eb-e1ce-7044f0a15fbd"
      },
      "outputs": [
        {
          "output_type": "stream",
          "name": "stdout",
          "text": [
            "Writing sample_q2.txt\n"
          ]
        }
      ],
      "source": [
        "%%writefile sample_q2.txt\n",
        "3\n",
        "1000\n",
        "342\n",
        "0\n",
        "5\n",
        "2\n",
        "2\n",
        "9\n",
        "11\n",
        "932\n",
        "5\n",
        "300\n",
        "1000\n",
        "0\n",
        "200\n",
        "400\n",
        "8\n",
        "353\n",
        "242\n",
        "402\n",
        "274\n",
        "283\n",
        "132\n",
        "402\n",
        "523\n",
        "0"
      ]
    },
    {
      "cell_type": "markdown",
      "metadata": {
        "id": "09Qu2GjWdyxm"
      },
      "source": [
        "`scores(\"sample_q2.txt\")`は以下のリストを返す。\n",
        "\n",
        "```python\n",
        "[342, 7, 300, 326]\n",
        "```"
      ]
    },
    {
      "cell_type": "markdown",
      "metadata": {
        "id": "YhM9ntYadyxm"
      },
      "source": [
        "### Step 1. `scores()`のテストケースを考え、`test_scores()`を完成"
      ]
    },
    {
      "cell_type": "code",
      "execution_count": 47,
      "metadata": {
        "id": "ct6DA6RIdyxm"
      },
      "outputs": [],
      "source": [
        "def test_scores():\n",
        "    \"\"\"\n",
        "    scores()をテストする\n",
        "    \"\"\"\n",
        "    expected_output = [342, 7, 300, 326]\n",
        "    assert scores(\"sample_q2.txt\") == expected_output"
      ]
    },
    {
      "cell_type": "markdown",
      "metadata": {
        "id": "t_yDCxqydyxp"
      },
      "source": [
        "### Step 2. `scores()`を完成"
      ]
    },
    {
      "cell_type": "code",
      "execution_count": 58,
      "metadata": {
        "id": "b98J866ndyxp"
      },
      "outputs": [],
      "source": [
        "def scores(file_name):\n",
        "    \"\"\"\n",
        "    ファイルに記載された審判からの点数から、各演技の点数を計算する\n",
        "\n",
        "    Parameters:\n",
        "        file_name (str): 審判からの点数が記載されたファイルの名前\n",
        "    Returns:\n",
        "        list: 演技の点数のリスト\n",
        "    \"\"\"\n",
        "     # ファイルを開く\n",
        "    with open(file_name, 'r') as file:\n",
        "        # ファイルのすべての行を読み込む\n",
        "        lines = file.readlines()\n",
        "\n",
        "    index = 0  # 行インデックスの初期化\n",
        "    results = []  # 結果を格納するリスト\n",
        "\n",
        "    # ファイルのすべての行を処理するループ\n",
        "    while index < len(lines):\n",
        "        # 審判の数を取得する\n",
        "        n = int(lines[index].strip())\n",
        "        index += 1\n",
        "\n",
        "        if n == 0:\n",
        "            break\n",
        "\n",
        "        scores = []  # 審判の点数を格納するリスト\n",
        "\n",
        "        # 各審判の点数を取得するループ\n",
        "        for _ in range(n):\n",
        "            score = int(lines[index].strip())\n",
        "            scores.append(score)  # リストに点数を追加\n",
        "            index += 1\n",
        "\n",
        "        # 演技点数を計算する\n",
        "        if n > 2:\n",
        "            max_score = max(scores)  # 最高点\n",
        "            min_score = min(scores)  # 最低点\n",
        "            total_sum = sum(scores) - max_score - min_score  # 最高点と最低点を除いた点数の合計\n",
        "            final_score = total_sum // (n - 2)\n",
        "        else:\n",
        "            # 審判が2人以下の場合は全ての点数の平均を計算する\n",
        "            final_score = sum(scores) // n\n",
        "\n",
        "        # 計算結果を結果リストに追加する\n",
        "        results.append(final_score)\n",
        "\n",
        "    return results"
      ]
    },
    {
      "cell_type": "markdown",
      "metadata": {
        "id": "nprAZXBUavw5"
      },
      "source": [
        "`scores(\"sample_q2.txt\")`は以下のリストを返す。\n",
        "\n",
        "```python\n",
        "[342, 7, 300, 326]\n",
        "```"
      ]
    },
    {
      "cell_type": "markdown",
      "metadata": {
        "id": "bDQQ4q75dyxp"
      },
      "source": [
        "### Step 3. テストを実行"
      ]
    },
    {
      "cell_type": "code",
      "execution_count": 59,
      "metadata": {
        "id": "LBEe_5madyxp"
      },
      "outputs": [],
      "source": [
        "local_run(test_scores)"
      ]
    },
    {
      "cell_type": "code",
      "execution_count": null,
      "metadata": {
        "id": "IWqcPt4Adyxp"
      },
      "outputs": [],
      "source": []
    },
    {
      "cell_type": "markdown",
      "metadata": {
        "id": "Q57_lNr5dyxk"
      },
      "source": [
        "## Q3."
      ]
    },
    {
      "cell_type": "markdown",
      "metadata": {
        "id": "gxVApSWOdyxl"
      },
      "source": [
        "賢王が新しい暦を定めた．「明日を1年1月1日と定める．1年には1月から10月までの10ヶ月があり，大の月から始まる．ふつうの年は，1月が大の月，2月は小の月，3月は大の月，そして最後の10月は小の月というように，大の月と小の月が交互に訪れる．大の月の日数は20日，小の月の日数は19日である．しかし，3年，6年，9年，…のように，3で割り切れる年には，小の月は訪れず，10すべての月を大の月とする．」\n",
        "\n",
        "幾年月が流れた．やがて1000年1月1日のミレニアム記念日の祝賀式において，誕生してからの日数が王立のくじ引きで選ばれた数と一致する国民に景品を与えることになった．\n",
        "\n",
        "君の任務は国民らを手助けして，生まれた日からミレニアム記念日までの日数を計算する関数`days()`を奉ずることである."
      ]
    },
    {
      "cell_type": "markdown",
      "metadata": {
        "id": "NVJIGZSsdyxl"
      },
      "source": [
        "### `days()`の仕様"
      ]
    },
    {
      "cell_type": "markdown",
      "metadata": {
        "id": "7WngsTLodyxl"
      },
      "source": [
        "`days()`は国民リストであるファイルの名前を受け取り、それぞれの国民の生まれた日からミレニアム記念日までの日数を出力する。\n",
        "\n",
        "国民リストのファイルには、国民の生まれた日が以下の形式で記述されている。"
      ]
    },
    {
      "cell_type": "markdown",
      "metadata": {
        "id": "v9s_TXfhdyxl"
      },
      "source": [
        "```text\n",
        "n\n",
        "Y1 M1 D1\n",
        "Y2 M2 D2\n",
        "...\n",
        "Yn Mn Dn\n",
        "```"
      ]
    },
    {
      "cell_type": "markdown",
      "metadata": {
        "id": "2U2wVWTzdyxl"
      },
      "source": [
        "最初の行にはデータセット数を表す100以下の正整数nが与えられる．この行に続いて$n$個のデータセットが与えられる．各データセットはそれぞれ1行であり，三つの正整数$Y_i (< 1000)$，$M_i (\\leq 10)$，$D_i (\\leq 20)$からなる．これらの数は空白で区切られ，それぞれ，人物が生まれた日の王暦の年，月，日である．"
      ]
    },
    {
      "cell_type": "markdown",
      "metadata": {
        "id": "EvxnH1lEdyxl"
      },
      "source": [
        "各データセットで与えられる誕生日について，その誕生日からミレニアム記念日までの日数を要素とするリストを返せ．ただし，この日数に誕生日は勘定し，ミレニアム記念日は含まないものとする."
      ]
    },
    {
      "cell_type": "markdown",
      "metadata": {
        "id": "AmJTSy7ydyxl"
      },
      "source": [
        "### 国民データファイルのサンプルと期待される出力"
      ]
    },
    {
      "cell_type": "markdown",
      "metadata": {
        "id": "2gAG-9D5dyxl"
      },
      "source": [
        "sample_q1.txtを以下とする(先頭行はファイルの内容ではない)。"
      ]
    },
    {
      "cell_type": "code",
      "execution_count": 71,
      "metadata": {
        "id": "qN-hk-F-dyxl",
        "colab": {
          "base_uri": "https://localhost:8080/"
        },
        "outputId": "bafc8572-92a4-4fea-fd9a-b881072a4c76"
      },
      "outputs": [
        {
          "output_type": "stream",
          "name": "stdout",
          "text": [
            "Overwriting sample_q3.txt\n"
          ]
        }
      ],
      "source": [
        "%%writefile sample_q3.txt\n",
        "8\n",
        "1 1 1\n",
        "344 3 1\n",
        "696 5 1\n",
        "182 9 5\n",
        "998 8 7\n",
        "344 2 19\n",
        "696 4 19\n",
        "999 10 20"
      ]
    },
    {
      "cell_type": "markdown",
      "metadata": {
        "id": "gdiUuAwSdyxl"
      },
      "source": [
        "`days(\"sample_q3.txt\")`は以下のリストを返す。\n",
        "\n",
        "```python\n",
        "[196470, 128976, 59710, 160715, 252, 128977, 59712, 1]\n",
        "```"
      ]
    },
    {
      "cell_type": "markdown",
      "metadata": {
        "id": "cJr84qksdyxl"
      },
      "source": [
        "### Step 1. `days()`のテストケースを考え、`test_days()`を完成"
      ]
    },
    {
      "cell_type": "code",
      "execution_count": 91,
      "metadata": {
        "id": "PskiF_-sdyxl"
      },
      "outputs": [],
      "source": [
        "def test_days():\n",
        "    \"\"\"\n",
        "    days()をテストする\n",
        "    \"\"\"\n",
        "    file_name = 'sample_q3.txt'\n",
        "    expected = [196470, 128976, 59710, 160715, 252, 128977, 59712, 1]\n",
        "    result = days(file_name)\n",
        "    assert result == expected"
      ]
    },
    {
      "cell_type": "markdown",
      "metadata": {
        "id": "5z1_5qdfdyxl"
      },
      "source": [
        "### Step 2. `days()`を完成"
      ]
    },
    {
      "cell_type": "code",
      "execution_count": 76,
      "metadata": {
        "id": "y8ZhgQm5dyxl"
      },
      "outputs": [],
      "source": [
        "def days(file_name):\n",
        "    \"\"\"\n",
        "    国民リストに記載されたそれぞれの国民の生年月日から、ミレニアム(1000年1月1日)までの日数を計算する\n",
        "\n",
        "    Parameters:\n",
        "        file_name (str): 国民リストのファイル名\n",
        "    Returns:\n",
        "        list: 国民の生年月日からミレニアムまでの日数のリスト\n",
        "    \"\"\"\n",
        "    results = []\n",
        "    with open(file_name, 'r') as file:\n",
        "        for line in file:\n",
        "            line = line.strip()\n",
        "            if line:\n",
        "                parts = line.split()\n",
        "                if len(parts) == 3:\n",
        "                    birth_year = int(parts[0])\n",
        "                    birth_month = int(parts[1])\n",
        "                    birth_day = int(parts[2])\n",
        "\n",
        "                    # ミレニアムの日付\n",
        "                    millennium_day = 1\n",
        "                    millennium_month = 1\n",
        "                    millennium_year = 1000\n",
        "\n",
        "                    # 生年月日から日数を計算する\n",
        "                    days_count = (\n",
        "                        (birth_year - millennium_year) * 365 +\n",
        "                        (birth_month - millennium_month) * 31 +\n",
        "                        (birth_day - millennium_day)\n",
        "                    )\n",
        "\n",
        "                    results.append(days_count)\n",
        "\n",
        "    return results\n",
        ""
      ]
    },
    {
      "cell_type": "markdown",
      "metadata": {
        "id": "UcgHtlbEdyxl"
      },
      "source": [
        "### Step 3. テストを実行"
      ]
    },
    {
      "cell_type": "code",
      "execution_count": 92,
      "metadata": {
        "id": "yfZ2C7OVdyxl",
        "colab": {
          "base_uri": "https://localhost:8080/",
          "height": 252
        },
        "outputId": "97e834a9-b489-44a6-c5e3-39a74a0b54e1"
      },
      "outputs": [
        {
          "output_type": "error",
          "ename": "AssertionError",
          "evalue": "",
          "traceback": [
            "\u001b[0;31m---------------------------------------------------------------------------\u001b[0m",
            "\u001b[0;31mAssertionError\u001b[0m                            Traceback (most recent call last)",
            "\u001b[0;32m<ipython-input-92-ee27bb37a5f5>\u001b[0m in \u001b[0;36m<cell line: 1>\u001b[0;34m()\u001b[0m\n\u001b[0;32m----> 1\u001b[0;31m \u001b[0mlocal_run\u001b[0m\u001b[0;34m(\u001b[0m\u001b[0mtest_days\u001b[0m\u001b[0;34m)\u001b[0m\u001b[0;34m\u001b[0m\u001b[0;34m\u001b[0m\u001b[0m\n\u001b[0m",
            "\u001b[0;32m<ipython-input-1-e20728b08125>\u001b[0m in \u001b[0;36mlocal_run\u001b[0;34m(t)\u001b[0m\n\u001b[1;32m     14\u001b[0m     \"\"\"\n\u001b[1;32m     15\u001b[0m     \u001b[0;32mif\u001b[0m \u001b[0;32mnot\u001b[0m \u001b[0;34m(\u001b[0m\u001b[0;34m'GRADING'\u001b[0m \u001b[0;32min\u001b[0m \u001b[0mos\u001b[0m\u001b[0;34m.\u001b[0m\u001b[0menviron\u001b[0m\u001b[0;34m)\u001b[0m\u001b[0;34m:\u001b[0m\u001b[0;34m\u001b[0m\u001b[0;34m\u001b[0m\u001b[0m\n\u001b[0;32m---> 16\u001b[0;31m         \u001b[0;32mreturn\u001b[0m \u001b[0mt\u001b[0m\u001b[0;34m(\u001b[0m\u001b[0;34m)\u001b[0m\u001b[0;34m\u001b[0m\u001b[0;34m\u001b[0m\u001b[0m\n\u001b[0m",
            "\u001b[0;32m<ipython-input-91-888ead5192dd>\u001b[0m in \u001b[0;36mtest_days\u001b[0;34m()\u001b[0m\n\u001b[1;32m      6\u001b[0m     \u001b[0mexpected\u001b[0m \u001b[0;34m=\u001b[0m \u001b[0;34m[\u001b[0m\u001b[0;36m196470\u001b[0m\u001b[0;34m,\u001b[0m \u001b[0;36m128976\u001b[0m\u001b[0;34m,\u001b[0m \u001b[0;36m59710\u001b[0m\u001b[0;34m,\u001b[0m \u001b[0;36m160715\u001b[0m\u001b[0;34m,\u001b[0m \u001b[0;36m252\u001b[0m\u001b[0;34m,\u001b[0m \u001b[0;36m128977\u001b[0m\u001b[0;34m,\u001b[0m \u001b[0;36m59712\u001b[0m\u001b[0;34m,\u001b[0m \u001b[0;36m1\u001b[0m\u001b[0;34m]\u001b[0m\u001b[0;34m\u001b[0m\u001b[0;34m\u001b[0m\u001b[0m\n\u001b[1;32m      7\u001b[0m     \u001b[0mresult\u001b[0m \u001b[0;34m=\u001b[0m \u001b[0mdays\u001b[0m\u001b[0;34m(\u001b[0m\u001b[0mfile_name\u001b[0m\u001b[0;34m)\u001b[0m\u001b[0;34m\u001b[0m\u001b[0;34m\u001b[0m\u001b[0m\n\u001b[0;32m----> 8\u001b[0;31m     \u001b[0;32massert\u001b[0m \u001b[0mresult\u001b[0m \u001b[0;34m==\u001b[0m \u001b[0mexpected\u001b[0m\u001b[0;34m\u001b[0m\u001b[0;34m\u001b[0m\u001b[0m\n\u001b[0m",
            "\u001b[0;31mAssertionError\u001b[0m: "
          ]
        }
      ],
      "source": [
        "local_run(test_days)"
      ]
    },
    {
      "cell_type": "code",
      "source": [],
      "metadata": {
        "id": "KV9vLfiygIG0"
      },
      "execution_count": null,
      "outputs": []
    }
  ],
  "metadata": {
    "kernelspec": {
      "display_name": ".venv",
      "language": "python",
      "name": "python3"
    },
    "language_info": {
      "codemirror_mode": {
        "name": "ipython",
        "version": 3
      },
      "file_extension": ".py",
      "mimetype": "text/x-python",
      "name": "python",
      "nbconvert_exporter": "python",
      "pygments_lexer": "ipython3",
      "version": "3.12.3"
    },
    "colab": {
      "provenance": [],
      "include_colab_link": true
    }
  },
  "nbformat": 4,
  "nbformat_minor": 0
}