{
  "cells": [
    {
      "cell_type": "markdown",
      "metadata": {
        "id": "view-in-github",
        "colab_type": "text"
      },
      "source": [
        "<a href=\"https://colab.research.google.com/github/F423058/socu-ids-prg01-2024-ex01--F423058-/blob/main/ex08.ipynb\" target=\"_parent\"><img src=\"https://colab.research.google.com/assets/colab-badge.svg\" alt=\"Open In Colab\"/></a>"
      ]
    },
    {
      "cell_type": "markdown",
      "metadata": {
        "id": "qZJbVtGLMnW4"
      },
      "source": [
        "# プログラミング1 第8回 課題"
      ]
    },
    {
      "cell_type": "code",
      "execution_count": 2,
      "metadata": {
        "id": "FkaHx709MnW_"
      },
      "outputs": [],
      "source": [
        "# このセルは決して書き換えたり消したりしないこと\n",
        "import os\n",
        "\n",
        "def run_test(t):\n",
        "    \"\"\"\n",
        "    自動採点を妨げずにテストを実行するための補助関数。\n",
        "    \"\"\"\n",
        "    if not ('GRADING' in os.environ):\n",
        "        t()"
      ]
    },
    {
      "cell_type": "markdown",
      "metadata": {
        "id": "pzy-_PsJMnXB"
      },
      "source": [
        "## Q1. FizzBuzz"
      ]
    },
    {
      "cell_type": "markdown",
      "metadata": {
        "id": "iw2WD-B5MnXC"
      },
      "source": [
        "Fizz Buzzは英語圏で長距離ドライブ中や飲み会の時に行われる言葉遊びである。\n",
        "\n",
        "最初のプレイヤーは「1」と数字を発言する。次のプレイヤーは直前のプレイヤーの発言した数字に1を足した数字を発言していく。ただし、3の倍数の場合は「Fizz」、5の倍数の場合は「Buzz」、3の倍数かつ5の倍数の場合（すなわち15の倍数の場合）は「Fizz Buzz」を数の代わりに発言しなければならない。発言を間違えた者や、ためらった者は脱落となる。\n",
        "\n",
        "このゲームを元に、関数`fizzbuzz()`を完成させよ。この関数は整数`n`を受け取り、\n",
        "- `n`が3の倍数の時: 'Fizz'\n",
        "- `n`が5の倍数の時: 'Buzz'\n",
        "- `n`が15の倍数の時: 'FizzBuzz'\n",
        "- `n`が上記以外の時: n\n",
        "\n",
        "を返す。"
      ]
    },
    {
      "cell_type": "markdown",
      "metadata": {
        "id": "BWZGQUjRMnXD"
      },
      "source": [
        "### 余談"
      ]
    },
    {
      "cell_type": "markdown",
      "metadata": {
        "id": "BpwQJXLyMnXD"
      },
      "source": [
        "この問題はプログラマの採用試験で出題されたこともある。元々は、コードが書けないプログラマ志願者を見分ける手法として、Jeff Atwoodが提唱した。Jeff AtwoodはQ&AサイトのStackOverflowの創立者の1人であり、自身もソフトウェア開発者である。\n",
        "- 株式会社こまり: https://komari.co.jp/column/6936/\n",
        "- Jeff Atwoodのblog: https://blog.codinghorror.com/why-cant-programmers-program/\n",
        "- Wikipedia: https://en.wikipedia.org/wiki/Jeff_Atwood"
      ]
    },
    {
      "cell_type": "markdown",
      "metadata": {
        "id": "QZpEB8aNMnXD"
      },
      "source": [
        "### Step 1"
      ]
    },
    {
      "cell_type": "markdown",
      "metadata": {
        "id": "LcIcj5WlMnXE"
      },
      "source": [
        "`fizzbuzz()`のテストケースを考え、`fizzbuzz()`のテストのための関数`test_fizzbuzz()`を完成させよ。"
      ]
    },
    {
      "cell_type": "code",
      "execution_count": 4,
      "metadata": {
        "id": "6q0yZdWUMnXE"
      },
      "outputs": [],
      "source": [
        "def test_fizzbuzz():\n",
        "    \"\"\"\n",
        "    fizzbuzz()をテストする。\n",
        "    \"\"\"\n",
        "    assert fizzbuzz(1) == 1\n",
        "    assert fizzbuzz(3) == 'Fizz'\n",
        "    assert fizzbuzz(5) == 'Buzz'\n",
        "    assert fizzbuzz(15) == 'FizzBuzz'"
      ]
    },
    {
      "cell_type": "markdown",
      "metadata": {
        "id": "QTNCwoOaMnXE"
      },
      "source": [
        "### Step 2"
      ]
    },
    {
      "cell_type": "markdown",
      "metadata": {
        "id": "ff4zLpWvMnXF"
      },
      "source": [
        "`fizzbuzz()`を完成させよ。"
      ]
    },
    {
      "cell_type": "code",
      "execution_count": 3,
      "metadata": {
        "id": "TcL-zkFVMnXF"
      },
      "outputs": [],
      "source": [
        "def fizzbuzz(n):\n",
        "    \"\"\"\n",
        "    nが3の倍数の時'Fizz'、5の倍数の時'Buzz'、15の倍数の時'FizzBuzz'、そうでないときnを返す\n",
        "\n",
        "    Parameters:\n",
        "        n (int): 1以上の整数\n",
        "\n",
        "    Returns:\n",
        "        str or int: nが3の倍数の時'Fizz'、5の倍数の時'Buzz'、15の倍数の時'FizzBuzz'、そうでないときn\n",
        "    \"\"\"\n",
        "    if n % 15 == 0:\n",
        "      return 'FizzBuzz'\n",
        "    elif n % 3 == 0:\n",
        "      return 'Fizz'\n",
        "    elif n % 5 == 0:\n",
        "      return 'Buzz'\n",
        "    else:\n",
        "      return n"
      ]
    },
    {
      "cell_type": "markdown",
      "metadata": {
        "id": "LXrOQEJBMnXF"
      },
      "source": [
        "### Step 3"
      ]
    },
    {
      "cell_type": "markdown",
      "metadata": {
        "id": "cAqdoKPuMnXF"
      },
      "source": [
        "以下を実行して、少なくともテストケースに対して`fizzbuzz()`が正しいことを確かめよ。"
      ]
    },
    {
      "cell_type": "code",
      "execution_count": 5,
      "metadata": {
        "id": "zrB_2Z3XMnXF"
      },
      "outputs": [],
      "source": [
        "# このセルは決して書き換えたり消したりしないこと\n",
        "run_test(test_fizzbuzz)"
      ]
    },
    {
      "cell_type": "markdown",
      "metadata": {
        "id": "LhcZ-n-3MnXF"
      },
      "source": [
        "## Q2. 所得税の税率と控除額"
      ]
    },
    {
      "cell_type": "markdown",
      "metadata": {
        "id": "phBzseBtMnXF"
      },
      "source": [
        "日本国の所得税率ならびに控除額は、以下のとおりである。(令和5年4月1日現在法令等)\n",
        "\n",
        "\n",
        "| 課税される所得金額 | 税率 | 控除額 |\n",
        "|-----------------|-----|-------|\n",
        "|1,000円 から 1,949,000円まで|\t5％\t|0円 |\n",
        "|1,950,000円 から 3,299,000円まで | 10％ | 97,500円 |\n",
        "|3,300,000円 から 6,949,000円まで | 20％ | 427,500円 |\n",
        "|6,950,000円 から 8,999,000円まで | 23％ | 636,000円|\n",
        "|9,000,000円 から 17,999,000円まで | 33％ | 1,536,000円 |\n",
        "|18,000,000円 から 39,999,000円まで |40％ |2,796,000円|\n",
        "|40,000,000円 以上 | 45％ | 4,796,000円 |\n",
        "\n",
        "課税所得金額(1,000円未満の端数金額を切り捨てた後の金額)が与えられた時、税率(%)と控除額(円)をこの順番に入れたリストを返す関数`tax()`を完成させよ。\n",
        "\n",
        "参考:\n",
        "- 国税庁: https://www.nta.go.jp/taxes/shiraberu/taxanswer/shotoku/2260.htm"
      ]
    },
    {
      "cell_type": "markdown",
      "metadata": {
        "id": "EhDnTyXFMnXF"
      },
      "source": [
        "### Step 1"
      ]
    },
    {
      "cell_type": "markdown",
      "metadata": {
        "id": "hsOnBSaeMnXG"
      },
      "source": [
        "`tax()`のテストケースを考え、`tax()`のテストのための関数`test_tax()`を完成させよ。"
      ]
    },
    {
      "cell_type": "code",
      "execution_count": 13,
      "metadata": {
        "id": "GzmOsTgOMnXG"
      },
      "outputs": [],
      "source": [
        "def test_tax():\n",
        "    \"\"\"\n",
        "    tax()をテストする\n",
        "    \"\"\"\n",
        "    assert tax(1950000) == [5,0]\n",
        "    assert tax(3300000) == [10,97500]\n",
        "    assert tax(6950000) == [20,427500]"
      ]
    },
    {
      "cell_type": "markdown",
      "metadata": {
        "id": "NMz7WrOJMnXG"
      },
      "source": [
        "### Step 2"
      ]
    },
    {
      "cell_type": "markdown",
      "metadata": {
        "id": "_4IFiorNMnXG"
      },
      "source": [
        "`tax()`を完成させよ。"
      ]
    },
    {
      "cell_type": "code",
      "execution_count": 7,
      "metadata": {
        "id": "wPgfrTVdMnXG"
      },
      "outputs": [],
      "source": [
        "def tax(income):\n",
        "    \"\"\"\n",
        "    課税所得金額(1,000円未満の端数金額を切り捨てた後の金額)に対する税率と控除額を取得する\n",
        "\n",
        "    Parameters:\n",
        "        income (int): 課税所得金額(1,000円未満の端数金額を切り捨てた後の金額)\n",
        "\n",
        "    Returns:\n",
        "        list: 税率(%)と控除額(円)をこの順番に入れたリスト\n",
        "    \"\"\"\n",
        "    income = (income // 1000) * 1000\n",
        "    tax_brackets = [\n",
        "        (1000,0,0),\n",
        "        (1950000,5,0),\n",
        "        (3300000,10,97500),\n",
        "        (6950000,20,427500),\n",
        "        (90000000,23,636000),\n",
        "        (18000000,33,1536000),\n",
        "        (40000000,40,2796000),\n",
        "        (float('inf'),45,4796000)\n",
        "    ]\n",
        "\n",
        "    for bracket in tax_brackets:\n",
        "        if income <= bracket[0]:\n",
        "          return [bracket[1],bracket[2]]\n",
        "\n"
      ]
    },
    {
      "cell_type": "markdown",
      "metadata": {
        "id": "Fvhk1BjmMnXG"
      },
      "source": [
        "### Step 3"
      ]
    },
    {
      "cell_type": "markdown",
      "metadata": {
        "id": "mzhZLJuCMnXG"
      },
      "source": [
        "以下を実行して、少なくともテストケースに対して`tax()`が正しいことを確かめよ。"
      ]
    },
    {
      "cell_type": "code",
      "execution_count": 14,
      "metadata": {
        "id": "MeS9gX4TMnXG"
      },
      "outputs": [],
      "source": [
        "# このセルは決して書き換えたり消したりしないこと\n",
        "run_test(test_tax)"
      ]
    },
    {
      "cell_type": "markdown",
      "metadata": {
        "id": "tleMv-LaMnXG"
      },
      "source": [
        "## Q3. Blackjack"
      ]
    },
    {
      "cell_type": "markdown",
      "metadata": {
        "id": "Ol54Rr5iMnXG"
      },
      "source": [
        "### 背景"
      ]
    },
    {
      "cell_type": "markdown",
      "metadata": {
        "id": "T3PNRF92MnXH"
      },
      "source": [
        "ブラックジャックは、トランプを使用するゲームの一種である。プレイヤーはディーラー（胴元）との間で1対1の勝負を行う。\n",
        "\n",
        "プレイヤーの目標は、21を超えないように手持ちのカードの点数の合計を21に近づけ、その点数がディーラーを上回ることである。\n",
        "\n",
        "手の中のカードの点数は、カード2～10ではその数字通りの値であり、また、絵札であるK（キング）、Q（クイーン）、J（ジャック）は10と数える。A（エース）は、1と11のどちらか、都合のよい方で数えることができる。\n",
        "\n",
        "各プレイヤーが初めの賭け（ベット）を終えると、ディーラーはカードを自分自身を含めた参加者全員に2枚ずつ配る。ディーラーの2枚のカードのうちの1枚は表向き（アップカード）にされ、皆が見ることができる。もう1枚のカードは伏せられている。伏せられたカードをホールカードと呼ぶ。プレイヤーの行動が全て終わった時点ではじめてディーラーの2枚目のカードが表向きにされる。\n",
        "\n",
        "次のステップでは、プレイヤーはヒットまたはスタンドの選択を行う。\n",
        "- ヒット (Hit): カードをもう1枚引く。\n",
        "- スタンド (Stand)/ステイ (Stay): カードを引かずにその時点の点数で勝負する。\n",
        "\n",
        "プレイヤーは21を超えなければ何回でもヒットすることができる。21を超えてしまうことをバスト（bust）と呼び、直ちにプレイヤーの負けとなる。プレイヤーが全員スタンドするとディーラーは自分のホールカードを開く。"
      ]
    },
    {
      "cell_type": "markdown",
      "metadata": {
        "id": "ZcFiCxZCMnXH"
      },
      "source": [
        "### Q3-1"
      ]
    },
    {
      "cell_type": "markdown",
      "metadata": {
        "id": "2mwO0uoKMnXH"
      },
      "source": [
        "手持ちのカードが与えられた時、得点を計算する関数`score()`を完成させよ。ただし、\n",
        "- カードはスート('♠', '♣', '♦', '❤')と数字または'J', 'Q', 'K', 'A'のいずれかの2文字で表され、\n",
        "- 手持ちのカードはカードのリストで表される\n",
        "- 複数通りの得点計算が可能な場合:\n",
        "    - 21以下となる得点計算が可能な場合: 21以下で最大の得点を返す\n",
        "    - 21以下となる得点計算が不可能な場合: カードから計算可能な得点のうち、任意の得点を返す\n",
        "\n",
        "カードの例:\n",
        "- ハートのクイーン: '♠Q'\n",
        "- クラブの3: '♣3'\n",
        "- ダイヤの1: '♦A'"
      ]
    },
    {
      "cell_type": "markdown",
      "metadata": {
        "id": "3Si63H1JMnXH"
      },
      "source": [
        "#### Step 1"
      ]
    },
    {
      "cell_type": "markdown",
      "metadata": {
        "id": "X5NlsFkcMnXH"
      },
      "source": [
        "`score()`に対するテストケースを考え、`test_score()`を完成させよ。"
      ]
    },
    {
      "cell_type": "code",
      "execution_count": 17,
      "metadata": {
        "id": "jYqy3QhLMnXH"
      },
      "outputs": [],
      "source": [
        "def test_score():\n",
        "    \"\"\"\n",
        "    score()をテストする\n",
        "    \"\"\"\n",
        "    # 手持ちのカードがハートの3とクラブのエースの場合、21以下の最高得点は14\n",
        "    assert score(['♠3', '♣A']) == 14\n",
        "    # 以下にテストケースを追加せよ\n",
        "    assert score(['♣4','♥2']) == 6\n",
        "    assert score(['K','J']) == 20"
      ]
    },
    {
      "cell_type": "markdown",
      "metadata": {
        "id": "7I4L1gnVMnXH"
      },
      "source": [
        "#### Step 2"
      ]
    },
    {
      "cell_type": "markdown",
      "metadata": {
        "id": "_DuWS9ZwMnXH"
      },
      "source": [
        "`score()`を完成させよ。"
      ]
    },
    {
      "cell_type": "code",
      "execution_count": 27,
      "metadata": {
        "id": "mIgbhkCXMnXH",
        "colab": {
          "base_uri": "https://localhost:8080/",
          "height": 106
        },
        "outputId": "8234c2f3-9b08-42e6-93af-5c8ad5f549c4"
      },
      "outputs": [
        {
          "output_type": "error",
          "ename": "IndentationError",
          "evalue": "unindent does not match any outer indentation level (<tokenize>, line 16)",
          "traceback": [
            "\u001b[0;36m  File \u001b[0;32m\"<tokenize>\"\u001b[0;36m, line \u001b[0;32m16\u001b[0m\n\u001b[0;31m    return int(card[1])\u001b[0m\n\u001b[0m    ^\u001b[0m\n\u001b[0;31mIndentationError\u001b[0m\u001b[0;31m:\u001b[0m unindent does not match any outer indentation level\n"
          ]
        }
      ],
      "source": [
        "def score(cards):\n",
        "    \"\"\"\n",
        "    手持ちのカードの得点を計算する\n",
        "\n",
        "    Parameters:\n",
        "        cards (list): 手持ちのカード\n",
        "\n",
        "    Returns:\n",
        "        int: 得点\n",
        "    \"\"\"\n",
        "        if card[1] in ['J','Q','K']:\n",
        "          return 10\n",
        "        elif card[1] == 'A':\n",
        "          return 11\n",
        "        else:\n",
        "      return int(card[1])\n",
        ""
      ]
    },
    {
      "cell_type": "markdown",
      "metadata": {
        "id": "j63ux3orMnXH"
      },
      "source": [
        "#### Step 3"
      ]
    },
    {
      "cell_type": "markdown",
      "metadata": {
        "id": "4AStIkkCMnXI"
      },
      "source": [
        "以下を実行して、少なくともテストケースに対して`score()`が正しいことを確かめよ。"
      ]
    },
    {
      "cell_type": "code",
      "execution_count": 24,
      "metadata": {
        "id": "TMjBHxNlMnXO",
        "outputId": "1e3d73fa-4084-47b7-e262-38013ebc7f81",
        "colab": {
          "base_uri": "https://localhost:8080/",
          "height": 304
        }
      },
      "outputs": [
        {
          "output_type": "error",
          "ename": "AssertionError",
          "evalue": "",
          "traceback": [
            "\u001b[0;31m---------------------------------------------------------------------------\u001b[0m",
            "\u001b[0;31mAssertionError\u001b[0m                            Traceback (most recent call last)",
            "\u001b[0;32m<ipython-input-24-3ba58b4f281b>\u001b[0m in \u001b[0;36m<cell line: 2>\u001b[0;34m()\u001b[0m\n\u001b[1;32m      1\u001b[0m \u001b[0;31m# このセルは決して書き換えたり消したりしないこと\u001b[0m\u001b[0;34m\u001b[0m\u001b[0;34m\u001b[0m\u001b[0m\n\u001b[0;32m----> 2\u001b[0;31m \u001b[0mrun_test\u001b[0m\u001b[0;34m(\u001b[0m\u001b[0mtest_score\u001b[0m\u001b[0;34m)\u001b[0m\u001b[0;34m\u001b[0m\u001b[0;34m\u001b[0m\u001b[0m\n\u001b[0m",
            "\u001b[0;32m<ipython-input-2-304513c78972>\u001b[0m in \u001b[0;36mrun_test\u001b[0;34m(t)\u001b[0m\n\u001b[1;32m      7\u001b[0m     \"\"\"\n\u001b[1;32m      8\u001b[0m     \u001b[0;32mif\u001b[0m \u001b[0;32mnot\u001b[0m \u001b[0;34m(\u001b[0m\u001b[0;34m'GRADING'\u001b[0m \u001b[0;32min\u001b[0m \u001b[0mos\u001b[0m\u001b[0;34m.\u001b[0m\u001b[0menviron\u001b[0m\u001b[0;34m)\u001b[0m\u001b[0;34m:\u001b[0m\u001b[0;34m\u001b[0m\u001b[0;34m\u001b[0m\u001b[0m\n\u001b[0;32m----> 9\u001b[0;31m         \u001b[0mt\u001b[0m\u001b[0;34m(\u001b[0m\u001b[0;34m)\u001b[0m\u001b[0;34m\u001b[0m\u001b[0;34m\u001b[0m\u001b[0m\n\u001b[0m",
            "\u001b[0;32m<ipython-input-17-fd9f9cd203a4>\u001b[0m in \u001b[0;36mtest_score\u001b[0;34m()\u001b[0m\n\u001b[1;32m      4\u001b[0m     \"\"\"\n\u001b[1;32m      5\u001b[0m     \u001b[0;31m# 手持ちのカードがハートの3とクラブのエースの場合、21以下の最高得点は14\u001b[0m\u001b[0;34m\u001b[0m\u001b[0;34m\u001b[0m\u001b[0m\n\u001b[0;32m----> 6\u001b[0;31m     \u001b[0;32massert\u001b[0m \u001b[0mscore\u001b[0m\u001b[0;34m(\u001b[0m\u001b[0;34m[\u001b[0m\u001b[0;34m'♠3'\u001b[0m\u001b[0;34m,\u001b[0m \u001b[0;34m'♣A'\u001b[0m\u001b[0;34m]\u001b[0m\u001b[0;34m)\u001b[0m \u001b[0;34m==\u001b[0m \u001b[0;36m14\u001b[0m\u001b[0;34m\u001b[0m\u001b[0;34m\u001b[0m\u001b[0m\n\u001b[0m\u001b[1;32m      7\u001b[0m     \u001b[0;31m# 以下にテストケースを追加せよ\u001b[0m\u001b[0;34m\u001b[0m\u001b[0;34m\u001b[0m\u001b[0m\n\u001b[1;32m      8\u001b[0m     \u001b[0;32massert\u001b[0m \u001b[0mscore\u001b[0m\u001b[0;34m(\u001b[0m\u001b[0;34m[\u001b[0m\u001b[0;34m'♣4'\u001b[0m\u001b[0;34m,\u001b[0m\u001b[0;34m'♥2'\u001b[0m\u001b[0;34m]\u001b[0m\u001b[0;34m)\u001b[0m \u001b[0;34m==\u001b[0m \u001b[0;36m6\u001b[0m\u001b[0;34m\u001b[0m\u001b[0;34m\u001b[0m\u001b[0m\n",
            "\u001b[0;31mAssertionError\u001b[0m: "
          ]
        }
      ],
      "source": [
        "# このセルは決して書き換えたり消したりしないこと\n",
        "run_test(test_score)"
      ]
    },
    {
      "cell_type": "markdown",
      "metadata": {
        "id": "xmoqIazjMnXO"
      },
      "source": [
        "### Q3-2"
      ]
    },
    {
      "cell_type": "markdown",
      "metadata": {
        "id": "USUMicGTMnXP"
      },
      "source": [
        "プレイヤとディーラーの得点が与えられた時、以下のルールにしたがって文字列を返す関数`judge()`を完成させよ。\n",
        "- プレイヤがbust: 'The dealer wins!'\n",
        "- ディーラーがbust: 'You win!'\n",
        "- プレイヤの得点がディーラーの得点より大きい: 'You win!'\n",
        "- ディーラーの得点がプレイヤの得点より大きい: 'The dealer wins!'\n",
        "- 上記以外: 'The game ended in a draw.'"
      ]
    },
    {
      "cell_type": "code",
      "execution_count": 28,
      "metadata": {
        "id": "zdohxbtDMnXP"
      },
      "outputs": [],
      "source": [
        "# judge()が返すべき文字列を定義。書き換えないこと。\n",
        "player_win_message = 'You win!'\n",
        "dealer_win_message = 'The dealer wins!'\n",
        "draw_game_message = 'The game ended in a draw.'"
      ]
    },
    {
      "cell_type": "markdown",
      "metadata": {
        "id": "s5laj2_pMnXP"
      },
      "source": [
        "#### Step 1"
      ]
    },
    {
      "cell_type": "markdown",
      "metadata": {
        "id": "YWrIqESxMnXP"
      },
      "source": [
        "`judge()`に対するテストケースを考え、`test_judge()`を完成させよ。"
      ]
    },
    {
      "cell_type": "code",
      "execution_count": 29,
      "metadata": {
        "id": "QRc3aV1cMnXP"
      },
      "outputs": [],
      "source": [
        "def test_judge():\n",
        "    \"\"\"\n",
        "    judge()をテストする\n",
        "    \"\"\"\n",
        "    assert judge(21, 21) == draw_game_message\n",
        "    # 以下にテストケースを追加せよ\n",
        "    assert judge(21,15) == player_win_message\n",
        "    assert judge(10,15) == dealer_win_message\n",
        "    assert judge(25,22) == draw_game_message"
      ]
    },
    {
      "cell_type": "markdown",
      "metadata": {
        "id": "JQvuNpNFMnXP"
      },
      "source": [
        "#### Step 2"
      ]
    },
    {
      "cell_type": "markdown",
      "metadata": {
        "id": "GkprvzoaMnXQ"
      },
      "source": [
        "`judge()`を完成させよ。"
      ]
    },
    {
      "cell_type": "code",
      "execution_count": 30,
      "metadata": {
        "id": "6h7HA_aSMnXQ"
      },
      "outputs": [],
      "source": [
        "def judge(player_score, dealer_score):\n",
        "    \"\"\"\n",
        "    勝者判定をする\n",
        "\n",
        "    Parameters:\n",
        "        player_score (int): プレイヤの得点\n",
        "        dealer_score (int): ディーラーの得点\n",
        "\n",
        "    Returns:\n",
        "        str: player_win_message, dealer_win_message, draw_game_messageのいずれか\n",
        "    \"\"\"\n",
        "    if player_score > 21 and dealer_score > 21:\n",
        "      return draw_game_message\n",
        "    elif dealer_score > 21:\n",
        "      return player_win_message\n",
        "    elif player_score >21:\n",
        "      return dealer_win_message\n",
        "    elif player_score > dealer_score:\n",
        "      return player_win_message\n",
        "    elif player_score == dealer_score:\n",
        "      return draw_game_message\n",
        "    else:\n",
        "      return dealer_win_message"
      ]
    },
    {
      "cell_type": "markdown",
      "metadata": {
        "id": "L8dq1zPLMnXQ"
      },
      "source": [
        "#### Step 3"
      ]
    },
    {
      "cell_type": "markdown",
      "metadata": {
        "id": "fnYEL0hJMnXQ"
      },
      "source": [
        "以下を実行して、少なくともテストケースに対して`judge()`が正しいことを確かめよ。"
      ]
    },
    {
      "cell_type": "code",
      "execution_count": 31,
      "metadata": {
        "id": "kjQX2GZ_MnXQ"
      },
      "outputs": [],
      "source": [
        "# このセルは決して書き換えたり消したりしないこと\n",
        "run_test(test_judge)"
      ]
    },
    {
      "cell_type": "markdown",
      "metadata": {
        "id": "wQQgxapTMnXQ"
      },
      "source": [
        "### Blackjackで遊ぶ"
      ]
    },
    {
      "cell_type": "markdown",
      "metadata": {
        "id": "2oXV7207MnXQ"
      },
      "source": [
        "`score()`関数と`judge()`関数が完成したら、以下を実行することでblackjackで遊ぶことができる。"
      ]
    },
    {
      "cell_type": "code",
      "execution_count": 32,
      "metadata": {
        "colab": {
          "base_uri": "https://localhost:8080/"
        },
        "id": "ocUcWWAaMnXR",
        "outputId": "874d7c5f-4bd6-4cb6-b849-15291e96378f"
      },
      "outputs": [
        {
          "output_type": "stream",
          "name": "stdout",
          "text": [
            "--2024-06-12 03:00:08--  https://docs.google.com/uc?export=download&id=1D8qyuD3A8mNFdQaJ-YzyMUItYw_go1ys\n",
            "Resolving docs.google.com (docs.google.com)... 142.251.2.101, 142.251.2.102, 142.251.2.100, ...\n",
            "Connecting to docs.google.com (docs.google.com)|142.251.2.101|:443... connected.\n",
            "HTTP request sent, awaiting response... 303 See Other\n",
            "Location: https://drive.usercontent.google.com/download?id=1D8qyuD3A8mNFdQaJ-YzyMUItYw_go1ys&export=download [following]\n",
            "--2024-06-12 03:00:08--  https://drive.usercontent.google.com/download?id=1D8qyuD3A8mNFdQaJ-YzyMUItYw_go1ys&export=download\n",
            "Resolving drive.usercontent.google.com (drive.usercontent.google.com)... 142.251.2.132, 2607:f8b0:4023:c0d::84\n",
            "Connecting to drive.usercontent.google.com (drive.usercontent.google.com)|142.251.2.132|:443... connected.\n",
            "HTTP request sent, awaiting response... 200 OK\n",
            "Length: 971 [application/octet-stream]\n",
            "Saving to: ‘blackjack.7z’\n",
            "\n",
            "blackjack.7z        100%[===================>]     971  --.-KB/s    in 0s      \n",
            "\n",
            "2024-06-12 03:00:09 (42.5 MB/s) - ‘blackjack.7z’ saved [971/971]\n",
            "\n",
            "\n",
            "7-Zip [64] 16.02 : Copyright (c) 1999-2016 Igor Pavlov : 2016-05-21\n",
            "p7zip Version 16.02 (locale=en_US.UTF-8,Utf16=on,HugeFiles=on,64 bits,2 CPUs Intel(R) Xeon(R) CPU @ 2.20GHz (406F0),ASM,AES-NI)\n",
            "\n",
            "Scanning the drive for archives:\n",
            "  0M Scan\b\b\b\b\b\b\b\b\b         \b\b\b\b\b\b\b\b\b1 file, 971 bytes (1 KiB)\n",
            "\n",
            "Extracting archive: blackjack.7z\n",
            "--\n",
            "Path = blackjack.7z\n",
            "Type = 7z\n",
            "Physical Size = 971\n",
            "Headers Size = 130\n",
            "Method = LZMA2:12\n",
            "Solid = -\n",
            "Blocks = 1\n",
            "\n",
            "  0%\b\b\b\b    \b\b\b\bEverything is Ok\n",
            "\n",
            "Size:       2740\n",
            "Compressed: 971\n"
          ]
        }
      ],
      "source": [
        "# 必要なライブラリをダウンロード&読み込み\n",
        "!wget --no-check-certificate -O blackjack.7z \"https://docs.google.com/uc?export=download&id=1D8qyuD3A8mNFdQaJ-YzyMUItYw_go1ys\"\n",
        "!7z x blackjack.7z\n",
        "import blackjack"
      ]
    },
    {
      "cell_type": "code",
      "execution_count": 33,
      "metadata": {
        "id": "ppgQDbEhMnXR",
        "outputId": "7fded79d-610d-4809-a7f4-fe26fe085fa5",
        "colab": {
          "base_uri": "https://localhost:8080/"
        }
      },
      "outputs": [
        {
          "output_type": "stream",
          "name": "stdout",
          "text": [
            "WELCOME TO BLACKJACK!\n",
            "\n",
            "The dealer is showing a ♠K\n",
            "You have ['♠4', '♣4'] for a total of ♣4\n",
            "Do you want to [H]it, [S]tand, or [Q]uit: Q\n",
            "Bye!\n"
          ]
        }
      ],
      "source": [
        "# play Blackjack\n",
        "blackjack.game(score, judge)"
      ]
    },
    {
      "cell_type": "code",
      "source": [],
      "metadata": {
        "id": "Isb0amqhY4Rd"
      },
      "execution_count": null,
      "outputs": []
    }
  ],
  "metadata": {
    "language_info": {
      "name": "python"
    },
    "colab": {
      "provenance": [],
      "include_colab_link": true
    },
    "kernelspec": {
      "name": "python3",
      "display_name": "Python 3"
    }
  },
  "nbformat": 4,
  "nbformat_minor": 0
}