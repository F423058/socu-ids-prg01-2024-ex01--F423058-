{
  "nbformat": 4,
  "nbformat_minor": 0,
  "metadata": {
    "colab": {
      "provenance": [],
      "authorship_tag": "ABX9TyN46DPFWtGUjYL0CzByY+in",
      "include_colab_link": true
    },
    "kernelspec": {
      "name": "python3",
      "display_name": "Python 3"
    },
    "language_info": {
      "name": "python"
    }
  },
  "cells": [
    {
      "cell_type": "markdown",
      "metadata": {
        "id": "view-in-github",
        "colab_type": "text"
      },
      "source": [
        "<a href=\"https://colab.research.google.com/github/F423058/socu-ids-prg01-2024-ex01--F423058-/blob/main/server_client.ipynb\" target=\"_parent\"><img src=\"https://colab.research.google.com/assets/colab-badge.svg\" alt=\"Open In Colab\"/></a>"
      ]
    },
    {
      "cell_type": "markdown",
      "source": [
        "このプログラムは、ユーザーが入力したメッセージをサーバーに送信し、サーバーからの応答を受け取って表示するプログラムである。"
      ],
      "metadata": {
        "id": "Iwbyl60yix4P"
      }
    },
    {
      "cell_type": "code",
      "execution_count": 8,
      "metadata": {
        "id": "DbzFuu5rcrWF"
      },
      "outputs": [],
      "source": [
        "#必要なライブラリのインポート\n",
        "import socket\n",
        "import threading\n",
        "import time"
      ]
    },
    {
      "cell_type": "code",
      "source": [
        "import socket\n",
        "\n",
        "def server_program():\n",
        "    # ソケットを作成（IPv4アドレスを使用し、TCP通信を行う）\n",
        "    server_socket = socket.socket(socket.AF_INET, socket.SOCK_STREAM)\n",
        "\n",
        "    # サーバーのIPアドレスとポート番号を指定してバインド\n",
        "    server_socket.bind(('127.0.0.1', 12345))\n",
        "\n",
        "    # クライアントからの接続を1つまで待ち受ける（待ち行列の最大数を指定）\n",
        "    server_socket.listen(1)\n",
        "    print(\"Server is listening...\")\n",
        "\n",
        "    # クライアントからの接続を受け入れる\n",
        "    conn, addr = server_socket.accept()\n",
        "    print(f\"Connection from {addr}\")\n",
        "\n",
        "    while True:\n",
        "        # クライアントからのデータを受信（最大1024バイト）\n",
        "        data = conn.recv(1024).decode()\n",
        "\n",
        "        # クライアントが接続を切ったならループを終了\n",
        "        if not data:\n",
        "            break\n",
        "\n",
        "        # 受信したデータを表示\n",
        "        print(f\"Received from client: {data}\")\n",
        "\n",
        "        # クライアントにデータをエコーバック（送り返す）\n",
        "        conn.send(data.encode())\n",
        "\n",
        "    # クライアントとの接続を閉じる\n",
        "    conn.close()\n",
        "\n",
        "    # サーバーソケットを閉じる\n",
        "    server_socket.close()\n"
      ],
      "metadata": {
        "id": "-NnJNuiAgvoM"
      },
      "execution_count": 9,
      "outputs": []
    },
    {
      "cell_type": "code",
      "source": [
        "import socket\n",
        "\n",
        "def client_program():\n",
        "    # ソケットを作成（IPv4アドレスを使用し、TCP通信を行う）\n",
        "    client_socket = socket.socket(socket.AF_INET, socket.SOCK_STREAM)\n",
        "\n",
        "    # サーバーのIPアドレスとポート番号に接続\n",
        "    client_socket.connect(('127.0.0.1', 12345))\n",
        "\n",
        "    while True:\n",
        "        # ユーザーからの入力を取得\n",
        "        message = input(\"Enter message to send to server: \")\n",
        "\n",
        "        # メッセージをエンコードしてサーバーに送信\n",
        "        client_socket.send(message.encode())\n",
        "\n",
        "        # サーバーからのデータを受信（最大1024バイト）\n",
        "        data = client_socket.recv(1024).decode()\n",
        "\n",
        "        # 受信したデータを表示\n",
        "        print(f\"Received from server: {data}\")\n",
        "\n",
        "        # ユーザーが「exit」と入力した場合、ループを終了\n",
        "        if message.lower() == 'exit':\n",
        "            break\n",
        "\n",
        "    # ソケットを閉じる\n",
        "    client_socket.close()\n"
      ],
      "metadata": {
        "id": "Par1PdRghIYh"
      },
      "execution_count": 10,
      "outputs": []
    },
    {
      "cell_type": "code",
      "source": [
        "# サーバーを別のスレッドで実行\n",
        "server_thread = threading.Thread(target=server_program)\n",
        "server_thread.start()\n",
        "\n",
        "# サーバーが起動するのを待つ\n",
        "time.sleep(1)\n",
        "\n",
        "# クライアントプログラムを実行\n",
        "client_program()\n",
        "\n",
        "# スレッドが終了するのを待つ\n",
        "server_thread.join()\n"
      ],
      "metadata": {
        "colab": {
          "base_uri": "https://localhost:8080/"
        },
        "id": "EfMoqtuae5J0",
        "outputId": "19d75918-7511-4f00-b7ef-25a62e75bbef"
      },
      "execution_count": 11,
      "outputs": [
        {
          "output_type": "stream",
          "name": "stdout",
          "text": [
            "Server is listening...\n",
            "Connection from ('127.0.0.1', 52712)\n",
            "Enter message to send to server: aiu\n",
            "Received from client: aiu\n",
            "Received from server: aiu\n",
            "Enter message to send to server: exit\n",
            "Received from client: exit\n",
            "Received from server: exit\n"
          ]
        }
      ]
    }
  ]
}