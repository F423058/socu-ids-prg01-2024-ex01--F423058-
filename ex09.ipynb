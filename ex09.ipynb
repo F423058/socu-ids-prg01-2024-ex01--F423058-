{
  "cells": [
    {
      "cell_type": "markdown",
      "metadata": {
        "id": "view-in-github",
        "colab_type": "text"
      },
      "source": [
        "<a href=\"https://colab.research.google.com/github/F423058/socu-ids-prg01-2024-ex01--F423058-/blob/main/ex09.ipynb\" target=\"_parent\"><img src=\"https://colab.research.google.com/assets/colab-badge.svg\" alt=\"Open In Colab\"/></a>"
      ]
    },
    {
      "cell_type": "markdown",
      "metadata": {
        "id": "rsGP3ZUJUU2C"
      },
      "source": [
        "# 第9回課題"
      ]
    },
    {
      "cell_type": "code",
      "execution_count": 34,
      "metadata": {
        "id": "kQ37giqzUU2F"
      },
      "outputs": [],
      "source": [
        "# このセルは決して書き換えたり消したりしないこと\n",
        "import os\n",
        "\n",
        "def local_run(t):\n",
        "    \"\"\"\n",
        "    自動採点を妨げずにテストを実行するための補助関数。\n",
        "    \"\"\"\n",
        "    if not ('GRADING' in os.environ):\n",
        "        t()"
      ]
    },
    {
      "cell_type": "markdown",
      "metadata": {
        "id": "c0WXhiHhUU2I"
      },
      "source": [
        "## Q1. 五数要約"
      ]
    },
    {
      "cell_type": "markdown",
      "metadata": {
        "id": "JxH3VRrXUU2I"
      },
      "source": [
        "数値のリストを引数として受け取り、その5数要約を計算して辞書として返す関数`calculate_five_number_summary()`を作成せよ。5数要約は、次のキーを持つ辞書で表すものとする：'min', 'Q1', 'median', 'Q3', 'max'。\n",
        "\n",
        "5数要約とは、データセットを要約するための統計的手法で、最小値(min)、第1四分位数(Q1)、中央値(median)、第3四分位数(Q3)、最大値(max)の5つの数値からなる。これらの数値は、データの分布、中心、スプレッドを理解するのに役立つ。"
      ]
    },
    {
      "cell_type": "markdown",
      "metadata": {
        "id": "C0BiSJNLUU2I"
      },
      "source": [
        "### Step 1"
      ]
    },
    {
      "cell_type": "markdown",
      "metadata": {
        "id": "KIucfQG0UU2I"
      },
      "source": [
        "`calculate_five_number_summary()`のテストケースを考え、`test_calculate_five_number_summary()`を完成させよ。"
      ]
    },
    {
      "cell_type": "code",
      "execution_count": 41,
      "metadata": {
        "id": "SjTOsTUJUU2I"
      },
      "outputs": [],
      "source": [
        "def test_calculate_five_number_summary():\n",
        "    \"\"\"\n",
        "    calculate_five_number_summary()をテストする\n",
        "    \"\"\"\n",
        "    assert calculate_five_number_summary([1, 2, 3, 4, 5, 6, 7, 8, 9, 10]) == {'min': 1, 'Q1': 3, 'median': 5.5, 'Q3': 8, 'max': 10}\n",
        "    # 以下にテストケースを追加せよ\n",
        "    assert calculate_five_number_summary([10,20,30,40,50]) == {'min': 10, 'Q1': 15, 'median': 30, 'Q3': 45, 'max': 50}"
      ]
    },
    {
      "cell_type": "markdown",
      "metadata": {
        "id": "7kmWEDGOUU2I"
      },
      "source": [
        "### Step 2"
      ]
    },
    {
      "cell_type": "markdown",
      "metadata": {
        "id": "zUwtRMESUU2I"
      },
      "source": [
        "`calculate_five_number_summary()`を完成させよ。"
      ]
    },
    {
      "cell_type": "code",
      "execution_count": 36,
      "metadata": {
        "id": "F3vB0qYDUU2I"
      },
      "outputs": [],
      "source": [
        "def calculate_five_number_summary(data_list):\n",
        "    \"\"\"\n",
        "    与えられたデータの5数要約を作成する\n",
        "\n",
        "    Parameters:\n",
        "        data_list (list): 数値のリスト\n",
        "\n",
        "    Returns:\n",
        "        dict: 与えられたデータの5数要約を表した辞書\n",
        "    \"\"\"\n",
        "    data_list.sort()\n",
        "    n = len(data_list)\n",
        "\n",
        "    def median(data):\n",
        "        length = len(data)\n",
        "        if length % 2 == 0:\n",
        "            return (data[length // 2 - 1] + data[length // 2]) / 2\n",
        "        else:\n",
        "            return data[length // 2]\n",
        "\n",
        "    min_val = data_list[0]\n",
        "    max_val = data_list[-1]\n",
        "    median_val = median(data_list)\n",
        "\n",
        "    # 第1四分位数と第3四分位数の計算\n",
        "    if n % 2 == 0:\n",
        "        q1 = median(data_list[:n // 2])\n",
        "        q3 = median(data_list[n // 2:])\n",
        "    else:\n",
        "        q1 = median(data_list[:n // 2])\n",
        "        q3 = median(data_list[n // 2 + 1:])\n",
        "\n",
        "    return {\n",
        "        'min': min_val,\n",
        "        'Q1': q1,\n",
        "        'median': median_val,\n",
        "        'Q3': q3,\n",
        "        'max': max_val\n",
        "    }"
      ]
    },
    {
      "cell_type": "markdown",
      "metadata": {
        "id": "PYSfn8kJUU2I"
      },
      "source": [
        "### Step 3"
      ]
    },
    {
      "cell_type": "markdown",
      "metadata": {
        "id": "JOOEGE6YUU2I"
      },
      "source": [
        "以下を実行して、少なくともテストケースに対して`calculate_five_number_summary()`が正しいことを確認せよ。"
      ]
    },
    {
      "cell_type": "code",
      "execution_count": 42,
      "metadata": {
        "id": "jFvvGawnUU2I"
      },
      "outputs": [],
      "source": [
        "# このセルは決して編集したり削除したりしないこと\n",
        "local_run(test_calculate_five_number_summary)"
      ]
    },
    {
      "cell_type": "markdown",
      "metadata": {
        "id": "xKCTGnt4UU2G"
      },
      "source": [
        "## Q2. 逆引き辞書の自動作成"
      ]
    },
    {
      "cell_type": "markdown",
      "metadata": {
        "id": "64krEUFuUU2G"
      },
      "source": [
        "辞書を受け取り、その逆引き辞書を返す関数`reverse_dict()`を完成させよ。"
      ]
    },
    {
      "cell_type": "markdown",
      "metadata": {
        "id": "LfD0IH5PUU2G"
      },
      "source": [
        "### 説明: 逆引き辞書"
      ]
    },
    {
      "cell_type": "markdown",
      "metadata": {
        "id": "hsgHql3lUU2H"
      },
      "source": [
        "逆引き辞書とは、元の辞書のキーと値を逆にした辞書のことである。例として、以下の表に従い、空港名から国籍を取得する辞書を考える。\n",
        "\n",
        "| 空港名 | 国籍 |\n",
        "| --- | --- |\n",
        "| 成田国際空港 | 日本 |\n",
        "| 羽田空港 | 日本 |\n",
        "| 関西国際空港 | 日本 |\n",
        "| ロサンゼルス国際空港 | アメリカ |\n",
        "| ジョン・F・ケネディ国際空港 | アメリカ |\n",
        "| オヘア国際空港 | アメリカ |\n",
        "| フランクフルト空港 | ドイツ |\n",
        "| ミュンヘン空港 | ドイツ |\n",
        "| シャルル・ド・ゴール空港 | フランス |\n",
        "| オルリー空港 | フランス |\n",
        "\n",
        "\n",
        "空港名から国籍を取得する辞書は以下のようになる。\n",
        "\n",
        "```python\n",
        "airport_dict = {\n",
        "    \"成田国際空港\": \"日本\",\n",
        "    \"羽田空港\": \"日本\",\n",
        "    \"関西国際空港\": \"日本\",\n",
        "    \"ロサンゼルス国際空港\": \"アメリカ\",\n",
        "    \"ジョン・F・ケネディ国際空港\": \"アメリカ\",\n",
        "    \"オヘア国際空港\": \"アメリカ\",\n",
        "    \"フランクフルト空港\": \"ドイツ\",\n",
        "    \"ミュンヘン空港\": \"ドイツ\",\n",
        "    \"シャルル・ド・ゴール空港\": \"フランス\",\n",
        "    \"オルリー空港\": \"フランス\"\n",
        "}\n",
        "```\n",
        "\n",
        "この`airport_dict`の逆引き辞書は、国籍から空港名を取得する辞書であり、以下のようになる。\n",
        "\n",
        "```python\n",
        "reverse_airport_dict = {\n",
        "    \"日本\": [\"成田国際空港\", \"羽田空港\", \"関西国際空港\"],\n",
        "    \"アメリカ\": [\"ロサンゼルス国際空港\", \"ジョン・F・ケネディ国際空港\", \"オヘア国際空港\"],\n",
        "    \"ドイツ\": [\"フランクフルト空港\", \"ミュンヘン空港\"],\n",
        "    \"フランス\": [\"シャルル・ド・ゴール空港\", \"オルリー空港\"]\n",
        "}\n",
        "```\n",
        "辞書のキーは一意であるが、値は一意であるとは限らない。したがって一般的に、逆引き辞書の値は、元の辞書のキーのリストになる。\n",
        "\n",
        "正引きだけでなく逆引きも必要になる局面は数多く存在する。以下はその例である。\n",
        "- 電話番号 $\\Leftrightarrow$ 相手の名前\n",
        "- IPアドレス $\\Leftrightarrow$ ドメイン名\n",
        "- 郵便番号 $\\Leftrightarrow$ 住所\n",
        "\n",
        "空港と国籍の例のように、正引き用の辞書`airport_dict`を作った後、逆引き用の辞書`reverse_airport_dict`を別に作成するのはバカバカしく、大変である。効率化のため、プログラミングの知識を活かして逆引き辞書の作成を自動化するのが本課題の目的である。\n"
      ]
    },
    {
      "cell_type": "markdown",
      "metadata": {
        "id": "JmrQAbxxUU2H"
      },
      "source": [
        "### Step 1"
      ]
    },
    {
      "cell_type": "markdown",
      "metadata": {
        "id": "2Mo6FmukUU2H"
      },
      "source": [
        "`reverse_dict()`のテストケースを考え、`test_reverse_dict()`を完成させよ。"
      ]
    },
    {
      "cell_type": "code",
      "execution_count": 50,
      "metadata": {
        "id": "uHt-ZhgwUU2H"
      },
      "outputs": [],
      "source": [
        "def test_reverse_dict():\n",
        "    \"\"\"\n",
        "    reverse_dict()をテストする\n",
        "    \"\"\"\n",
        "    input_dict = {}\n",
        "    expected_output = {}\n",
        "    assert reverse_dict(input_dict) == expected_output"
      ]
    },
    {
      "cell_type": "markdown",
      "metadata": {
        "id": "gfPeVowaUU2H"
      },
      "source": [
        "### Step 2"
      ]
    },
    {
      "cell_type": "markdown",
      "metadata": {
        "id": "EyFKzj14UU2I"
      },
      "source": [
        "`reverse_dict()`を完成させよ。"
      ]
    },
    {
      "cell_type": "code",
      "execution_count": 48,
      "metadata": {
        "id": "BX5LaIQwUU2I"
      },
      "outputs": [],
      "source": [
        "def reverse_dict(d):\n",
        "    \"\"\"\n",
        "    入力辞書の逆引き辞書を作成する\n",
        "\n",
        "    Parameters:\n",
        "        d (dict): 入力の辞書\n",
        "\n",
        "    Returns:\n",
        "        dict: 辞書dの逆引き辞書\n",
        "    \"\"\"\n",
        "    reversed_dict = {}\n",
        "\n",
        "    for key, value in d.items():\n",
        "        if value in reversed_dict:\n",
        "            reversed_dict[value].append(key)\n",
        "        else:\n",
        "            reversed_dict[value] = [key]\n",
        "\n",
        "    return reversed_dict"
      ]
    },
    {
      "cell_type": "markdown",
      "metadata": {
        "id": "sw1VkPXDUU2I"
      },
      "source": [
        "### Step 3"
      ]
    },
    {
      "cell_type": "markdown",
      "metadata": {
        "id": "cfHZ3LT6UU2I"
      },
      "source": [
        "以下を実行して、少なくともテストケースに対して`reverse_dict()`が正しいことを確認せよ。"
      ]
    },
    {
      "cell_type": "code",
      "execution_count": 49,
      "metadata": {
        "id": "2PzqA1BRUU2I"
      },
      "outputs": [],
      "source": [
        "# このセルは決して編集したり削除したりしないこと\n",
        "local_run(test_reverse_dict)"
      ]
    },
    {
      "cell_type": "markdown",
      "metadata": {
        "id": "y9D0LJYiUU2I"
      },
      "source": [
        "## Q3. 単語の頻度計算"
      ]
    },
    {
      "cell_type": "markdown",
      "metadata": {
        "id": "6_e7BNt8UU2I"
      },
      "source": [
        "文章を単語のリストとして受け取り、各単語の頻度(=出現回数)を計算して辞書として返す関数`calculate_word_frequency()`を作成せよ。単語の頻度は、各単語がキーで、その頻度が値となる辞書で表すものとする。"
      ]
    },
    {
      "cell_type": "markdown",
      "metadata": {
        "id": "MAO0VwA3UU2J"
      },
      "source": [
        "### 詳細"
      ]
    },
    {
      "cell_type": "markdown",
      "metadata": {
        "id": "XTcsYdT0UU2J"
      },
      "source": [
        " 単語の頻度とは、その単語がテキスト中に何回出現するかを数えることである。これは、自然言語処理・テキストデータの分析において重要な手法の一つである。\n",
        "\n",
        "例として以下の英文を考える。\n",
        "\n",
        "> Tanjiro Kamado is a kind-hearted and intelligent boy who lives with his family in the mountains After his father's death, he became his family's breadwinner and travels to the nearby village to sell charcoal. One day, Tanjiro comes home to discover his family was slaughtered by a demon. His sister Nezuko is the sole survivor of the incident; though she has been transformed into a demon, Nezuko still shows signs of human emotion and thought. Following an encounter with Giyu Tomioka, the Water Hashira of the Demon Slayer Corps, Tanjiro is sent to train with Giyu's former instructor Sakonji Urokodaki in becoming a Demon Slayer and begins his quest to help Nezuko turn into a human again.\n",
        "\n",
        "この文章を単語のリストで表現すると以下のようになる。\n",
        "\n",
        "```python\n",
        "text = ['Tanjiro',  'Kamado',  'is',  'a',  'kind-hearted',  'and',  'intelligent',  'boy',  'who',  'lives',  'with',  'his',  'family',  'in',  'the',  'mountains',  'After',  'his',  'father',  \"'s\",  'death',  ',',  'he',  'became',  'his',  'family',  \"'s\",  'breadwinner',  'and',  'travels',  'to',  'the',  'nearby',  'village',  'to',  'sell',  'charcoal', '.', 'One',  'day',  ',',  'Tanjiro',  'comes',  'home',  'to',  'discover',  'his',  'family',  'was',  'slaughtered',  'by',  'a',  'demon', '.', 'His',  'sister',  'Nezuko',  'is',  'the',  'sole',  'survivor',  'of',  'the',  'incident',  ';',  'though',  'she',  'has',  'been',  'transformed',  'into',  'a',  'demon',  ',',  'Nezuko',  'still',  'shows',  'signs',  'of',  'human',  'emotion',  'and',  'thought', '.', 'Following',  'an',  'encounter',  'with',  'Giyu',  'Tomioka',  ',',  'the',  'Water',  'Hashira',  'of',  'the',  'Demon',  'Slayer',  'Corps',  ',',  'Tanjiro',  'is',  'sent',  'to',  'train',  'with',  'Giyu',  \"'s\",  'former',  'instructor',  'Sakonji',  'Urokodaki',  'in',  'becoming',  'a',  'Demon',  'Slayer',  'and',  'begins',  'his',  'quest',  'to',  'help',  'Nezuko',  'turn',  'into',  'a',  'human',  'again',  '.']\n",
        "```\n",
        "\n",
        "この文章における単語の頻度は以下の通りである。\n",
        "\n",
        "| word | freq |\n",
        "| --- | --- |\n",
        "| Tanjiro | 3 |\n",
        "| Kamado | 1 |\n",
        "| is | 3 |\n",
        "| a | 5 |\n",
        "| kind-hearted | 1 |\n",
        "| and | 4 |\n",
        "| intelligent | 1 |\n",
        "| boy | 1 |\n",
        "| who | 1 |\n",
        "| lives | 1 |\n",
        "| with | 3 |\n",
        "| his | 5 |\n",
        "| family | 3 |\n",
        "| in | 2 |\n",
        "| the | 6 |\n",
        "| mountains | 1 |\n",
        "| After | 1 |\n",
        "| father | 1 |\n",
        "| 's | 3 |\n",
        "| death | 1 |\n",
        "| , | 5 |\n",
        "| he | 1 |\n",
        "| became | 1 |\n",
        "| breadwinner | 1 |\n",
        "| travels | 1 |\n",
        "| to | 5 |\n",
        "| nearby | 1 |\n",
        "| village | 1 |\n",
        "| sell | 1 |\n",
        "| charcoal | 1 |\n",
        "| . | 4 |\n",
        "| One | 1 |\n",
        "| day | 1 |\n",
        "| comes | 1 |\n",
        "| home | 1 |\n",
        "| discover | 1 |\n",
        "| was | 1 |\n",
        "| slaughtered | 1 |\n",
        "| by | 1 |\n",
        "| demon | 2 |\n",
        "| His | 1 |\n",
        "| sister | 1 |\n",
        "| Nezuko | 3 |\n",
        "| sole | 1 |\n",
        "| survivor | 1 |\n",
        "| of | 3 |\n",
        "| incident | 1 |\n",
        "| ; | 1 |\n",
        "| though | 1 |\n",
        "| she | 1 |\n",
        "| has | 1 |\n",
        "| been | 1 |\n",
        "| transformed | 1 |\n",
        "| into | 2 |\n",
        "| still | 1 |\n",
        "| shows | 1 |\n",
        "| signs | 1 |\n",
        "| human | 2 |\n",
        "| emotion | 1 |\n",
        "| thought | 1 |\n",
        "| Following | 1 |\n",
        "| an | 1 |\n",
        "| encounter | 1 |\n",
        "| Giyu | 2 |\n",
        "| Tomioka | 1 |\n",
        "| Water | 1 |\n",
        "| Hashira | 1 |\n",
        "| Demon | 2 |\n",
        "| Slayer | 2 |\n",
        "| Corps | 1 |\n",
        "| sent | 1 |\n",
        "| train | 1 |\n",
        "| former | 1 |\n",
        "| instructor | 1 |\n",
        "| Sakonji | 1 |\n",
        "| Urokodaki | 1 |\n",
        "| becoming | 1 |\n",
        "| begins | 1 |\n",
        "| quest | 1 |\n",
        "| help | 1 |\n",
        "| turn | 1 |\n",
        "| again | 1 |\n",
        "\n",
        "したがって、`text`に対して`calculate_word_frequency()`が作る辞書を`d`とすると、以下が成立する。\n",
        "\n",
        "```python\n",
        "d['the'] == 6 # 'the'の頻度は6\n",
        "d['again'] == 1 # 'again'の頻度は1\n",
        "```"
      ]
    },
    {
      "cell_type": "markdown",
      "metadata": {
        "id": "kTNUL3fiUU2J"
      },
      "source": [
        "### Step 1"
      ]
    },
    {
      "cell_type": "markdown",
      "metadata": {
        "id": "clkB75FzUU2J"
      },
      "source": [
        "`calculate_word_frequency()`のテストケースを考え、`test_calculate_word_frequency()`を完成させよ。"
      ]
    },
    {
      "cell_type": "code",
      "execution_count": 79,
      "metadata": {
        "id": "El8FgOZAUU2J"
      },
      "outputs": [],
      "source": [
        "def test_calculate_word_frequency():\n",
        "    \"\"\"\n",
        "    calculate_word_frequency()をテストする\n",
        "    \"\"\"\n",
        "    text = ['Tanjiro', 'Kamado', 'is', 'a', 'kind-hearted', 'and', 'intelligent', 'boy', 'who', 'lives', 'with', 'his', 'family', 'in', 'the', 'mountains', 'After', 'his', 'father', \"'s\", 'death', ',', 'he', 'became', 'his', 'family', \"'s\", 'breadwinner', 'and', 'travels', 'to', 'the', 'nearby', 'village', 'to', 'sell', 'charcoal', '.', 'One', 'day', ',', 'Tanjiro', 'comes', 'home', 'to', 'discover', 'his', 'family', 'was', 'slaughtered', 'by', 'a', 'demon', '.', 'His', 'sister', 'Nezuko', 'is', 'the', 'sole', 'survivor', 'of', 'the', 'incident', ';', 'though', 'she', 'has', 'been', 'transformed', 'into', 'a', 'demon', ',', 'Nezuko', 'still', 'shows', 'signs', 'of', 'human', 'emotion', 'and', 'thought', '.', 'Following', 'an', 'encounter', 'with', 'Giyu', 'Tomioka', ',', 'the', 'Water', 'Hashira', 'of', 'the', 'Demon', 'Slayer', 'Corps', ',', 'Tanjiro', 'is', 'sent', 'to', 'train', 'with', 'Giyu', \"'s\", 'former', 'instructor', 'Sakonji', 'Urokodaki', 'in', 'becoming', 'a', 'Demon', 'Slayer', 'and', 'begins', 'his', 'quest', 'to', 'help', 'Nezuko', 'turn', 'into', 'a', 'human', 'again', '.']\n",
        "\n",
        "    word_frequency = test_calculate_word_frequency(text)\n",
        "    assert test_calculate_word_frequency['Tanjiro'] == 3"
      ]
    },
    {
      "cell_type": "markdown",
      "metadata": {
        "id": "Rpr2EnZOUU2J"
      },
      "source": [
        "### Step 2"
      ]
    },
    {
      "cell_type": "markdown",
      "metadata": {
        "id": "_dHHut_1UU2J"
      },
      "source": [
        "`calculate_word_frequency()`を完成させよ。"
      ]
    },
    {
      "cell_type": "code",
      "execution_count": 69,
      "metadata": {
        "id": "B43_CACSUU2J"
      },
      "outputs": [],
      "source": [
        "def calculate_word_frequency(text):\n",
        "    \"\"\"\n",
        "    与えられた文章について、単語の頻度辞書を作成する。\n",
        "\n",
        "    Parameters:\n",
        "        text (list): 単語を要素とするリストで表現された文章\n",
        "\n",
        "    Returns:\n",
        "        dict: 単語をキー、頻度を値とする辞書\n",
        "    \"\"\"\n",
        "    word_frequency = {}\n",
        "    for word in text:\n",
        "        if word in word_frequency:\n",
        "            word_frequency[word] += 1\n",
        "        else:\n",
        "            word_frequency[word] = 1\n",
        "    return word_frequency"
      ]
    },
    {
      "cell_type": "markdown",
      "metadata": {
        "id": "sI2zwtBCUU2J"
      },
      "source": [
        "以下を実行して、少なくともテストケースに対して`calculate_word_frequency()`が正しいことを確認せよ。"
      ]
    },
    {
      "cell_type": "code",
      "execution_count": 80,
      "metadata": {
        "id": "k6U5MqE4UU2J",
        "outputId": "45e28abc-581a-4757-b40e-8c4da45a504a",
        "colab": {
          "base_uri": "https://localhost:8080/",
          "height": 391
        }
      },
      "outputs": [
        {
          "output_type": "error",
          "ename": "TypeError",
          "evalue": "test_calculate_word_frequency() takes 0 positional arguments but 1 was given",
          "traceback": [
            "\u001b[0;31m---------------------------------------------------------------------------\u001b[0m",
            "\u001b[0;31mTypeError\u001b[0m                                 Traceback (most recent call last)",
            "\u001b[0;32m<ipython-input-80-2e885d52c694>\u001b[0m in \u001b[0;36m<cell line: 2>\u001b[0;34m()\u001b[0m\n\u001b[1;32m      1\u001b[0m \u001b[0;31m# このセルは決して編集したり削除したりしないこと\u001b[0m\u001b[0;34m\u001b[0m\u001b[0;34m\u001b[0m\u001b[0m\n\u001b[0;32m----> 2\u001b[0;31m \u001b[0mlocal_run\u001b[0m\u001b[0;34m(\u001b[0m\u001b[0mtest_calculate_word_frequency\u001b[0m\u001b[0;34m)\u001b[0m\u001b[0;34m\u001b[0m\u001b[0;34m\u001b[0m\u001b[0m\n\u001b[0m",
            "\u001b[0;32m<ipython-input-34-889d9c73fa38>\u001b[0m in \u001b[0;36mlocal_run\u001b[0;34m(t)\u001b[0m\n\u001b[1;32m      7\u001b[0m     \"\"\"\n\u001b[1;32m      8\u001b[0m     \u001b[0;32mif\u001b[0m \u001b[0;32mnot\u001b[0m \u001b[0;34m(\u001b[0m\u001b[0;34m'GRADING'\u001b[0m \u001b[0;32min\u001b[0m \u001b[0mos\u001b[0m\u001b[0;34m.\u001b[0m\u001b[0menviron\u001b[0m\u001b[0;34m)\u001b[0m\u001b[0;34m:\u001b[0m\u001b[0;34m\u001b[0m\u001b[0;34m\u001b[0m\u001b[0m\n\u001b[0;32m----> 9\u001b[0;31m         \u001b[0mt\u001b[0m\u001b[0;34m(\u001b[0m\u001b[0;34m)\u001b[0m\u001b[0;34m\u001b[0m\u001b[0;34m\u001b[0m\u001b[0m\n\u001b[0m",
            "\u001b[0;32m<ipython-input-79-71587d89e937>\u001b[0m in \u001b[0;36mtest_calculate_word_frequency\u001b[0;34m()\u001b[0m\n\u001b[1;32m      5\u001b[0m     \u001b[0mtext\u001b[0m \u001b[0;34m=\u001b[0m \u001b[0;34m[\u001b[0m\u001b[0;34m'Tanjiro'\u001b[0m\u001b[0;34m,\u001b[0m \u001b[0;34m'Kamado'\u001b[0m\u001b[0;34m,\u001b[0m \u001b[0;34m'is'\u001b[0m\u001b[0;34m,\u001b[0m \u001b[0;34m'a'\u001b[0m\u001b[0;34m,\u001b[0m \u001b[0;34m'kind-hearted'\u001b[0m\u001b[0;34m,\u001b[0m \u001b[0;34m'and'\u001b[0m\u001b[0;34m,\u001b[0m \u001b[0;34m'intelligent'\u001b[0m\u001b[0;34m,\u001b[0m \u001b[0;34m'boy'\u001b[0m\u001b[0;34m,\u001b[0m \u001b[0;34m'who'\u001b[0m\u001b[0;34m,\u001b[0m \u001b[0;34m'lives'\u001b[0m\u001b[0;34m,\u001b[0m \u001b[0;34m'with'\u001b[0m\u001b[0;34m,\u001b[0m \u001b[0;34m'his'\u001b[0m\u001b[0;34m,\u001b[0m \u001b[0;34m'family'\u001b[0m\u001b[0;34m,\u001b[0m \u001b[0;34m'in'\u001b[0m\u001b[0;34m,\u001b[0m \u001b[0;34m'the'\u001b[0m\u001b[0;34m,\u001b[0m \u001b[0;34m'mountains'\u001b[0m\u001b[0;34m,\u001b[0m \u001b[0;34m'After'\u001b[0m\u001b[0;34m,\u001b[0m \u001b[0;34m'his'\u001b[0m\u001b[0;34m,\u001b[0m \u001b[0;34m'father'\u001b[0m\u001b[0;34m,\u001b[0m \u001b[0;34m\"'s\"\u001b[0m\u001b[0;34m,\u001b[0m \u001b[0;34m'death'\u001b[0m\u001b[0;34m,\u001b[0m \u001b[0;34m','\u001b[0m\u001b[0;34m,\u001b[0m \u001b[0;34m'he'\u001b[0m\u001b[0;34m,\u001b[0m \u001b[0;34m'became'\u001b[0m\u001b[0;34m,\u001b[0m \u001b[0;34m'his'\u001b[0m\u001b[0;34m,\u001b[0m \u001b[0;34m'family'\u001b[0m\u001b[0;34m,\u001b[0m \u001b[0;34m\"'s\"\u001b[0m\u001b[0;34m,\u001b[0m \u001b[0;34m'breadwinner'\u001b[0m\u001b[0;34m,\u001b[0m \u001b[0;34m'and'\u001b[0m\u001b[0;34m,\u001b[0m \u001b[0;34m'travels'\u001b[0m\u001b[0;34m,\u001b[0m \u001b[0;34m'to'\u001b[0m\u001b[0;34m,\u001b[0m \u001b[0;34m'the'\u001b[0m\u001b[0;34m,\u001b[0m \u001b[0;34m'nearby'\u001b[0m\u001b[0;34m,\u001b[0m \u001b[0;34m'village'\u001b[0m\u001b[0;34m,\u001b[0m \u001b[0;34m'to'\u001b[0m\u001b[0;34m,\u001b[0m \u001b[0;34m'sell'\u001b[0m\u001b[0;34m,\u001b[0m \u001b[0;34m'charcoal'\u001b[0m\u001b[0;34m,\u001b[0m \u001b[0;34m'.'\u001b[0m\u001b[0;34m,\u001b[0m \u001b[0;34m'One'\u001b[0m\u001b[0;34m,\u001b[0m \u001b[0;34m'day'\u001b[0m\u001b[0;34m,\u001b[0m \u001b[0;34m','\u001b[0m\u001b[0;34m,\u001b[0m \u001b[0;34m'Tanjiro'\u001b[0m\u001b[0;34m,\u001b[0m \u001b[0;34m'comes'\u001b[0m\u001b[0;34m,\u001b[0m \u001b[0;34m'home'\u001b[0m\u001b[0;34m,\u001b[0m \u001b[0;34m'to'\u001b[0m\u001b[0;34m,\u001b[0m \u001b[0;34m'discover'\u001b[0m\u001b[0;34m,\u001b[0m \u001b[0;34m'his'\u001b[0m\u001b[0;34m,\u001b[0m \u001b[0...\n\u001b[1;32m      6\u001b[0m \u001b[0;34m\u001b[0m\u001b[0m\n\u001b[0;32m----> 7\u001b[0;31m     \u001b[0mword_frequency\u001b[0m \u001b[0;34m=\u001b[0m \u001b[0mtest_calculate_word_frequency\u001b[0m\u001b[0;34m(\u001b[0m\u001b[0mtext\u001b[0m\u001b[0;34m)\u001b[0m\u001b[0;34m\u001b[0m\u001b[0;34m\u001b[0m\u001b[0m\n\u001b[0m\u001b[1;32m      8\u001b[0m     \u001b[0;32massert\u001b[0m \u001b[0mtest_calculate_word_frequency\u001b[0m\u001b[0;34m[\u001b[0m\u001b[0;34m'Tanjiro'\u001b[0m\u001b[0;34m]\u001b[0m \u001b[0;34m==\u001b[0m \u001b[0;36m3\u001b[0m\u001b[0;34m\u001b[0m\u001b[0;34m\u001b[0m\u001b[0m\n",
            "\u001b[0;31mTypeError\u001b[0m: test_calculate_word_frequency() takes 0 positional arguments but 1 was given"
          ]
        }
      ],
      "source": [
        "# このセルは決して編集したり削除したりしないこと\n",
        "local_run(test_calculate_word_frequency)"
      ]
    },
    {
      "cell_type": "markdown",
      "metadata": {
        "id": "TIZF3j-hUU2M"
      },
      "source": [
        "## おまけ: タイピングゲーム"
      ]
    },
    {
      "cell_type": "markdown",
      "metadata": {
        "id": "0HHXy5KQUU2M"
      },
      "source": [
        "`calculate_five_number_summary()`および`calculate_word_frequency()`が完成したら、以下を実行することで、Pythonのキーワードをタイプするタイピングゲームができる。"
      ]
    },
    {
      "cell_type": "code",
      "execution_count": 51,
      "metadata": {
        "id": "nLmgcj5dUU2M",
        "outputId": "e0f2723a-ae47-4e68-cd40-e59cadfdc7f4",
        "colab": {
          "base_uri": "https://localhost:8080/"
        }
      },
      "outputs": [
        {
          "output_type": "stream",
          "name": "stdout",
          "text": [
            "--2024-06-21 12:27:26--  https://docs.google.com/uc?export=download&id=12xD2okl0lnmKGRTGyDN4pZoqoGjAUGVF\n",
            "Resolving docs.google.com (docs.google.com)... 108.177.12.101, 108.177.12.139, 108.177.12.138, ...\n",
            "Connecting to docs.google.com (docs.google.com)|108.177.12.101|:443... connected.\n",
            "HTTP request sent, awaiting response... 303 See Other\n",
            "Location: https://drive.usercontent.google.com/download?id=12xD2okl0lnmKGRTGyDN4pZoqoGjAUGVF&export=download [following]\n",
            "--2024-06-21 12:27:26--  https://drive.usercontent.google.com/download?id=12xD2okl0lnmKGRTGyDN4pZoqoGjAUGVF&export=download\n",
            "Resolving drive.usercontent.google.com (drive.usercontent.google.com)... 173.194.212.132, 2607:f8b0:400c:c0c::84\n",
            "Connecting to drive.usercontent.google.com (drive.usercontent.google.com)|173.194.212.132|:443... connected.\n",
            "HTTP request sent, awaiting response... 200 OK\n",
            "Length: 1004 [application/octet-stream]\n",
            "Saving to: ‘typing.7z’\n",
            "\n",
            "typing.7z           100%[===================>]    1004  --.-KB/s    in 0s      \n",
            "\n",
            "2024-06-21 12:27:27 (15.6 MB/s) - ‘typing.7z’ saved [1004/1004]\n",
            "\n",
            "\n",
            "7-Zip [64] 16.02 : Copyright (c) 1999-2016 Igor Pavlov : 2016-05-21\n",
            "p7zip Version 16.02 (locale=en_US.UTF-8,Utf16=on,HugeFiles=on,64 bits,2 CPUs Intel(R) Xeon(R) CPU @ 2.20GHz (406F0),ASM,AES-NI)\n",
            "\n",
            "Scanning the drive for archives:\n",
            "  0M Scan\b\b\b\b\b\b\b\b\b         \b\b\b\b\b\b\b\b\b1 file, 1004 bytes (1 KiB)\n",
            "\n",
            "Extracting archive: typing.7z\n",
            "--\n",
            "Path = typing.7z\n",
            "Type = 7z\n",
            "Physical Size = 1004\n",
            "Headers Size = 138\n",
            "Method = LZMA2:12\n",
            "Solid = -\n",
            "Blocks = 1\n",
            "\n",
            "  0%\b\b\b\b    \b\b\b\bEverything is Ok\n",
            "\n",
            "Size:       1996\n",
            "Compressed: 1004\n"
          ]
        }
      ],
      "source": [
        "!wget --no-check-certificate -O typing.7z \"https://docs.google.com/uc?export=download&id=12xD2okl0lnmKGRTGyDN4pZoqoGjAUGVF\"\n",
        "!7z x typing.7z\n",
        "import typing_game"
      ]
    },
    {
      "cell_type": "code",
      "execution_count": 81,
      "metadata": {
        "id": "rONWLlM3UU2M",
        "outputId": "360270b2-1b24-4047-d6ec-12ce1a017733",
        "colab": {
          "base_uri": "https://localhost:8080/",
          "height": 408
        }
      },
      "outputs": [
        {
          "output_type": "stream",
          "name": "stdout",
          "text": [
            "Welcome to Python Keyword Typing Game!\n",
            "Type the displayed Python keyword correctly.\n",
            "\n",
            "as  yamahuti\n",
            "Wrong! Try again!\n",
            "\n"
          ]
        },
        {
          "output_type": "error",
          "ename": "KeyboardInterrupt",
          "evalue": "Interrupted by user",
          "traceback": [
            "\u001b[0;31m---------------------------------------------------------------------------\u001b[0m",
            "\u001b[0;31mKeyboardInterrupt\u001b[0m                         Traceback (most recent call last)",
            "\u001b[0;32m<ipython-input-81-10bf74519959>\u001b[0m in \u001b[0;36m<cell line: 1>\u001b[0;34m()\u001b[0m\n\u001b[0;32m----> 1\u001b[0;31m \u001b[0mtyping_game\u001b[0m\u001b[0;34m.\u001b[0m\u001b[0mgame\u001b[0m\u001b[0;34m(\u001b[0m\u001b[0mcalculate_five_number_summary\u001b[0m\u001b[0;34m,\u001b[0m \u001b[0mcalculate_word_frequency\u001b[0m\u001b[0;34m)\u001b[0m\u001b[0;34m\u001b[0m\u001b[0;34m\u001b[0m\u001b[0m\n\u001b[0m",
            "\u001b[0;32m/content/typing_game.py\u001b[0m in \u001b[0;36mgame\u001b[0;34m(f, g, qa, hello_message)\u001b[0m\n\u001b[1;32m     48\u001b[0m             \u001b[0mword_logs\u001b[0m\u001b[0;34m[\u001b[0m\u001b[0mq\u001b[0m\u001b[0;34m]\u001b[0m \u001b[0;34m+=\u001b[0m \u001b[0;36m1\u001b[0m\u001b[0;34m\u001b[0m\u001b[0;34m\u001b[0m\u001b[0m\n\u001b[1;32m     49\u001b[0m             \u001b[0;32mwhile\u001b[0m \u001b[0;32mTrue\u001b[0m\u001b[0;34m:\u001b[0m\u001b[0;34m\u001b[0m\u001b[0;34m\u001b[0m\u001b[0m\n\u001b[0;32m---> 50\u001b[0;31m                 \u001b[0ma\u001b[0m \u001b[0;34m=\u001b[0m \u001b[0minput\u001b[0m\u001b[0;34m(\u001b[0m\u001b[0;34mf\"{q}  \"\u001b[0m\u001b[0;34m)\u001b[0m\u001b[0;34m\u001b[0m\u001b[0;34m\u001b[0m\u001b[0m\n\u001b[0m\u001b[1;32m     51\u001b[0m                 \u001b[0;32mif\u001b[0m \u001b[0mqa\u001b[0m\u001b[0;34m[\u001b[0m\u001b[0mq\u001b[0m\u001b[0;34m]\u001b[0m \u001b[0;34m!=\u001b[0m \u001b[0ma\u001b[0m\u001b[0;34m:\u001b[0m\u001b[0;34m\u001b[0m\u001b[0;34m\u001b[0m\u001b[0m\n\u001b[1;32m     52\u001b[0m                     \u001b[0mcorrect_logs\u001b[0m\u001b[0;34m.\u001b[0m\u001b[0mloc\u001b[0m\u001b[0;34m[\u001b[0m\u001b[0;34m'wrong'\u001b[0m\u001b[0;34m]\u001b[0m \u001b[0;34m+=\u001b[0m \u001b[0;36m1\u001b[0m\u001b[0;34m\u001b[0m\u001b[0;34m\u001b[0m\u001b[0m\n",
            "\u001b[0;32m/usr/local/lib/python3.10/dist-packages/ipykernel/kernelbase.py\u001b[0m in \u001b[0;36mraw_input\u001b[0;34m(self, prompt)\u001b[0m\n\u001b[1;32m    849\u001b[0m                 \u001b[0;34m\"raw_input was called, but this frontend does not support input requests.\"\u001b[0m\u001b[0;34m\u001b[0m\u001b[0;34m\u001b[0m\u001b[0m\n\u001b[1;32m    850\u001b[0m             )\n\u001b[0;32m--> 851\u001b[0;31m         return self._input_request(str(prompt),\n\u001b[0m\u001b[1;32m    852\u001b[0m             \u001b[0mself\u001b[0m\u001b[0;34m.\u001b[0m\u001b[0m_parent_ident\u001b[0m\u001b[0;34m,\u001b[0m\u001b[0;34m\u001b[0m\u001b[0;34m\u001b[0m\u001b[0m\n\u001b[1;32m    853\u001b[0m             \u001b[0mself\u001b[0m\u001b[0;34m.\u001b[0m\u001b[0m_parent_header\u001b[0m\u001b[0;34m,\u001b[0m\u001b[0;34m\u001b[0m\u001b[0;34m\u001b[0m\u001b[0m\n",
            "\u001b[0;32m/usr/local/lib/python3.10/dist-packages/ipykernel/kernelbase.py\u001b[0m in \u001b[0;36m_input_request\u001b[0;34m(self, prompt, ident, parent, password)\u001b[0m\n\u001b[1;32m    893\u001b[0m             \u001b[0;32mexcept\u001b[0m \u001b[0mKeyboardInterrupt\u001b[0m\u001b[0;34m:\u001b[0m\u001b[0;34m\u001b[0m\u001b[0;34m\u001b[0m\u001b[0m\n\u001b[1;32m    894\u001b[0m                 \u001b[0;31m# re-raise KeyboardInterrupt, to truncate traceback\u001b[0m\u001b[0;34m\u001b[0m\u001b[0;34m\u001b[0m\u001b[0m\n\u001b[0;32m--> 895\u001b[0;31m                 \u001b[0;32mraise\u001b[0m \u001b[0mKeyboardInterrupt\u001b[0m\u001b[0;34m(\u001b[0m\u001b[0;34m\"Interrupted by user\"\u001b[0m\u001b[0;34m)\u001b[0m \u001b[0;32mfrom\u001b[0m \u001b[0;32mNone\u001b[0m\u001b[0;34m\u001b[0m\u001b[0;34m\u001b[0m\u001b[0m\n\u001b[0m\u001b[1;32m    896\u001b[0m             \u001b[0;32mexcept\u001b[0m \u001b[0mException\u001b[0m \u001b[0;32mas\u001b[0m \u001b[0me\u001b[0m\u001b[0;34m:\u001b[0m\u001b[0;34m\u001b[0m\u001b[0;34m\u001b[0m\u001b[0m\n\u001b[1;32m    897\u001b[0m                 \u001b[0mself\u001b[0m\u001b[0;34m.\u001b[0m\u001b[0mlog\u001b[0m\u001b[0;34m.\u001b[0m\u001b[0mwarning\u001b[0m\u001b[0;34m(\u001b[0m\u001b[0;34m\"Invalid Message:\"\u001b[0m\u001b[0;34m,\u001b[0m \u001b[0mexc_info\u001b[0m\u001b[0;34m=\u001b[0m\u001b[0;32mTrue\u001b[0m\u001b[0;34m)\u001b[0m\u001b[0;34m\u001b[0m\u001b[0;34m\u001b[0m\u001b[0m\n",
            "\u001b[0;31mKeyboardInterrupt\u001b[0m: Interrupted by user"
          ]
        }
      ],
      "source": [
        "typing_game.game(calculate_five_number_summary, calculate_word_frequency)"
      ]
    },
    {
      "cell_type": "code",
      "source": [],
      "metadata": {
        "id": "ffWT3awHxCUx"
      },
      "execution_count": null,
      "outputs": []
    }
  ],
  "metadata": {
    "kernelspec": {
      "display_name": ".venv",
      "language": "python",
      "name": "python3"
    },
    "language_info": {
      "codemirror_mode": {
        "name": "ipython",
        "version": 3
      },
      "file_extension": ".py",
      "mimetype": "text/x-python",
      "name": "python",
      "nbconvert_exporter": "python",
      "pygments_lexer": "ipython3",
      "version": "3.12.3"
    },
    "colab": {
      "provenance": [],
      "include_colab_link": true
    }
  },
  "nbformat": 4,
  "nbformat_minor": 0
}