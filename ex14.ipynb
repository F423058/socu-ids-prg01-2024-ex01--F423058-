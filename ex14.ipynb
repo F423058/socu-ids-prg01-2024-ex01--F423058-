{
  "cells": [
    {
      "cell_type": "markdown",
      "metadata": {
        "id": "view-in-github",
        "colab_type": "text"
      },
      "source": [
        "<a href=\"https://colab.research.google.com/github/F423058/socu-ids-prg01-2024-ex01--F423058-/blob/main/ex14.ipynb\" target=\"_parent\"><img src=\"https://colab.research.google.com/assets/colab-badge.svg\" alt=\"Open In Colab\"/></a>"
      ]
    },
    {
      "cell_type": "markdown",
      "metadata": {
        "id": "wcYNpCJkki_b"
      },
      "source": [
        "# 第14回課題"
      ]
    },
    {
      "cell_type": "code",
      "execution_count": 1,
      "metadata": {
        "id": "A7JoaWXkki_f"
      },
      "outputs": [],
      "source": [
        "import os\n",
        "\n",
        "# 自動採点を邪魔せずにテストを実行するための関数\n",
        "def local_run(f):\n",
        "    if not ('GRADING' in os.environ):\n",
        "        return f()"
      ]
    },
    {
      "cell_type": "markdown",
      "metadata": {
        "id": "7WSw4pQ0ki_i"
      },
      "source": [
        "## Q1."
      ]
    },
    {
      "cell_type": "markdown",
      "metadata": {
        "id": "BicEm3Drki_j"
      },
      "source": [
        "ex14_filesフォルダにあるcsvファイルは、月ごとのスーパーでの買い物の記録である。各csvファイルは複数行からなり、各行は以下の形式で買い物を記録している。\n",
        "\n",
        "```csv\n",
        "日付, スーパーの名前, 費った金額(単位はUSドル)\n",
        "```\n",
        "\n",
        "ex14_filesフォルダにある4つのcsvファイルを読み込み、使った金額の総額を返す関数`calc_total()`を完成させよ。"
      ]
    },
    {
      "cell_type": "markdown",
      "metadata": {
        "id": "93fmgtvxki_k"
      },
      "source": [
        "### Step 1. 準備"
      ]
    },
    {
      "cell_type": "markdown",
      "metadata": {
        "id": "GtAeI6qdki_k"
      },
      "source": [
        "以下を実行して必要なファイルをダウンロード・配置せよ。"
      ]
    },
    {
      "cell_type": "code",
      "execution_count": 2,
      "metadata": {
        "id": "SEPM1B2pki_l",
        "colab": {
          "base_uri": "https://localhost:8080/"
        },
        "outputId": "bb001c83-52fa-458b-8480-69c5d0b14525"
      },
      "outputs": [
        {
          "output_type": "stream",
          "name": "stdout",
          "text": [
            "--2024-07-26 10:40:59--  http://drive.google.com/uc?export=view&id=1ekJ_RZik6BqZQtD2m9Pe-NDXgOoFIgw-\n",
            "Resolving drive.google.com (drive.google.com)... 172.217.12.14, 2607:f8b0:4025:815::200e\n",
            "Connecting to drive.google.com (drive.google.com)|172.217.12.14|:80... connected.\n",
            "HTTP request sent, awaiting response... 301 Moved Permanently\n",
            "Location: https://drive.google.com/uc?export=view&id=1ekJ_RZik6BqZQtD2m9Pe-NDXgOoFIgw- [following]\n",
            "--2024-07-26 10:40:59--  https://drive.google.com/uc?export=view&id=1ekJ_RZik6BqZQtD2m9Pe-NDXgOoFIgw-\n",
            "Connecting to drive.google.com (drive.google.com)|172.217.12.14|:443... connected.\n",
            "HTTP request sent, awaiting response... 303 See Other\n",
            "Location: https://drive.usercontent.google.com/download?id=1ekJ_RZik6BqZQtD2m9Pe-NDXgOoFIgw-&export=view [following]\n",
            "--2024-07-26 10:40:59--  https://drive.usercontent.google.com/download?id=1ekJ_RZik6BqZQtD2m9Pe-NDXgOoFIgw-&export=view\n",
            "Resolving drive.usercontent.google.com (drive.usercontent.google.com)... 172.217.15.225, 2607:f8b0:4025:802::2001\n",
            "Connecting to drive.usercontent.google.com (drive.usercontent.google.com)|172.217.15.225|:443... connected.\n",
            "HTTP request sent, awaiting response... 200 OK\n",
            "Length: 848 [application/octet-stream]\n",
            "Saving to: ‘ex14_files.7z’\n",
            "\n",
            "ex14_files.7z       100%[===================>]     848  --.-KB/s    in 0s      \n",
            "\n",
            "2024-07-26 10:41:01 (36.8 MB/s) - ‘ex14_files.7z’ saved [848/848]\n",
            "\n",
            "\n",
            "7-Zip [64] 16.02 : Copyright (c) 1999-2016 Igor Pavlov : 2016-05-21\n",
            "p7zip Version 16.02 (locale=en_US.UTF-8,Utf16=on,HugeFiles=on,64 bits,2 CPUs Intel(R) Xeon(R) CPU @ 2.20GHz (406F0),ASM,AES-NI)\n",
            "\n",
            "Scanning the drive for archives:\n",
            "  0M Scan\b\b\b\b\b\b\b\b\b         \b\b\b\b\b\b\b\b\b1 file, 848 bytes (1 KiB)\n",
            "\n",
            "Extracting archive: ex14_files.7z\n",
            "--\n",
            "Path = ex14_files.7z\n",
            "Type = 7z\n",
            "Physical Size = 848\n",
            "Headers Size = 325\n",
            "Method = LZMA2:12\n",
            "Solid = +\n",
            "Blocks = 2\n",
            "\n",
            "  0%\b\b\b\b    \b\b\b\bEverything is Ok\n",
            "\n",
            "Folders: 2\n",
            "Files: 8\n",
            "Size:       1090\n",
            "Compressed: 848\n"
          ]
        }
      ],
      "source": [
        "!wget -O ex14_files.7z --no-check-certificate \"http://drive.google.com/uc?export=view&id=1ekJ_RZik6BqZQtD2m9Pe-NDXgOoFIgw-\"\n",
        "!7z x -y ex14_files.7z"
      ]
    },
    {
      "cell_type": "markdown",
      "metadata": {
        "id": "iLM--iivki_l"
      },
      "source": [
        "ファイルおよびディレクトリは以下のように配置されている。\n",
        "\n",
        "```text\n",
        "./ex14_files\n",
        "├── April.csv\n",
        "├── February.csv\n",
        "├── January.csv\n",
        "└── March.csv\n",
        "```"
      ]
    },
    {
      "cell_type": "markdown",
      "metadata": {
        "id": "tRrknWvoki_m"
      },
      "source": [
        "それぞれのファイルの内容は以下の通りである。"
      ]
    },
    {
      "cell_type": "code",
      "execution_count": 7,
      "metadata": {
        "id": "OINMkyr9ki_m",
        "colab": {
          "base_uri": "https://localhost:8080/"
        },
        "outputId": "94fafcf3-c3e2-4b74-9884-f68a84016b7c"
      },
      "outputs": [
        {
          "output_type": "stream",
          "name": "stdout",
          "text": [
            "In  ex14_files/March.csv :\n",
            "10-Mar,Waitrose,54.69\r\n",
            "15-Mar,Asda,58.7\r\n",
            "19-Mar,Asda,20.1\r\n",
            "20-Mar,Tesco,84.91\r\n",
            "21-Mar,Morrisons,78.32\r\n",
            "28-Mar,Sainsburys,25.23\r\n",
            "In  ex14_files/January.csv :\n",
            "08-Jan,Morrisons,20.54\r\n",
            "13-Jan,Aldi,93.47\r\n",
            "14-Jan,Tesco,26.13\r\n",
            "15-Jan,Waitrose,64.61\r\n",
            "23-Jan,Morrisons,26.72\r\n",
            "26-Jan,Tesco,89.26\r\n",
            "In  ex14_files/April.csv :\n",
            "06-Apr,Waitrose,39.14\r\n",
            "12-Apr,Asda,88.97\r\n",
            "13-Apr,Sainsburys,55.76\r\n",
            "18-Apr,Waitrose,29.05\r\n",
            "23-Apr,Aldi,53.29\r\n",
            "27-Apr,Tesco,62.96\r\n",
            "In  ex14_files/February.csv :\n",
            "10-Feb,Aldi,46.04\r\n",
            "16-Feb,Morrisons,77.16\r\n",
            "16-Feb,Asda,29.72\r\n",
            "22-Feb,Morrisons,36.92\r\n"
          ]
        }
      ],
      "source": [
        "!for f in `find ex14_files -name \"*.csv\"`; do echo \"In \" $f \":\"; cat $f; done"
      ]
    },
    {
      "cell_type": "markdown",
      "metadata": {
        "id": "Kv20Ttykki_m"
      },
      "source": [
        "### Step 2. `calc_total()`のテストケースを考え、`test_calc_total()`を完成"
      ]
    },
    {
      "cell_type": "code",
      "execution_count": 14,
      "metadata": {
        "id": "penSnx-oki_n"
      },
      "outputs": [],
      "source": [
        "def test_calc_total():\n",
        "    \"\"\"\n",
        "    calc_total()をテストする\n",
        "    \"\"\"\n",
        "    result = calc_total()\n",
        "    expected_result = 1161.69  # 予想される総額を設定\n",
        "    assert abs(result - expected_result) < 1e-2"
      ]
    },
    {
      "cell_type": "markdown",
      "metadata": {
        "id": "KngYZU7Vki_n"
      },
      "source": [
        "### Step 3. `calc_total()`の完成"
      ]
    },
    {
      "cell_type": "code",
      "execution_count": 9,
      "metadata": {
        "id": "vcRx23B3ki_o"
      },
      "outputs": [],
      "source": [
        "def calc_total():\n",
        "    \"\"\"\n",
        "    ex14_filesにあるcsvファイルを読み込み、費った金額の総額を計算する\n",
        "\n",
        "    Returns:\n",
        "        float : 総額(dollars)\n",
        "    \"\"\"\n",
        "    total = 0.0\n",
        "    directory = './ex14_files'\n",
        "    files = ['January.csv', 'February.csv', 'March.csv', 'April.csv']\n",
        "\n",
        "    for file in files:\n",
        "        with open(os.path.join(directory, file), 'r') as f:\n",
        "            for line in f:\n",
        "                _, _, amount = line.strip().split(',')\n",
        "                total += float(amount)\n",
        "\n",
        "    return total"
      ]
    },
    {
      "cell_type": "markdown",
      "metadata": {
        "id": "TVwSARzWki_o"
      },
      "source": [
        "### Step 4. テストを実行して正しさを確認"
      ]
    },
    {
      "cell_type": "code",
      "execution_count": 15,
      "metadata": {
        "id": "dimk6gYpki_o"
      },
      "outputs": [],
      "source": [
        "local_run(test_calc_total)"
      ]
    },
    {
      "cell_type": "code",
      "source": [],
      "metadata": {
        "id": "ft93u8PMp565"
      },
      "execution_count": null,
      "outputs": []
    }
  ],
  "metadata": {
    "kernelspec": {
      "display_name": ".venv",
      "language": "python",
      "name": "python3"
    },
    "language_info": {
      "codemirror_mode": {
        "name": "ipython",
        "version": 3
      },
      "file_extension": ".py",
      "mimetype": "text/x-python",
      "name": "python",
      "nbconvert_exporter": "python",
      "pygments_lexer": "ipython3",
      "version": "3.12.4"
    },
    "colab": {
      "provenance": [],
      "include_colab_link": true
    }
  },
  "nbformat": 4,
  "nbformat_minor": 0
}