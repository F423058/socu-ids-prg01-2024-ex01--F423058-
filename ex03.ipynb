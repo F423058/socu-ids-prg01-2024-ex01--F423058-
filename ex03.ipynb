{
  "cells": [
    {
      "cell_type": "markdown",
      "metadata": {
        "id": "UsS0x0lYqIm4"
      },
      "source": [
        "# 第3回 課題"
      ]
    },
    {
      "cell_type": "markdown",
      "metadata": {
        "id": "lbr4jIYCqIm7"
      },
      "source": [
        "## Q1. (50点)"
      ]
    },
    {
      "cell_type": "markdown",
      "metadata": {
        "id": "l26icStSqIm8"
      },
      "source": [
        "あなたはとあるソフトウェア開発会社の社員である。他の企業からソフトウェアの開発を受注するに当たって、請求金額を計算する関数`calculate_invoice()`の開発を任された。ソフトウェア開発プロジェクトに参加するプログラマの集合を$P$として、請求金額は以下の式で計算される:\n",
        "\n",
        "$$\n",
        "請求金額 = \\left\\lceil \\sum_{p\\in P} (pの月給 \\times \\sum pの各月の稼働時間) \\right\\rceil\n",
        "$$\n",
        "\n",
        "ただし $0\\leq pの各月の稼働時間 \\leq 1$ である。"
      ]
    },
    {
      "cell_type": "markdown",
      "metadata": {
        "id": "jFWmyWzEqIm8"
      },
      "source": [
        "### 入力"
      ]
    },
    {
      "cell_type": "markdown",
      "metadata": {
        "id": "-KN9uvFh5yvh"
      },
      "source": [
        "### 入力"
      ]
    },
    {
      "cell_type": "markdown",
      "metadata": {
        "id": "UPCs-fntqIm9"
      },
      "source": [
        "入力はプロジェクトに参加するプログラマたちの\n",
        "- 月給の辞書: {'開発者1': 月給1, '開発者2': 月給2, ...}\n",
        "- 稼働時間の辞書: {{'開発者1': 各月の稼働時間のリスト1, '開発者2': 各月の稼働時間のリスト2, ...}}\n",
        "\n",
        "である。"
      ]
    },
    {
      "cell_type": "markdown",
      "metadata": {
        "id": "2ErTA7NdqIm9"
      },
      "source": [
        "### 出力"
      ]
    },
    {
      "cell_type": "markdown",
      "metadata": {
        "id": "qG2MDUo-qIm9"
      },
      "source": [
        "プログラムの出力は整数で表されるプロジェクトの請求金額である。"
      ]
    },
    {
      "cell_type": "markdown",
      "source": [],
      "metadata": {
        "id": "WVD0_px-AxwM"
      }
    },
    {
      "cell_type": "markdown",
      "metadata": {
        "id": "XuAnNuuQqIm-"
      },
      "source": [
        "- 月給の辞書の例: `{'A谷': '500000', 'K澤': '400000'}`\n",
        "- 稼働時間の辞書の例: `{'A谷': [0.1, 0.2], 'K澤': [0.75, 0.8]}`"
      ]
    },
    {
      "cell_type": "markdown",
      "metadata": {
        "id": "FTHI77nuqIm-"
      },
      "source": [
        "### 入力例に対して期待される出力"
      ]
    },
    {
      "cell_type": "markdown",
      "metadata": {
        "id": "Rs7qDBsaqIm-"
      },
      "source": [
        "770000"
      ]
    },
    {
      "cell_type": "markdown",
      "metadata": {
        "id": "0Y2sfrgJqIm_"
      },
      "source": [
        "### 解答欄"
      ]
    },
    {
      "cell_type": "code",
      "execution_count": 3,
      "metadata": {
        "id": "-DHUh1pUqIm_"
      },
      "outputs": [],
      "source": [
        "import math\n",
        "\n",
        "def calculate_invoice(salaries, hours):\n",
        "    \"\"\"\n",
        "    ソフトウェアの受注開発における請求金額を計算する。\n",
        "\n",
        "    Parameters:\n",
        "        salaries: 開発者の月給の辞書\n",
        "        hours: 開発者の各月の稼働時間の辞書\n",
        "\n",
        "    Returns:\n",
        "        int: 請求金額\n",
        "    \"\"\"\n",
        "    total_cost = 0\n",
        "\n",
        "    for developer, salary in salaries.items():\n",
        "        try:\n",
        "            # 月給を整数に変換\n",
        "            monthly_salary = int(salary)\n",
        "        except ValueError:\n",
        "            print(f\"エラー: {developer} の月給が数値ではありません ({salary})\")\n",
        "            continue\n",
        "\n",
        "        # 四半期の稼働時間を取得し、文字列が混入していれば無視\n",
        "        valid_hours = []\n",
        "        for h in hours.get(developer, []):\n",
        "            try:\n",
        "                valid_hours.append(int(h))\n",
        "            except ValueError:\n",
        "                print(f\"警告: {developer} の稼働時間に不正な値が含まれています ({h})\")\n",
        "\n",
        "        # 合計稼働時間を計算\n",
        "        total_hours = sum(valid_hours)\n",
        "        # 四半期ごとのコスト計算（月給を3倍）\n",
        "        total_cost += monthly_salary * (total_hours / 3)\n",
        "\n",
        "    # 切り上げて請求金額を返す\n",
        "    return math.ceil(total_cost)\n"
      ]
    },
    {
      "cell_type": "markdown",
      "metadata": {
        "id": "raF4FOWHqInA"
      },
      "source": [
        "## Q2. (50点)"
      ]
    },
    {
      "cell_type": "markdown",
      "metadata": {
        "id": "oXFoihLwqInA"
      },
      "source": [
        "あなたはパスワード生成のためのアプリの作成を頼まれた。パスワードは次の基準を満たす必要がある。\n",
        "\n",
        "- 生成するパスワードの長さはユーザによって指定できる\n",
        "    - ただし以下の制約により4以上でなければならない\n",
        "- パスワードには\n",
        "    - 英大文字が少なくとも1つ含まれていること\n",
        "    - 英小文字が少なくとも1つ含まれていること\n",
        "    - 数字が少なくとも1つ含まれていること\n",
        "    - `!`, `@`, `#`のうちどれかが少なくとも1つ含まれていること\n",
        "\n",
        "これらの基準を満たすランダムなパスワードを生成する関数 `generate_password()` を作成せよ。\n",
        "\n",
        "注意: ランダムなパスワードを生成するということは、`generate_password(4)`を2回実行すると、それぞれ異なるパスワードが生成されるということである。"
      ]
    },
    {
      "cell_type": "code",
      "execution_count": 8,
      "metadata": {
        "id": "E_Slgi0nqInA"
      },
      "outputs": [],
      "source": [
        "import random\n",
        "import string\n",
        "\n",
        "def generate_password(length):\n",
        "    \"\"\"\n",
        "    長さlengthのパスワードを生成する\n",
        "\n",
        "    Parameters:\n",
        "        length (int): 生成するパスワードの長さ(>=4)\n",
        "\n",
        "    Returns:\n",
        "        str: パスワード\n",
        "    \"\"\"\n",
        "    if length < 4:\n",
        "        raise ValueError(\"パスワードの長さは4以上でなければなりません。\")\n",
        "\n",
        "    # 必須条件に基づく1文字ずつのセット\n",
        "    uppercase = random.choice(string.ascii_uppercase)  # 英大文字\n",
        "    lowercase = random.choice(string.ascii_lowercase)  # 英小文字\n",
        "    digit = random.choice(string.digits)               # 数字\n",
        "    symbol = random.choice(\"!@#\")                      # 特殊文字\n",
        "\n",
        "    # 残りの文字をランダムに埋める\n",
        "    remaining_length = length - 4\n",
        "    all_characters = string.ascii_letters + string.digits + \"!@#\"\n",
        "    remaining_chars = [random.choice(all_characters) for _ in range(remaining_length)]\n",
        "\n",
        "    # 全ての文字をシャッフルしてから結合\n",
        "    password_list = [uppercase, lowercase, digit, symbol] + remaining_chars\n",
        "    random.shuffle(password_list)\n",
        "\n",
        "    return ''.join(password_list)"
      ]
    },
    {
      "cell_type": "markdown",
      "metadata": {
        "id": "8XX6k7lrqInB"
      },
      "source": []
    }
  ],
  "metadata": {
    "language_info": {
      "name": "python"
    },
    "colab": {
      "provenance": []
    },
    "kernelspec": {
      "name": "python3",
      "display_name": "Python 3"
    }
  },
  "nbformat": 4,
  "nbformat_minor": 0
}