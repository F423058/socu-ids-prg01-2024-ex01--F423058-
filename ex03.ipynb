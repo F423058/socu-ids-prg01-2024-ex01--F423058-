{
  "cells": [
    {
      "cell_type": "markdown",
      "metadata": {
        "id": "view-in-github",
        "colab_type": "text"
      },
      "source": [
        "<a href=\"https://colab.research.google.com/github/F423058/socu-ids-prg01-2024-ex01--F423058-/blob/main/ex03.ipynb\" target=\"_parent\"><img src=\"https://colab.research.google.com/assets/colab-badge.svg\" alt=\"Open In Colab\"/></a>"
      ]
    },
    {
      "cell_type": "markdown",
      "metadata": {
        "id": "s83nGyhmjeHm"
      },
      "source": [
        "# プログラミング1 第3回課題"
      ]
    },
    {
      "cell_type": "code",
      "execution_count": 9,
      "metadata": {
        "id": "3tolND4xjeHp"
      },
      "outputs": [],
      "source": [
        "from pytest import approx"
      ]
    },
    {
      "cell_type": "markdown",
      "metadata": {
        "id": "_NgELy5ZjeHq"
      },
      "source": [
        "## Q1. 円周を求める関数\n",
        "\n",
        "与えられた直径$d$をもつ円の円周を計算する関数`perimeter`を定義せよ。"
      ]
    },
    {
      "cell_type": "code",
      "execution_count": 16,
      "metadata": {
        "id": "7xG1zR75jeHr"
      },
      "outputs": [],
      "source": [
        "# 関数perimeterを定義する"
      ]
    },
    {
      "cell_type": "code",
      "source": [
        "import math\n",
        "def perimeter(d):\n",
        "    return d*math.pi"
      ],
      "metadata": {
        "id": "gDSakGbklcQV"
      },
      "execution_count": 14,
      "outputs": []
    },
    {
      "cell_type": "code",
      "execution_count": 15,
      "metadata": {
        "id": "ed_FS_v9jeHr"
      },
      "outputs": [],
      "source": [
        "# 以下を実行してエラーがないことを確かめよ\n",
        "assert perimeter(0) == approx(0, rel=0.0001)\n",
        "assert perimeter(1) == approx(3.14159, rel=0.0001)\n",
        "assert perimeter(10) == approx(31.4159, rel=0.0001)"
      ]
    },
    {
      "cell_type": "markdown",
      "metadata": {
        "id": "65bpxFJ_jeHs"
      },
      "source": [
        "## Q2. 絶対値の差を求める関数\n",
        "\n",
        "与えられた2つの実数(浮動小数点数)$a, b$ の絶対値の差 $|a|-|b|$ を計算する関数`diff_abs`を定義せよ"
      ]
    },
    {
      "cell_type": "code",
      "execution_count": 31,
      "metadata": {
        "id": "Yaf9yVo9jeHs"
      },
      "outputs": [],
      "source": [
        "# 関数diff_absを定義する"
      ]
    },
    {
      "cell_type": "code",
      "source": [
        "def diff_abs(a,b):\n",
        "    return abs(a)-abs(b)"
      ],
      "metadata": {
        "id": "759nG34Ds8A3"
      },
      "execution_count": 23,
      "outputs": []
    },
    {
      "cell_type": "code",
      "execution_count": 24,
      "metadata": {
        "id": "AxB6DzNjjeHs"
      },
      "outputs": [],
      "source": [
        "# 以下を実行してエラーがないことを確かめよ\n",
        "assert diff_abs(5, 3) == 2.0\n",
        "assert diff_abs(5, -3) == 2.0\n",
        "assert diff_abs(-5, -3) == 2.0\n",
        "assert diff_abs(0, 3) == -3.0"
      ]
    },
    {
      "cell_type": "markdown",
      "metadata": {
        "id": "z1YvbmFRjeHt"
      },
      "source": [
        "## Q3. 直角三角形の斜辺の長さを求める関数\n",
        "\n",
        "直交する与えられた2辺の長さ$a,b$(浮動小数点数)から、ピタゴラスの定理に基づいて、斜辺の長さを計算する関数`calc_pythagorean_triple`を定義せよ"
      ]
    },
    {
      "cell_type": "code",
      "execution_count": 32,
      "metadata": {
        "id": "fjKohMXMjeHt"
      },
      "outputs": [],
      "source": [
        "# 関数calc_pythagorean_tripleを定義する"
      ]
    },
    {
      "cell_type": "code",
      "source": [
        "import math\n",
        "def calc_pythagorean_triple(a,b):\n",
        "    return math.sqrt(a**2+b**2)"
      ],
      "metadata": {
        "id": "fzugXWFAvTDo"
      },
      "execution_count": 25,
      "outputs": []
    },
    {
      "cell_type": "code",
      "execution_count": 26,
      "metadata": {
        "id": "PhaofeZCjeHt"
      },
      "outputs": [],
      "source": [
        "# 以下を実行してエラーがないことを確かめよ\n",
        "import math\n",
        "assert calc_pythagorean_triple(3, 4) == approx(5.0, rel=0.0001)\n",
        "assert calc_pythagorean_triple(5, 12) == approx(13.0, rel=0.0001)\n",
        "assert calc_pythagorean_triple(1, 1) == approx(math.sqrt(2), rel=0.0001)\n"
      ]
    },
    {
      "cell_type": "markdown",
      "metadata": {
        "id": "Qe5kf4TUjeHu"
      },
      "source": [
        "## Q4. 単位を変換する関数\n",
        "\n",
        "- $n$マイルをヤードに変換する関数`miles_to_yards`\n",
        "- $n$ヤードをフィートに変換する関数`yards_to_feet`\n",
        "- $n$マイルをフィートに変換する関数`miles_to_feet`\n",
        "\n",
        "を定義せよ。ただし\n",
        "- 1マイルは1760ヤード\n",
        "- 1ヤードは3フィート\n",
        "\n",
        "である。`miles_to_feet`は`miles_to_yards`と`yards_to_feet`を使って定義せよ。"
      ]
    },
    {
      "cell_type": "code",
      "execution_count": 29,
      "metadata": {
        "id": "vrWp_Nk-jeHu"
      },
      "outputs": [],
      "source": [
        "# 関数miles_to_yardsを定義する\n",
        "def miles_to_yards(n):\n",
        "    return n*1760\n",
        "# 関数yards_to_feetを定義する\n",
        "def yards_to_feet(n):\n",
        "    return n*3\n",
        "# 関数miles_to_feetを定義する\n",
        "def miles_to_feet(n):\n",
        "    return 5280*n"
      ]
    },
    {
      "cell_type": "code",
      "execution_count": 30,
      "metadata": {
        "id": "_tp2Ird8jeHu"
      },
      "outputs": [],
      "source": [
        "# 以下を実行してエラーがないことを確かめよ\n",
        "assert miles_to_yards(1) == 1760.0\n",
        "assert miles_to_yards(5) == 8800.0\n",
        "assert yards_to_feet(1) == 3.0\n",
        "assert yards_to_feet(5) == 15.0\n",
        "assert miles_to_feet(1) == 5280.0\n",
        "assert miles_to_feet(5) == 26400.0\n"
      ]
    }
  ],
  "metadata": {
    "kernelspec": {
      "display_name": ".venv",
      "language": "python",
      "name": "python3"
    },
    "language_info": {
      "codemirror_mode": {
        "name": "ipython",
        "version": 3
      },
      "file_extension": ".py",
      "mimetype": "text/x-python",
      "name": "python",
      "nbconvert_exporter": "python",
      "pygments_lexer": "ipython3",
      "version": "3.11.8"
    },
    "colab": {
      "provenance": [],
      "include_colab_link": true
    }
  },
  "nbformat": 4,
  "nbformat_minor": 0
}