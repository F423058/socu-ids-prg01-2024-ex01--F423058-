{
  "cells": [
    {
      "cell_type": "markdown",
      "metadata": {
        "id": "view-in-github",
        "colab_type": "text"
      },
      "source": [
        "<a href=\"https://colab.research.google.com/github/F423058/socu-ids-prg01-2024-ex01--F423058-/blob/main/ex04.ipynb\" target=\"_parent\"><img src=\"https://colab.research.google.com/assets/colab-badge.svg\" alt=\"Open In Colab\"/></a>"
      ]
    },
    {
      "cell_type": "markdown",
      "metadata": {
        "id": "OM0RPMZbOH65"
      },
      "source": [
        "# プログラミング1 第4回課題"
      ]
    },
    {
      "cell_type": "markdown",
      "metadata": {
        "id": "dXbSZhwiOH69"
      },
      "source": [
        "## Q1.\n",
        "与えられた年齢`age`から、成人であることを判定する述語`is_adult()`とこれをテストする関数`test_is_adult()`を、以下の手順で定義せよ。成人とは18歳以上である。\n",
        "\n",
        "まず`is_adult()`に対するテストケースを2つ考え、以下の`test_is_adult()`関数の中にテストケースを確認する`assert`文を書け。"
      ]
    },
    {
      "cell_type": "code",
      "execution_count": 5,
      "metadata": {
        "id": "TucttNcCOH69"
      },
      "outputs": [],
      "source": [
        "def test_is_adult():\n",
        "    \"\"\"\n",
        "    is_adult()をテストする関数\n",
        "    \"\"\"\n",
        "    assert is_adult(17) == False\n",
        "    assert is_adult(20) == True"
      ]
    },
    {
      "cell_type": "markdown",
      "metadata": {
        "id": "3WieN3JQOH6-"
      },
      "source": [
        "続いて以下を埋めて、`is_adult()`を完成させよ。"
      ]
    },
    {
      "cell_type": "code",
      "execution_count": 2,
      "metadata": {
        "id": "5RggnjSvOH6-"
      },
      "outputs": [],
      "source": [
        "def is_adult(age):\n",
        "    \"\"\"\n",
        "    年齢を受け取り、その人が大人かどうかを判定する関数\n",
        "\n",
        "    Parameters:\n",
        "        age (int): 年齢 (0以上)\n",
        "\n",
        "    Returns:\n",
        "        bool: 大人かどうか (True: 大人, False: 子供)\n",
        "    \"\"\"\n",
        "    return age >= 18"
      ]
    },
    {
      "cell_type": "markdown",
      "metadata": {
        "id": "u1W9yT5QOH6_"
      },
      "source": [
        "`test_is_adult()`と`is_adult()`が完成したら、以下を実行して少なくともテストケースに対しては`is_adult()`が正しいことを確かめよ。"
      ]
    },
    {
      "cell_type": "code",
      "execution_count": 6,
      "metadata": {
        "id": "CM57HWSuOH6_"
      },
      "outputs": [],
      "source": [
        "test_is_adult()"
      ]
    },
    {
      "cell_type": "markdown",
      "metadata": {
        "id": "IJYpZ5vPOH6_"
      },
      "source": [
        "## Q2.\n",
        "\n",
        "与えられた年`year`が閏年であることを判定する述語`is_leap_year()`とこれをテストする関数`test_is_leap_year()`を、以下の手順で定義せよ。\n",
        "\n",
        "まず`is_leap_year()`に対するテストケースを4つ考え、以下の`test_is_leap_year()`関数の中にテストケースを確認する`assert`文を書け。"
      ]
    },
    {
      "cell_type": "code",
      "execution_count": 15,
      "metadata": {
        "id": "A8Hvxp3nOH6_"
      },
      "outputs": [],
      "source": [
        "def test_is_leap_year():\n",
        "    \"\"\"\n",
        "    is_leap_year()をテストする関数\n",
        "    \"\"\"\n",
        "    assert is_leap_year(2000) == True\n",
        "    assert is_leap_year(1900) == False\n",
        "    assert is_leap_year(2004) == True\n",
        "    assert is_leap_year(2005) == False"
      ]
    },
    {
      "cell_type": "markdown",
      "metadata": {
        "id": "I88zNfn9OH7A"
      },
      "source": [
        "続いて以下を埋めて`is_leap_year()`を完成させよ。"
      ]
    },
    {
      "cell_type": "code",
      "execution_count": 18,
      "metadata": {
        "id": "arIcac4SOH7A"
      },
      "outputs": [],
      "source": [
        "def is_leap_year(year):\n",
        "    \"\"\"\n",
        "    年を受け取り、その年が閏年かどうかを判定する関数\n",
        "\n",
        "    Parameters:\n",
        "        year (int): 年\n",
        "\n",
        "    Returns:\n",
        "        bool: 閏年かどうか (True: 閏年, False: 平年)\n",
        "    \"\"\"\n",
        "    if year % 400 == 0:\n",
        "       return True\n",
        "    if year % 100 == 0:\n",
        "       return False\n",
        "    if year % 4 == 0:\n",
        "       return True\n",
        "    return False"
      ]
    },
    {
      "cell_type": "markdown",
      "metadata": {
        "id": "n0YPM_MROH7A"
      },
      "source": [
        "`test_is_leap_year()`と`is_leap_year()`が完成したら、以下を実行して、少なくともテストケースに対しては`is_leap_year()`が正しいことを確かめよ。"
      ]
    },
    {
      "cell_type": "code",
      "execution_count": 19,
      "metadata": {
        "id": "7ryUz0u-OH7A"
      },
      "outputs": [],
      "source": [
        "test_is_leap_year()"
      ]
    },
    {
      "cell_type": "markdown",
      "metadata": {
        "id": "7Q9CL_mhOH7A"
      },
      "source": [
        "## Q3.\n",
        "\n",
        "タクシーの運賃には、距離制運賃、時間距離併用運賃、時間制運賃の三種類があり、タクシー会社はこれらを使い分けて、運賃として利用者に請求している。今回は計算の簡単な距離制運賃を取り上げる。\n",
        "\n",
        "山口県タクシー協会が配信している情報によると、山口県の普通車タクシーの距離制運賃は、以下のように二種類ある。\n",
        "\n",
        "|計算モード|初乗り乗車距離|初乗り金額|加算金額|加算距離|\n",
        "|-----|-----|-----|----|----|\n",
        "|1|1255m|680円|80円|245m|\n",
        "|2|1500m|760円|80円|245m|\n",
        "\n",
        "つまり、計算モード1では1255m乗っても10m乗っても運賃は680円であり、計算モード2では1500mのっても10mのっても運賃は760円である。\n",
        "\n",
        "![タクシー運賃(モード1)](https://drive.google.com/uc?export=view&id=1suIN5YEaSSsDr43IK4oEkAm8DJPgeh3L)\n",
        "![タクシー運賃(モード2)](https://drive.google.com/uc?export=view&id=1A8DRvlBMLSlfwGM5u2TmRXIydsnvTCnw)\n",
        "\n",
        "\n",
        "計算モード`i`と走行距離`m`が与えられたとき、運賃を計算する関数`calc_taxi_fare()`とこれをテストする関数`test_calc_taxi_fare()`を、以下の手順で定義せよ。\n",
        "\n",
        "参考:\n",
        "- https://www.solasi.com/ytaxi/taxifare\n",
        "\n",
        "\n",
        "まず`calc_taxi_fare()`に対するテストケースを6つ考え、以下の`test_calc_taxi_fare()`関数の中にテストケースを確認する`assert`文を書け。"
      ]
    },
    {
      "cell_type": "code",
      "execution_count": null,
      "metadata": {
        "id": "MuqQ8upkOH7A"
      },
      "outputs": [],
      "source": [
        "def test_calc_taxi_fare():\n",
        "    \"\"\"\n",
        "    calc_taxi_fare()をテストする関数\n",
        "    \"\"\""
      ]
    },
    {
      "cell_type": "markdown",
      "metadata": {
        "id": "mceiFuo_OH7A"
      },
      "source": [
        "続いて以下を埋めて`calc_taxi_fare()`を完成させよ。"
      ]
    },
    {
      "cell_type": "code",
      "execution_count": null,
      "metadata": {
        "id": "H9XfHvsMOH7A"
      },
      "outputs": [],
      "source": [
        "import math\n",
        "def calc_taxi_fare(i, m):\n",
        "    \"\"\"\n",
        "    山口県の普通車タクシーの距離制運賃を計算する関数\n",
        "\n",
        "    Parameters:\n",
        "      i: 計算モード (1: 初乗り乗車距離1255m、2: 初乗り乗車距離1500m)\n",
        "      m: 走行距離 (メートル)\n",
        "\n",
        "    Returns:\n",
        "      int: 運賃 (円)\n",
        "    \"\"\"\n",
        "if"
      ]
    },
    {
      "cell_type": "markdown",
      "metadata": {
        "id": "SD5kYn8JOH7A"
      },
      "source": [
        "`calc_taxi_fare()`と`test_calc_taxi_fare()`が完成したら、以下を実行して、少なくともテストケースに対しては`calc_taxi_fare()`が正しいことを確かめよ。"
      ]
    },
    {
      "cell_type": "code",
      "execution_count": null,
      "metadata": {
        "id": "aIW2laAdOH7A"
      },
      "outputs": [],
      "source": [
        "test_calc_taxi_fare()"
      ]
    },
    {
      "cell_type": "markdown",
      "metadata": {
        "id": "C7n99s2DOH7B"
      },
      "source": [
        "## Q4.\n",
        "\n",
        "![パスカルの三角形](https://upload.wikimedia.org/wikipedia/commons/thumb/f/f6/Pascal%27s_triangle_5.svg/1024px-Pascal%27s_triangle_5.svg.png)\n",
        "\n",
        "パスカルの三角形の上から$n$段目で左から$m$番目の数を求める関数`calc_pascal_triangle()`とこれをテストする関数`test_calc_pascal_triangle()`を、以下の手順で定義せよ。パスカルの三角形の上から$n$段目で左から$m$番目の数は以下のように計算できる。\n",
        "\n",
        "- $P(n,m) = P(n-1,m-1) + P(n-1,m)$ for $0 \\leq n, 0 < m < n$\n",
        "- $P(n,0) = P(n,n) = 1$ for $0 \\leq n$\n",
        "\n",
        "つまり、0段目0番目が三角形の一番上の頂点である。\n",
        "\n",
        "まず`calc_pascal_triangle()`に対するテストケースを4つ考え、以下の`test_calc_pascal_triangle()`関数の中にテストケースを確認する`assert`文を書け。"
      ]
    },
    {
      "cell_type": "code",
      "execution_count": 25,
      "metadata": {
        "id": "44wF4r4NOH7B"
      },
      "outputs": [],
      "source": [
        "def test_calc_pascal_triangle():\n",
        "    \"\"\"\n",
        "    calc_pascal_triangle()をテストする関数\n",
        "    \"\"\"\n",
        "    assert calc_pascal_triangle(0,0) == 1\n",
        "    assert calc_pascal_triangle(3,0) == 1\n",
        "    assert calc_pascal_triangle(4,2) == 6\n",
        "    assert calc_pascal_triangle(2,1) == 2"
      ]
    },
    {
      "cell_type": "markdown",
      "metadata": {
        "id": "BvwtzdudOH7B"
      },
      "source": [
        "続いて以下を埋めて`calc_pascal_triangle()`を完成させよ。"
      ]
    },
    {
      "cell_type": "code",
      "execution_count": 24,
      "metadata": {
        "id": "fJkl1cwXOH7B"
      },
      "outputs": [],
      "source": [
        "def calc_pascal_triangle(n, m):\n",
        "    \"\"\"\n",
        "    パスカルの三角形の上から$n$段目で左から$m$番目の数を求める\n",
        "\n",
        "    Parameters:\n",
        "        n (int): 上からの段数\n",
        "        m (int): 左からの番目\n",
        "\n",
        "    Returns:\n",
        "        int: 上から$n$段目で左から$m$番目の数\n",
        "    \"\"\"\n",
        "    if m == 0 or m == n:\n",
        "       return 1\n",
        "    return calc_pascal_triangle(n-1,m-1) + calc_pascal_triangle(n-1,m)"
      ]
    },
    {
      "cell_type": "code",
      "execution_count": 26,
      "metadata": {
        "id": "kYfLsaBJOH7B"
      },
      "outputs": [],
      "source": [
        "test_calc_pascal_triangle()"
      ]
    }
  ],
  "metadata": {
    "kernelspec": {
      "display_name": ".venv",
      "language": "python",
      "name": "python3"
    },
    "language_info": {
      "codemirror_mode": {
        "name": "ipython",
        "version": 3
      },
      "file_extension": ".py",
      "mimetype": "text/x-python",
      "name": "python",
      "nbconvert_exporter": "python",
      "pygments_lexer": "ipython3",
      "version": "3.11.8"
    },
    "colab": {
      "provenance": [],
      "include_colab_link": true
    }
  },
  "nbformat": 4,
  "nbformat_minor": 0
}