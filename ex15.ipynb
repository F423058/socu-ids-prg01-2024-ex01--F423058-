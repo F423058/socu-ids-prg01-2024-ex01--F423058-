{
  "cells": [
    {
      "cell_type": "markdown",
      "metadata": {
        "id": "view-in-github",
        "colab_type": "text"
      },
      "source": [
        "<a href=\"https://colab.research.google.com/github/F423058/socu-ids-prg01-2024-ex01--F423058-/blob/main/ex15.ipynb\" target=\"_parent\"><img src=\"https://colab.research.google.com/assets/colab-badge.svg\" alt=\"Open In Colab\"/></a>"
      ]
    },
    {
      "cell_type": "markdown",
      "metadata": {
        "id": "v9R8CKflLt7J"
      },
      "source": [
        "# 第15回課題: Pythonプログラミングの課題の作成"
      ]
    },
    {
      "cell_type": "markdown",
      "metadata": {
        "id": "Pv8lQ3NeLt7L"
      },
      "source": [
        "諸君はこれまで14回に渡り、Python言語でのプログラミングを学び、課題を解いてきた。今回の課題は、この14回を振り返り、諸君から後輩たちに贈るPythonプログラミングの課題と、後輩たちの提出物の正誤を判定するテスト関数を作成することである。\n",
        "\n",
        "- 課題の作成はグループで行うものとする。\n",
        "- グループは好きに組んで良い。\n",
        "- 課題の内容は何かしらの関数を作成させるものでなければならない(そうでなければテストができない)。\n",
        "- 最終講義日である7月26日の4限目(14:40-16:10)に、各グループの制作課題を発表する。\n",
        "  - 持ち時間は3分程度とする。課題の概要と、その課題の狙い(何を考えさせたいのか、何の習熟を確認するための課題なのか)を説明せよ。\n",
        "  - 発表のないグループは失格(第15回のグループ全員の得点を0点)とする。\n",
        "  - 3限目(13:00-14:30)の時間は第14回の課題に取り組む時間とする。\n",
        "- 発表にあたってスライドを用意する必要はない。\n",
        "- 全グループの発表のあとに、課題の人気投票を行う。\n",
        "- 課題を免除されている者は、この課題も免除であるが、やってもよい。"
      ]
    },
    {
      "cell_type": "markdown",
      "metadata": {
        "id": "lj3REyZXLt7M"
      },
      "source": [
        "## 問題文"
      ]
    },
    {
      "cell_type": "markdown",
      "metadata": {
        "id": "dAnjxi4TLt7M"
      },
      "source": [
        "エラトステネスの篩を用いて、素数かどうかを一度に判定してください。\n",
        "エラトステネスの篩は、2からnまでの全ての数に対して、素数かどうかを一度に判定する非常に効率的なアルゴリズムです。\n",
        "https://ja.wikipedia.org/wiki/%E3%82%A8%E3%83%A9%E3%83%88%E3%82%B9%E3%83%86%E3%83%8D%E3%82%B9%E3%81%AE%E7%AF%A9"
      ]
    },
    {
      "cell_type": "markdown",
      "metadata": {
        "id": "ZaIxJQb9Lt7M"
      },
      "source": [
        "## 正解である解答例"
      ]
    },
    {
      "cell_type": "code",
      "execution_count": null,
      "metadata": {
        "id": "1ad6yQ8JLt7N"
      },
      "outputs": [],
      "source": [
        "def sieve_of_eratosthenes(n):\n",
        "    # nまでの全ての数を素数と仮定してリストを初期化する\n",
        "    prime = [True for i in range(n+1)]\n",
        "    prime[0] = False # 0は素数ではない\n",
        "    prime[1] = False # 1は素数ではない\n",
        "    # 2からnの平方根までの全ての数でふるいにかける\n",
        "    for p in range(2, int(n**0.5) + 1):\n",
        "        if prime[p]:#pが素数であるか\n",
        "            # pの倍数を全て非素数としてマーク\n",
        "            for i in range(p*p, n+1, p):\n",
        "                prime[i] = False\n",
        "    # 素数のリストを作成する\n",
        "    primes = []\n",
        "    for p in range(n + 1):\n",
        "        if prime[p]:\n",
        "            primes.append(p)\n",
        "\n",
        "    return primes\n"
      ]
    },
    {
      "cell_type": "markdown",
      "metadata": {
        "id": "tSal2ugILt7O"
      },
      "source": [
        "## 正誤判定のためのテスト関数"
      ]
    },
    {
      "cell_type": "code",
      "execution_count": null,
      "metadata": {
        "id": "BfL7tAHHLt7O"
      },
      "outputs": [],
      "source": [
        "def test_sieve_of_erastosthenes():\n",
        "  #テストケース１　n = 10\n",
        "  assert sieve_of_eratosthenes(10) == [2,3,5,7]\n",
        "\n",
        "  #テストケース2　n = 20\n",
        "  assert sieve_of_eratosthenes(20) == [2,3,5,7,11,13,17,19]\n",
        "\n",
        "  #テストケース3　n = 1\n",
        "  assert sieve_of_eratosthenes(1) == []\n",
        "\n",
        "  #テストケース4　n = 0\n",
        "  assert sieve_of_eratosthenes(0) == []\n",
        "\n",
        "  #テストケース5　n =50\n",
        "  assert sieve_of_eratosthenes(50) == [2,3,5,7,11,13,17,19,23,29,31,37,41,43,47]\n"
      ]
    }
  ],
  "metadata": {
    "language_info": {
      "name": "python"
    },
    "colab": {
      "provenance": [],
      "include_colab_link": true
    },
    "kernelspec": {
      "name": "python3",
      "display_name": "Python 3"
    }
  },
  "nbformat": 4,
  "nbformat_minor": 0
}