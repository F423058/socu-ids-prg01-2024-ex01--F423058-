{
  "cells": [
    {
      "cell_type": "markdown",
      "metadata": {
        "id": "view-in-github",
        "colab_type": "text"
      },
      "source": [
        "<a href=\"https://colab.research.google.com/github/F423058/socu-ids-prg01-2024-ex01--F423058-/blob/main/ex13.ipynb\" target=\"_parent\"><img src=\"https://colab.research.google.com/assets/colab-badge.svg\" alt=\"Open In Colab\"/></a>"
      ]
    },
    {
      "cell_type": "markdown",
      "metadata": {
        "id": "iXFRPf4OeT94"
      },
      "source": [
        "# 第13回課題"
      ]
    },
    {
      "cell_type": "code",
      "execution_count": 49,
      "metadata": {
        "id": "vu7Gp6JbeT95"
      },
      "outputs": [],
      "source": [
        "import os\n",
        "\n",
        "# 自動採点を邪魔せずにテストを実行するための関数\n",
        "def local_run(f):\n",
        "    if not ('GRADING' in os.environ):\n",
        "        return f()"
      ]
    },
    {
      "cell_type": "markdown",
      "metadata": {
        "id": "XaiahDgIeT96"
      },
      "source": [
        "## Q1."
      ]
    },
    {
      "cell_type": "markdown",
      "metadata": {
        "id": "JxSMoBlZeT96"
      },
      "source": [
        "山陽小野田市民は選挙と開票が大好きなことで有名である．今日は選挙管理委員会の次期委員長を決める選挙の日である．今，投票が終わり，開票が始まろうとしている．山陽小野田市民は，開票中に少しでも早く当選者を知りたいと強く望んでいる．\n",
        "\n",
        "当然のことながら, もっとも多くの票を得た候補者が次期委員長に選出される．たとえば，候補者が A, B, C の 3 人で，投票数が 10 票の場合を考える．そして，10 票のうち 6 票までの開票が行われ，A, B, C がそれぞれ 4 票，1 票，1 票を得たとする．この時点では，すべての候補者があと 4 票を得る可能性があり，全員が当選する可能性を残している．しかし，もし次に開いた票が A に投じられたものなら，A の当選が確定する．なぜならば，ここまでの A の得票は 5 票となり，最終的な B と C それぞれの得票は，高々 4 票にしかならないからである．この例では，7 票目を開票した時点で，山陽小野田市民は当選者を知ることができる．\n",
        "\n",
        "そこで，投票データファイル名を受け取り，当選者が誰であるかとそれがいつ確定したかを求める関数`get_winner()`を作成してほしい．"
      ]
    },
    {
      "cell_type": "markdown",
      "metadata": {
        "id": "UmSj5vaNeT97"
      },
      "source": [
        "### 投票データファイルの形式"
      ]
    },
    {
      "cell_type": "markdown",
      "metadata": {
        "id": "kLkaeFsseT97"
      },
      "source": [
        "投票データファイルは最大で1500個のデータセットからなる． 各データセットは2行からなり次のような形式である．\n",
        "\n",
        "$\\begin{array}{l}\n",
        "n\\\\\n",
        "c_1\\ c_2\\ \\cdots\\ c_n\n",
        "\\end{array}$\n",
        "\n",
        "1行目の整数$n$は投票数を表し，100以下の正整数である． 2行目が投票された$n$票を表す． 各 $c_i（1 \\leq i \\leq n）$は，一つの英大文字（'A' から 'Z' のうちの一つ）であり，空白文字で区切られる．これは$i$番目の票が投じられた候補者を表す． 開票は，$c_1$ から $c_n$ まで出現順に行われる．\n",
        "\n",
        "たとえすべての票が一人の候補者に集中していても，候補者は二人以上いると仮定すること．\n",
        "またデータの終わりは，1個のゼロだけからなる行で表される．\n",
        "\n",
        "以下のsample_eq1.txtは投票データファイルの例である. (一行目の`%%writefile sample_q1.txt`は無視せよ)"
      ]
    },
    {
      "cell_type": "code",
      "execution_count": 6,
      "metadata": {
        "id": "2_kcWpaseT97",
        "colab": {
          "base_uri": "https://localhost:8080/"
        },
        "outputId": "63e48064-20c7-428c-d262-abdd9b4d18f2"
      },
      "outputs": [
        {
          "output_type": "stream",
          "name": "stdout",
          "text": [
            "Overwriting sample_q1.txt\n"
          ]
        }
      ],
      "source": [
        "%%writefile sample_q1.txt\n",
        "1\n",
        "A\n",
        "4\n",
        "A A B B\n",
        "5\n",
        "L M N L N\n",
        "6\n",
        "K K K K K K\n",
        "6\n",
        "X X X Y Z X\n",
        "10\n",
        "A A A B A C A C C B\n",
        "10\n",
        "U U U U U V V W W W\n",
        "0"
      ]
    },
    {
      "cell_type": "markdown",
      "metadata": {
        "id": "alXZMxVSeT97"
      },
      "source": [
        "### `get_winner()`の返値"
      ]
    },
    {
      "cell_type": "markdown",
      "metadata": {
        "id": "nOPy24XueT97"
      },
      "source": [
        "各データセットについて以下を要素とするリストを返せ\n",
        "- 選挙が引き分けに終わらない(当選者が存在する)なら，英大文字$c$と整数$d$からなるタプル$(c, d)$を返せ． ここで，$c$は当選者を表す．$d$は何番目の票を開票した時点ではじめて当選が確定したかを表す．\n",
        "- それ以外の場合，すなわち選挙が引き分けに終わった場合は，`TIE' のみからなる文字列．\n",
        "\n",
        "例えば上記のsample_q1.txtに対する返値は以下のリストである.\n",
        "\n",
        "```python\n",
        "[('A', 1), 'TIE', 'TIE', ('K', 4), ('X', 5), ('A', 7), ('U', 8)]\n",
        "```"
      ]
    },
    {
      "cell_type": "markdown",
      "metadata": {
        "id": "bAnzlYqqeT97"
      },
      "source": [
        "### Step 1. `get_winner()`をテストする`test_get_winner()`を完成"
      ]
    },
    {
      "cell_type": "markdown",
      "source": [],
      "metadata": {
        "id": "oilElmB1V2_g"
      }
    },
    {
      "cell_type": "code",
      "execution_count": 54,
      "metadata": {
        "id": "JDgIspnAeT97"
      },
      "outputs": [],
      "source": [
        "def test_get_winner():\n",
        "    \"\"\"\n",
        "    test_winner()をテストする\n",
        "    \"\"\"\n",
        "    file_name = 'sample_q1.txt'\n",
        "    expected_result = [('A', 1), 'TIE', 'TIE', ('K', 4), ('X', 5), ('A', 7), ('U', 8)]\n",
        "    result = get_winner(file_name)\n",
        "\n",
        "    assert result == expected_result"
      ]
    },
    {
      "cell_type": "markdown",
      "metadata": {
        "id": "l9Z-ogYkeT98"
      },
      "source": [
        "### Step 2. `get_winner()`を完成"
      ]
    },
    {
      "cell_type": "code",
      "execution_count": 53,
      "metadata": {
        "id": "JJfL7091eT98"
      },
      "outputs": [],
      "source": [
        "def get_winner(file_name):\n",
        "    \"\"\"\n",
        "    与えられたファイル名のファイルに記入された投票データから、当選者と開票数を取得する\n",
        "\n",
        "    Parameters:\n",
        "        file_name (str): 投票データファイルの名前\n",
        "\n",
        "    Returns:\n",
        "        list: 当選者と当選が確実となった開票数のタプルのリスト\n",
        "    \"\"\"\n",
        "    results = []\n",
        "\n",
        "    # ファイルを開いて全ての行を読み込む\n",
        "    with open(file_name, 'r') as file:\n",
        "        data = file.read().strip().split('\\n')\n",
        "\n",
        "    i = 0\n",
        "    while i < len(data):\n",
        "        # 投票数を読み取る\n",
        "        n = int(data[i])\n",
        "\n",
        "        # 投票数がゼロの場合、ファイルの終わり\n",
        "        if n == 0:\n",
        "            break\n",
        "\n",
        "        # 投票データを読み取る\n",
        "        votes = data[i + 1].split()\n",
        "        i += 2\n",
        "\n",
        "        # 投票数が指定された数と一致しない場合は、データセットをスキップ\n",
        "        if len(votes) != n:\n",
        "            continue\n",
        "\n",
        "        total_votes = len(votes)\n",
        "        half_votes = total_votes / 2  # 総投票数の半分を計算\n",
        "        vote_counts = {}  # 各候補者の投票数を記録する辞書\n",
        "        winner_found = False\n",
        "\n",
        "        # 各投票を処理する\n",
        "        for idx, vote in enumerate(votes):\n",
        "            # 候補者の投票数をインクリメント\n",
        "            if vote in vote_counts:\n",
        "                vote_counts[vote] += 1\n",
        "            else:\n",
        "                vote_counts[vote] = 1\n",
        "\n",
        "            # 現在の候補者が総投票数の半分以上の票を得ているか確認\n",
        "            if vote_counts[vote] > half_votes:\n",
        "                # 当選者とその票が確定する時点を記録\n",
        "                results.append((vote, idx + 1))\n",
        "                winner_found = True\n",
        "                break\n",
        "\n",
        "        # 当選者が見つからなかった場合、引き分け\n",
        "        if not winner_found:\n",
        "            results.append('TIE')\n",
        "\n",
        "    return results"
      ]
    },
    {
      "cell_type": "markdown",
      "metadata": {
        "id": "yDloxFk6eT98"
      },
      "source": [
        "### Step 3. テストを実行"
      ]
    },
    {
      "cell_type": "code",
      "execution_count": 55,
      "metadata": {
        "id": "PdSaY4xFeT98",
        "colab": {
          "base_uri": "https://localhost:8080/",
          "height": 252
        },
        "outputId": "963f6181-a37c-45e8-feed-60e8c17ed1c1"
      },
      "outputs": [
        {
          "output_type": "error",
          "ename": "AssertionError",
          "evalue": "",
          "traceback": [
            "\u001b[0;31m---------------------------------------------------------------------------\u001b[0m",
            "\u001b[0;31mAssertionError\u001b[0m                            Traceback (most recent call last)",
            "\u001b[0;32m<ipython-input-55-2d7be4e063f1>\u001b[0m in \u001b[0;36m<cell line: 1>\u001b[0;34m()\u001b[0m\n\u001b[0;32m----> 1\u001b[0;31m \u001b[0mlocal_run\u001b[0m\u001b[0;34m(\u001b[0m\u001b[0mtest_get_winner\u001b[0m\u001b[0;34m)\u001b[0m\u001b[0;34m\u001b[0m\u001b[0;34m\u001b[0m\u001b[0m\n\u001b[0m",
            "\u001b[0;32m<ipython-input-49-b9e0668d309c>\u001b[0m in \u001b[0;36mlocal_run\u001b[0;34m(f)\u001b[0m\n\u001b[1;32m      4\u001b[0m \u001b[0;32mdef\u001b[0m \u001b[0mlocal_run\u001b[0m\u001b[0;34m(\u001b[0m\u001b[0mf\u001b[0m\u001b[0;34m)\u001b[0m\u001b[0;34m:\u001b[0m\u001b[0;34m\u001b[0m\u001b[0;34m\u001b[0m\u001b[0m\n\u001b[1;32m      5\u001b[0m     \u001b[0;32mif\u001b[0m \u001b[0;32mnot\u001b[0m \u001b[0;34m(\u001b[0m\u001b[0;34m'GRADING'\u001b[0m \u001b[0;32min\u001b[0m \u001b[0mos\u001b[0m\u001b[0;34m.\u001b[0m\u001b[0menviron\u001b[0m\u001b[0;34m)\u001b[0m\u001b[0;34m:\u001b[0m\u001b[0;34m\u001b[0m\u001b[0;34m\u001b[0m\u001b[0m\n\u001b[0;32m----> 6\u001b[0;31m         \u001b[0;32mreturn\u001b[0m \u001b[0mf\u001b[0m\u001b[0;34m(\u001b[0m\u001b[0;34m)\u001b[0m\u001b[0;34m\u001b[0m\u001b[0;34m\u001b[0m\u001b[0m\n\u001b[0m",
            "\u001b[0;32m<ipython-input-54-e0ba6ca53955>\u001b[0m in \u001b[0;36mtest_get_winner\u001b[0;34m()\u001b[0m\n\u001b[1;32m      7\u001b[0m     \u001b[0mresult\u001b[0m \u001b[0;34m=\u001b[0m \u001b[0mget_winner\u001b[0m\u001b[0;34m(\u001b[0m\u001b[0mfile_name\u001b[0m\u001b[0;34m)\u001b[0m\u001b[0;34m\u001b[0m\u001b[0;34m\u001b[0m\u001b[0m\n\u001b[1;32m      8\u001b[0m \u001b[0;34m\u001b[0m\u001b[0m\n\u001b[0;32m----> 9\u001b[0;31m     \u001b[0;32massert\u001b[0m \u001b[0mresult\u001b[0m \u001b[0;34m==\u001b[0m \u001b[0mexpected_result\u001b[0m\u001b[0;34m\u001b[0m\u001b[0;34m\u001b[0m\u001b[0m\n\u001b[0m",
            "\u001b[0;31mAssertionError\u001b[0m: "
          ]
        }
      ],
      "source": [
        "local_run(test_get_winner)"
      ]
    },
    {
      "cell_type": "markdown",
      "metadata": {
        "id": "e8ee8ciqeT98"
      },
      "source": [
        "## Q2."
      ]
    },
    {
      "cell_type": "markdown",
      "metadata": {
        "id": "ZyZCxiVxeT98"
      },
      "source": [
        "君は小さな海賊団の一員である(ひとつなぎの大秘宝を目指しているかどうかは知らない). 海賊団は何枚かの地図を持っており, いずれの地図も, 同じ大きさの正方形に区切られたメッシュ状になっている．この地図は，ある海域を表しており，各正方形の領域が陸または海に対応する．以下は地図の一例である．\n",
        "\n",
        "![](https://judge.u-aizu.ac.jp/onlinejudge/IMAGE1/2009B2.png)\n",
        "\n",
        "陸に対応する二つの正方形領域が，地図上で縦，横または斜め方向に隣接しているなら，一方から他方へ歩いて行くことができる．陸に対応する二つの領域が同じ島に属するのは，一方から他方へ（一般には別の陸地を経由して）歩いて行ける時であり，またその時のみである．なお，この地図の海域は海で囲まれており，その外側へ歩いて出ることはできない．\n",
        "\n",
        "君の任務は地図データファイル名を受け取り，地図データを解析してこの海域に島がいくつあるか数える関数`count_islands()`を作成することである．たとえば，上の図で表される地図には全部で三つの島がある．"
      ]
    },
    {
      "cell_type": "markdown",
      "metadata": {
        "id": "fn1DcvHEeT98"
      },
      "source": [
        "### 地図データファイルの形式"
      ]
    },
    {
      "cell_type": "markdown",
      "metadata": {
        "id": "Ts1onzaUeT98"
      },
      "source": [
        "地図データファイルには複数のデータセットが記入されており，各データセットは次のような形式で与えられる．\n",
        "\n",
        "$\\begin{array}{cccc}\n",
        "w & h &  & \\\\\n",
        "c_{1,1} & c_{1,2} & \\cdots &  c_{1,w}\\\\\n",
        "c_{2,1} & c_{2,2} & \\cdots & c_{2,w}\\\\\n",
        "\\vdots & \\vdots & \\ddots & \\vdots \\\\\n",
        "c_{h,1} & c_{h,2} & \\cdots & c_{h,w}\n",
        "\\end{array}$\n",
        "\n",
        "- $w$と$h$は地図の幅と高さを表す50以下の正の整数であり，地図は$w\\times h$個の同じ大きさの正方形から構成される．$w$と$h$の間は空白文字1個で区切られる．\n",
        "- $c_{i,j}$は0または1であり，空白文字1個で区切られる. $c_{i, j}=0$なら，地図上で左から$i$番目，上から$j$番目の正方形は海であり，$c_{i, j} = 1$なら陸である．\n",
        "- 入力の終わりは，空白文字1個で区切られた2個のゼロのみからなる行で表される．\n",
        "\n",
        "以下のsample_q2.txtは地図データファイルの例である。(一行目の`%%writefile sample_q1.txt`は無視せよ)"
      ]
    },
    {
      "cell_type": "code",
      "execution_count": null,
      "metadata": {
        "id": "GOmY-wKUeT98"
      },
      "outputs": [],
      "source": [
        "%%writefile sample_q2.txt\n",
        "1 1\n",
        "0\n",
        "2 2\n",
        "0 1\n",
        "1 0\n",
        "3 2\n",
        "1 1 1\n",
        "1 1 1\n",
        "5 4\n",
        "1 0 1 0 0\n",
        "1 0 0 0 0\n",
        "1 0 1 0 1\n",
        "1 0 0 1 0\n",
        "5 4\n",
        "1 1 1 0 1\n",
        "1 0 1 0 1\n",
        "1 0 1 0 1\n",
        "1 0 1 1 1\n",
        "5 5\n",
        "1 0 1 0 1\n",
        "0 0 0 0 0\n",
        "1 0 1 0 1\n",
        "0 0 0 0 0\n",
        "1 0 1 0 1\n",
        "0 0"
      ]
    },
    {
      "cell_type": "markdown",
      "metadata": {
        "id": "sDZcTBsYeT98"
      },
      "source": [
        "### `count_islands()`の返値"
      ]
    },
    {
      "cell_type": "markdown",
      "metadata": {
        "id": "jrjh3DrfeT98"
      },
      "source": [
        "各データセットに対する島の個数からなるリストを返せ. 例えば上記のsample_q2.txtに対する返値は以下のリストである.\n",
        "\n",
        "```python\n",
        "[0, 1, 1, 3, 1, 9]\n",
        "```"
      ]
    },
    {
      "cell_type": "markdown",
      "metadata": {
        "id": "2-pgqtyVeT98"
      },
      "source": [
        "### Step 1. `count_islands()`をテストする`test_count_islands()`を完成"
      ]
    },
    {
      "cell_type": "code",
      "execution_count": null,
      "metadata": {
        "id": "1NEJ26jkeT98"
      },
      "outputs": [],
      "source": [
        "def test_count_islands():\n",
        "    \"\"\"\n",
        "    count_islands()をテストする\n",
        "    \"\"\""
      ]
    },
    {
      "cell_type": "markdown",
      "metadata": {
        "id": "RUNSKBpdeT98"
      },
      "source": [
        "### Step 2. `count_islands()`を完成"
      ]
    },
    {
      "cell_type": "code",
      "execution_count": null,
      "metadata": {
        "id": "HWbG3EgDeT98"
      },
      "outputs": [],
      "source": [
        "def count_islands(file_name):\n",
        "    \"\"\"\n",
        "    与えられたファイル名のファイルに記入された地図データを読み込み、島の個数を数える\n",
        "\n",
        "    Parameters:\n",
        "        file_name (str): 地図データファイルの名前\n",
        "\n",
        "    Returns:\n",
        "        list: 島の個数からなるリスト\n",
        "    \"\"\""
      ]
    },
    {
      "cell_type": "markdown",
      "metadata": {
        "id": "aybOQmYBeT98"
      },
      "source": [
        "### Step 3. テストの実行"
      ]
    },
    {
      "cell_type": "code",
      "execution_count": null,
      "metadata": {
        "id": "yvFlvepteT98"
      },
      "outputs": [],
      "source": [
        "local_run(test_count_islands)"
      ]
    },
    {
      "cell_type": "code",
      "execution_count": null,
      "metadata": {
        "id": "mjqmNR76eT99"
      },
      "outputs": [],
      "source": []
    }
  ],
  "metadata": {
    "kernelspec": {
      "display_name": ".venv",
      "language": "python",
      "name": "python3"
    },
    "language_info": {
      "codemirror_mode": {
        "name": "ipython",
        "version": 3
      },
      "file_extension": ".py",
      "mimetype": "text/x-python",
      "name": "python",
      "nbconvert_exporter": "python",
      "pygments_lexer": "ipython3",
      "version": "3.11.8"
    },
    "colab": {
      "provenance": [],
      "include_colab_link": true
    }
  },
  "nbformat": 4,
  "nbformat_minor": 0
}