{
  "cells": [
    {
      "cell_type": "markdown",
      "metadata": {
        "id": "view-in-github",
        "colab_type": "text"
      },
      "source": [
        "<a href=\"https://colab.research.google.com/github/F423058/socu-ids-prg01-2024-ex01--F423058-/blob/main/ex07.ipynb\" target=\"_parent\"><img src=\"https://colab.research.google.com/assets/colab-badge.svg\" alt=\"Open In Colab\"/></a>"
      ]
    },
    {
      "cell_type": "markdown",
      "metadata": {
        "id": "T4jyah3mTH_c"
      },
      "source": [
        "# 第7回課題"
      ]
    },
    {
      "cell_type": "code",
      "execution_count": 7,
      "metadata": {
        "id": "zZKzPRrzTH_e"
      },
      "outputs": [],
      "source": [
        "import os\n",
        "\n",
        "def run_test(t):\n",
        "    \"\"\"\n",
        "    自動採点を妨げずにテストを実行するための補助関数\n",
        "    \"\"\"\n",
        "    if not ('GRADING' in os.environ):\n",
        "        t()"
      ]
    },
    {
      "cell_type": "markdown",
      "metadata": {
        "id": "b6Za7qUMTH_f"
      },
      "source": [
        "## 三目並べ(tic-tac-toe)の作成"
      ]
    },
    {
      "cell_type": "markdown",
      "metadata": {
        "id": "l7nYVL6uTH_f"
      },
      "source": [
        "三目並べ（さんもくならべ）とは、$3\\times 3$の格子を用意し、二人が交互に'☓'と'◯'を書き込み、3つ並べるゲームである。まるかけ、まるぺけ、まるばつゲームとも呼ばれる。\n",
        "- wikipedia: https://ja.wikipedia.org/wiki/%E4%B8%89%E7%9B%AE%E4%B8%A6%E3%81%B9\n",
        "- ゲーム: https://www.google.com/search?q=%E4%B8%89%E7%9B%AE%E4%B8%A6%E3%81%B9"
      ]
    },
    {
      "cell_type": "markdown",
      "metadata": {
        "id": "nTU0yGsfTH_f"
      },
      "source": [
        "### Q1."
      ]
    },
    {
      "cell_type": "markdown",
      "metadata": {
        "id": "Yv5_32zSTH_g"
      },
      "source": [
        "$3\\times 3$のボードを作成する関数`create_board()`を完成させよ。ボードは2重リストで表現する。テスト関数`test_create_board()`は既に用意してあるが、必要に応じてテストケースを追加しても良い。"
      ]
    },
    {
      "cell_type": "code",
      "execution_count": 10,
      "metadata": {
        "id": "di_WCHOnTH_g"
      },
      "outputs": [],
      "source": [
        "def test_create_board():\n",
        "    \"\"\"\n",
        "    create_board()をテストする\n",
        "    \"\"\"\n",
        "    board = create_board('')\n",
        "    assert len(board) == 3\n",
        "    assert all([len(r) == 3 for r in board])\n",
        "    assert all([all([e == '' for e in r]) for r in board])\n",
        "\n",
        "    board = create_board('空')\n",
        "    assert all([all([e == '空' for e in r]) for r in board])\n",
        "\n",
        "    # 以下にテストケースを追加しても良い"
      ]
    },
    {
      "cell_type": "code",
      "execution_count": 9,
      "metadata": {
        "id": "81u09Fp5TH_g"
      },
      "outputs": [],
      "source": [
        "def create_board(v):\n",
        "    \"\"\"\n",
        "    三目並べのボード(3x3)を作成する\n",
        "\n",
        "    Parameters:\n",
        "        v: マス目の初期値\n",
        "\n",
        "    Returns:\n",
        "        list: 2重リストで表現されたボード\n",
        "    \"\"\"\n",
        "    return [['' for _ in range(3)] for _ in range(3)]"
      ]
    },
    {
      "cell_type": "code",
      "execution_count": 16,
      "metadata": {
        "id": "yzZijOSoTH_g",
        "outputId": "3b632cc1-7ad8-4257-90ac-530deb4d92d2",
        "colab": {
          "base_uri": "https://localhost:8080/",
          "height": 391
        }
      },
      "outputs": [
        {
          "output_type": "error",
          "ename": "AssertionError",
          "evalue": "",
          "traceback": [
            "\u001b[0;31m---------------------------------------------------------------------------\u001b[0m",
            "\u001b[0;31mAssertionError\u001b[0m                            Traceback (most recent call last)",
            "\u001b[0;32m<ipython-input-16-30f107d06748>\u001b[0m in \u001b[0;36m<cell line: 2>\u001b[0;34m()\u001b[0m\n\u001b[1;32m      1\u001b[0m \u001b[0;31m# テストの実行\u001b[0m\u001b[0;34m\u001b[0m\u001b[0;34m\u001b[0m\u001b[0m\n\u001b[0;32m----> 2\u001b[0;31m \u001b[0mrun_test\u001b[0m\u001b[0;34m(\u001b[0m\u001b[0mtest_create_board\u001b[0m\u001b[0;34m)\u001b[0m\u001b[0;34m\u001b[0m\u001b[0;34m\u001b[0m\u001b[0m\n\u001b[0m",
            "\u001b[0;32m<ipython-input-7-d9add88fd58e>\u001b[0m in \u001b[0;36mrun_test\u001b[0;34m(t)\u001b[0m\n\u001b[1;32m      6\u001b[0m     \"\"\"\n\u001b[1;32m      7\u001b[0m     \u001b[0;32mif\u001b[0m \u001b[0;32mnot\u001b[0m \u001b[0;34m(\u001b[0m\u001b[0;34m'GRADING'\u001b[0m \u001b[0;32min\u001b[0m \u001b[0mos\u001b[0m\u001b[0;34m.\u001b[0m\u001b[0menviron\u001b[0m\u001b[0;34m)\u001b[0m\u001b[0;34m:\u001b[0m\u001b[0;34m\u001b[0m\u001b[0;34m\u001b[0m\u001b[0m\n\u001b[0;32m----> 8\u001b[0;31m         \u001b[0mt\u001b[0m\u001b[0;34m(\u001b[0m\u001b[0;34m)\u001b[0m\u001b[0;34m\u001b[0m\u001b[0;34m\u001b[0m\u001b[0m\n\u001b[0m",
            "\u001b[0;32m<ipython-input-10-4455133a3912>\u001b[0m in \u001b[0;36mtest_create_board\u001b[0;34m()\u001b[0m\n\u001b[1;32m      9\u001b[0m \u001b[0;34m\u001b[0m\u001b[0m\n\u001b[1;32m     10\u001b[0m     \u001b[0mboard\u001b[0m \u001b[0;34m=\u001b[0m \u001b[0mcreate_board\u001b[0m\u001b[0;34m(\u001b[0m\u001b[0;34m'空'\u001b[0m\u001b[0;34m)\u001b[0m\u001b[0;34m\u001b[0m\u001b[0;34m\u001b[0m\u001b[0m\n\u001b[0;32m---> 11\u001b[0;31m     \u001b[0;32massert\u001b[0m \u001b[0mall\u001b[0m\u001b[0;34m(\u001b[0m\u001b[0;34m[\u001b[0m\u001b[0mall\u001b[0m\u001b[0;34m(\u001b[0m\u001b[0;34m[\u001b[0m\u001b[0me\u001b[0m \u001b[0;34m==\u001b[0m \u001b[0;34m'空'\u001b[0m \u001b[0;32mfor\u001b[0m \u001b[0me\u001b[0m \u001b[0;32min\u001b[0m \u001b[0mr\u001b[0m\u001b[0;34m]\u001b[0m\u001b[0;34m)\u001b[0m \u001b[0;32mfor\u001b[0m \u001b[0mr\u001b[0m \u001b[0;32min\u001b[0m \u001b[0mboard\u001b[0m\u001b[0;34m]\u001b[0m\u001b[0;34m)\u001b[0m\u001b[0;34m\u001b[0m\u001b[0;34m\u001b[0m\u001b[0m\n\u001b[0m\u001b[1;32m     12\u001b[0m \u001b[0;34m\u001b[0m\u001b[0m\n\u001b[1;32m     13\u001b[0m     \u001b[0;31m# 以下にテストケースを追加しても良い\u001b[0m\u001b[0;34m\u001b[0m\u001b[0;34m\u001b[0m\u001b[0m\n",
            "\u001b[0;31mAssertionError\u001b[0m: "
          ]
        }
      ],
      "source": [
        "# テストの実行\n",
        "run_test(test_create_board)"
      ]
    },
    {
      "cell_type": "markdown",
      "metadata": {
        "id": "rAQvOKGgTH_g"
      },
      "source": [
        "### Q2"
      ]
    },
    {
      "cell_type": "markdown",
      "metadata": {
        "id": "eUmdVOsxTH_g"
      },
      "source": [
        "ゲームの勝者をチェックする関数`check_winner()`を完成させよ。この関数はボードを引数として受け取り、ゲームの勝者がいるかどうかをチェックする。勝者がいる場合、その記号（'☓'または'◯'）を返す。まだ勝者がいない場合はボード自体を返す。"
      ]
    },
    {
      "cell_type": "markdown",
      "metadata": {
        "id": "HPYbT0rHTH_g"
      },
      "source": [
        "以下はプレイヤ(人間またはCPU)が書き込む記号の定義である。"
      ]
    },
    {
      "cell_type": "code",
      "execution_count": 14,
      "metadata": {
        "id": "PK-cgDOgTH_h"
      },
      "outputs": [],
      "source": [
        "# 記号を定義\n",
        "o = '◯'\n",
        "x = '☓'"
      ]
    },
    {
      "cell_type": "markdown",
      "metadata": {
        "id": "UPDVMEZyTH_h"
      },
      "source": [
        "#### Step 1"
      ]
    },
    {
      "cell_type": "markdown",
      "metadata": {
        "id": "Vl6drgV0TH_h"
      },
      "source": [
        "以下のテスト関数`test_check_winner()`は`check_winner()`のテストケースの一部を記述したものである。斜めに揃っているテストケースを2つ書き足し、`test_check_winner()`を完成させよ。"
      ]
    },
    {
      "cell_type": "code",
      "execution_count": 15,
      "metadata": {
        "id": "cbawJHi2TH_h"
      },
      "outputs": [],
      "source": [
        "def test_check_winner():\n",
        "    \"\"\"\n",
        "    check_winner()をテストする\n",
        "    \"\"\"\n",
        "    e = '' # 空\n",
        "\n",
        "    # Xが勝利(縦に揃っている)\n",
        "    board1 = [\n",
        "        [o,x,e],\n",
        "        [o,x,e],\n",
        "        [e,x,e]\n",
        "    ]\n",
        "    assert check_winner(board1) == x\n",
        "\n",
        "    # Oが勝利(横に揃っている)\n",
        "    board2 = [\n",
        "        [o,o,o],\n",
        "        [x,x,e],\n",
        "        [x,e,e]\n",
        "    ]\n",
        "    assert check_winner(board2) == o\n",
        "\n",
        "    # 勝者なし\n",
        "    board3 = [\n",
        "        [o,e,o],\n",
        "        [x,x,e],\n",
        "        [x,e,e]\n",
        "    ]\n",
        "    assert check_winner(board3) == board3\n",
        "    board4 = create_board(e)\n",
        "    assert check_winner(board4) == board4\n",
        "\n",
        "    # 斜めに揃っているテストケースを以下に追加せよ\n",
        "    board5 = [\n",
        "       [o,e,x],\n",
        "       [e,o,e],\n",
        "       [x,e,o]\n",
        "    ]\n",
        "    assert check_winner(board5) == x\n",
        "\n",
        "    board6 = [\n",
        "        [o,e,x],\n",
        "        [e,o,e],\n",
        "        [x,e,o]\n",
        "    ]\n",
        "    assert check_winner(board6) == o\n"
      ]
    },
    {
      "cell_type": "markdown",
      "metadata": {
        "id": "uMU_u9flTH_h"
      },
      "source": [
        "#### Step 2"
      ]
    },
    {
      "cell_type": "markdown",
      "metadata": {
        "id": "wpyx6u4dTH_h"
      },
      "source": [
        "`check_winner()`を完成させよ"
      ]
    },
    {
      "cell_type": "code",
      "execution_count": 20,
      "metadata": {
        "id": "oy2icFYJTH_h"
      },
      "outputs": [],
      "source": [
        "def check_winner(board):\n",
        "    \"\"\"\n",
        "    三目並べの勝敗を確認する。\n",
        "\n",
        "    Parameters:\n",
        "        board (list): 三目並べのボード\n",
        "\n",
        "    Returns:\n",
        "        str or list: 勝者がいる場合は文字列（'☓'または'◯'）、さもなくばボード\n",
        "    \"\"\"\n",
        "    for col in range(3):\n",
        "        if board[0][col] == board[1][col] == board[2][col] and board[0][col] != '':\n",
        "            return board[0][col]\n",
        "\n",
        "    if board[0][0] == board[1][1] == board[2][2] and board[0][0] != '':\n",
        "        return board[0][0]\n",
        "\n",
        "    if board[0][2] == board[1][1] == board[2][0] and board[0][2] != '':\n",
        "        return board[0][2]\n",
        "\n",
        "    return board"
      ]
    },
    {
      "cell_type": "markdown",
      "metadata": {
        "id": "SxWgDZ0qTH_h"
      },
      "source": [
        "#### Step 3"
      ]
    },
    {
      "cell_type": "markdown",
      "metadata": {
        "id": "uNt_TPZ9TH_h"
      },
      "source": [
        "以下を実行して`check_winner()`が正しいことを確認せよ。"
      ]
    },
    {
      "cell_type": "code",
      "execution_count": 19,
      "metadata": {
        "id": "XKxiSkLpTH_h",
        "outputId": "dd37b6e0-a4ee-4e6a-fed7-be693cf0c398",
        "colab": {
          "base_uri": "https://localhost:8080/",
          "height": 373
        }
      },
      "outputs": [
        {
          "output_type": "error",
          "ename": "AssertionError",
          "evalue": "",
          "traceback": [
            "\u001b[0;31m---------------------------------------------------------------------------\u001b[0m",
            "\u001b[0;31mAssertionError\u001b[0m                            Traceback (most recent call last)",
            "\u001b[0;32m<ipython-input-19-2a5a2fa3ed47>\u001b[0m in \u001b[0;36m<cell line: 1>\u001b[0;34m()\u001b[0m\n\u001b[0;32m----> 1\u001b[0;31m \u001b[0mrun_test\u001b[0m\u001b[0;34m(\u001b[0m\u001b[0mtest_check_winner\u001b[0m\u001b[0;34m)\u001b[0m\u001b[0;34m\u001b[0m\u001b[0;34m\u001b[0m\u001b[0m\n\u001b[0m",
            "\u001b[0;32m<ipython-input-7-d9add88fd58e>\u001b[0m in \u001b[0;36mrun_test\u001b[0;34m(t)\u001b[0m\n\u001b[1;32m      6\u001b[0m     \"\"\"\n\u001b[1;32m      7\u001b[0m     \u001b[0;32mif\u001b[0m \u001b[0;32mnot\u001b[0m \u001b[0;34m(\u001b[0m\u001b[0;34m'GRADING'\u001b[0m \u001b[0;32min\u001b[0m \u001b[0mos\u001b[0m\u001b[0;34m.\u001b[0m\u001b[0menviron\u001b[0m\u001b[0;34m)\u001b[0m\u001b[0;34m:\u001b[0m\u001b[0;34m\u001b[0m\u001b[0;34m\u001b[0m\u001b[0m\n\u001b[0;32m----> 8\u001b[0;31m         \u001b[0mt\u001b[0m\u001b[0;34m(\u001b[0m\u001b[0;34m)\u001b[0m\u001b[0;34m\u001b[0m\u001b[0;34m\u001b[0m\u001b[0m\n\u001b[0m",
            "\u001b[0;32m<ipython-input-15-8231266e94c5>\u001b[0m in \u001b[0;36mtest_check_winner\u001b[0;34m()\u001b[0m\n\u001b[1;32m     19\u001b[0m         \u001b[0;34m[\u001b[0m\u001b[0mx\u001b[0m\u001b[0;34m,\u001b[0m\u001b[0me\u001b[0m\u001b[0;34m,\u001b[0m\u001b[0me\u001b[0m\u001b[0;34m]\u001b[0m\u001b[0;34m\u001b[0m\u001b[0;34m\u001b[0m\u001b[0m\n\u001b[1;32m     20\u001b[0m     ]\n\u001b[0;32m---> 21\u001b[0;31m     \u001b[0;32massert\u001b[0m \u001b[0mcheck_winner\u001b[0m\u001b[0;34m(\u001b[0m\u001b[0mboard2\u001b[0m\u001b[0;34m)\u001b[0m \u001b[0;34m==\u001b[0m \u001b[0mo\u001b[0m\u001b[0;34m\u001b[0m\u001b[0;34m\u001b[0m\u001b[0m\n\u001b[0m\u001b[1;32m     22\u001b[0m \u001b[0;34m\u001b[0m\u001b[0m\n\u001b[1;32m     23\u001b[0m     \u001b[0;31m# 勝者なし\u001b[0m\u001b[0;34m\u001b[0m\u001b[0;34m\u001b[0m\u001b[0m\n",
            "\u001b[0;31mAssertionError\u001b[0m: "
          ]
        }
      ],
      "source": [
        "run_test(test_check_winner)"
      ]
    },
    {
      "cell_type": "markdown",
      "metadata": {
        "id": "40KKrzq5TH_h"
      },
      "source": [
        "### Q3"
      ]
    },
    {
      "cell_type": "markdown",
      "metadata": {
        "id": "QN90pfQBTH_h"
      },
      "source": [
        "三目並べのAIを作成する。三目並べのボード、空を表す記号、そして自分の記号（'☓'または'◯'）を受け取り、次に自分の記号を置くボード上の位置$(i,j)$を返す関数`ttc_ai()`を完成させよ。次の手の位置$(i,j)$はリスト`[i,j]`で表現する。\n",
        "- 記号を置く位置を決めるだけで、ボードを更新しないことに注意せよ。\n",
        "- 置ける場所がないときは空のリストを返すこと。\n",
        "\n",
        "強いAIを作る必要はないが、作っても良い。"
      ]
    },
    {
      "cell_type": "code",
      "execution_count": 22,
      "metadata": {
        "id": "HpFiXptpTH_h"
      },
      "outputs": [],
      "source": [
        "def test_ttc_ai():\n",
        "    \"\"\"\n",
        "    ttc_ai()をテストする。\n",
        "    \"\"\"\n",
        "    e = '' # 空\n",
        "    board1 = [\n",
        "        [o, e, x],\n",
        "        [o, e, x],\n",
        "        [x, o, e]\n",
        "    ]\n",
        "    pos1 = ttc_ai(board1, e, o)\n",
        "\n",
        "    # board1にはまだ'◯'を置ける場所がある\n",
        "    assert pos1\n",
        "\n",
        "    # 次の手の位置(x,y)は空である(まだ置いていないため)\n",
        "    r, c = pos1\n",
        "    assert board1[r][c] == e\n",
        "\n",
        "    board2 = [\n",
        "        [o, o, o],\n",
        "        [o, x, x],\n",
        "        [x, x, x]\n",
        "    ]\n",
        "    pos2 = ttc_ai(board2, e, o)\n",
        "\n",
        "    # board2にはもう置ける場所がない\n",
        "    assert not pos2\n",
        "\n",
        "    # 以下にテストケースを追加しても良い\n",
        "    board3 = [\n",
        "        [x,o,x],\n",
        "        [o,x,e],\n",
        "        [e,o,e]\n",
        "    ]\n",
        "    assert ttc_ai(board3,e,x) == [0,0]\n",
        "\n",
        "    board4 = [\n",
        "        [x,o,x],\n",
        "        [o,x,e],\n",
        "        [x,o,e]\n",
        "    ]\n",
        "    pos4 = ttc_ai(board4,e,x)\n",
        "    assert pos4 == [2,2]"
      ]
    },
    {
      "cell_type": "code",
      "execution_count": null,
      "metadata": {
        "id": "6vIQJvFtTH_h"
      },
      "outputs": [],
      "source": [
        "def ttc_ai(board, empty, sym):\n",
        "    \"\"\"\n",
        "    三目並べのCPU(コンピュータ)の次の手を返す\n",
        "\n",
        "    Parameters:\n",
        "        board (list): 三目並べのボード\n",
        "        empty: 空を表す記号\n",
        "        sym (str): 自分(コンピュータ)の記号\n",
        "\n",
        "    Returns:\n",
        "        list: 次に記号を置く位置を表すリスト\n",
        "    \"\"\"\n",
        "\n"
      ]
    },
    {
      "cell_type": "code",
      "execution_count": null,
      "metadata": {
        "id": "Thb0BdGdTH_h"
      },
      "outputs": [],
      "source": [
        "run_test(test_ttc_ai)"
      ]
    },
    {
      "cell_type": "markdown",
      "metadata": {
        "id": "VXoKTFhyTH_h"
      },
      "source": [
        "# 三目並べで遊ぶ"
      ]
    },
    {
      "cell_type": "markdown",
      "metadata": {
        "id": "S_DNBnScTH_h"
      },
      "source": [
        "プログラムが完成したら、以下を実行することで、自分で作成したAIと三目並べを遊ぶことができる。"
      ]
    },
    {
      "cell_type": "code",
      "execution_count": null,
      "metadata": {
        "id": "rs073k9OTH_i"
      },
      "outputs": [],
      "source": [
        "!wget --no-check-certificate -O ttc.7z \"https://docs.google.com/uc?export=download&id=1nxjggy66--xzT-sf2ok9cSbfo4_25NeO\"\n",
        "!7z x ttc.7z\n",
        "import ttc"
      ]
    },
    {
      "cell_type": "code",
      "execution_count": null,
      "metadata": {
        "id": "DW1Me5LvTH_i"
      },
      "outputs": [],
      "source": [
        "ttc.play_ttc(create_board, check_winner, ttc_ai, o, x)"
      ]
    }
  ],
  "metadata": {
    "kernelspec": {
      "display_name": ".venv",
      "language": "python",
      "name": "python3"
    },
    "language_info": {
      "codemirror_mode": {
        "name": "ipython",
        "version": 3
      },
      "file_extension": ".py",
      "mimetype": "text/x-python",
      "name": "python",
      "nbconvert_exporter": "python",
      "pygments_lexer": "ipython3",
      "version": "3.11.8"
    },
    "colab": {
      "provenance": [],
      "include_colab_link": true
    }
  },
  "nbformat": 4,
  "nbformat_minor": 0
}