{
  "cells": [
    {
      "cell_type": "markdown",
      "metadata": {
        "id": "view-in-github",
        "colab_type": "text"
      },
      "source": [
        "<a href=\"https://colab.research.google.com/github/F423058/socu-ids-prg01-2024-ex01--F423058-/blob/main/ex05.ipynb\" target=\"_parent\"><img src=\"https://colab.research.google.com/assets/colab-badge.svg\" alt=\"Open In Colab\"/></a>"
      ]
    },
    {
      "cell_type": "markdown",
      "metadata": {
        "id": "YjRFXQ8hJapL"
      },
      "source": [
        "# 第5回 演習課題"
      ]
    },
    {
      "cell_type": "markdown",
      "metadata": {
        "id": "1kuGnmItJapP"
      },
      "source": [
        "## Q1"
      ]
    },
    {
      "cell_type": "markdown",
      "metadata": {
        "id": "skXU5avhJapQ"
      },
      "source": [
        "引数で与えられた文字列が回文かどうかを判定する述語`is_palindrome()`を、以下の手順に従って完成させよ。\n",
        "1. `is_palindrome()`のテストケースを考え、`test_is_palindrome()`にテストを記述する。\n",
        "1. `is_palindrome()`を完成させる\n",
        "1. `test_is_palindrome()`を実行して、`is_palindrome()`に誤りがないことを確認する。"
      ]
    },
    {
      "cell_type": "code",
      "execution_count": 9,
      "metadata": {
        "id": "pUXzegSpJapQ"
      },
      "outputs": [],
      "source": [
        "def test_is_palindrome():\n",
        "    \"\"\"\n",
        "    is_palindrome()をテストする\n",
        "    \"\"\"\n",
        "    assert is_palindrome('level') == True\n",
        "    assert is_palindrome('panda') == False\n"
      ]
    },
    {
      "cell_type": "code",
      "execution_count": 7,
      "metadata": {
        "id": "dYl9CQhnJapS"
      },
      "outputs": [],
      "source": [
        "def is_palindrome(text):\n",
        "    \"\"\"\n",
        "    引数で与えられた文字列が回文かどうかを判定する\n",
        "\n",
        "    Args:\n",
        "        text (str): 判定対象の文字列\n",
        "\n",
        "    Returns:\n",
        "        bool: True: 回文, False: 回文ではない\n",
        "    \"\"\"\n",
        "    return text.lower() == text.lower()[::-1]"
      ]
    },
    {
      "cell_type": "code",
      "execution_count": 10,
      "metadata": {
        "id": "jjlYnLjXJapS"
      },
      "outputs": [],
      "source": [
        "# テストを実行して誤りがないことを確認する\n",
        "test_is_palindrome()"
      ]
    },
    {
      "cell_type": "markdown",
      "metadata": {
        "id": "r1jZx42PJapT"
      },
      "source": [
        "## Q2"
      ]
    },
    {
      "cell_type": "markdown",
      "metadata": {
        "id": "xll3AxNxJapT"
      },
      "source": [
        "君は古代ローマのスパイで、敵から奪った暗号化されたメッセージを解読する任務を受けた。このメッセージはシーザー暗号という方法で暗号化されている。シーザー暗号は、アルファベットを一定の数だけシフト（例えば3文字分）することで暗号化する。\n",
        "\n",
        "例えば、シフトが3の場合、'A’は’D’に、'B’は’E’に、'C’は’F’になる。同様に、'X’は’A’に、'Y’は’B’に、'Z’は’C’になる。暗号化されたメッセージを復号化するためには、逆にシフトする必要がある。\n",
        "\n",
        "君の任務は、与えられた暗号化されたメッセージと暗号化に使われたシフトの数を元に、元のメッセージを復元するPythonプログラム`decrypt_caesar_cipher()`を作成することである。\n",
        "\n",
        "- 入力: 暗号化されたメッセージ（文字列）と暗号化に使われたシフトの数（整数）\n",
        "- 出力: 復元されたメッセージ（文字列）\n",
        "\n",
        "注意: この問題では、大文字と小文字を区別し、英字(a-zA-Zのアルファベット)以外の文字（数字、ひらがな、カタカナ、漢字、スペース、句読点など）はシフトせずにそのままにすること。\n",
        "\n",
        "以下の手順に従って、`decrypt_caesar_cipher()`を完成させよ。\n",
        "1. `decrypt_caesar_cipher()`のテストケースを考え、`test_decrypt_caesar_cipher()`にテストを記述する。\n",
        "1. `decrypt_caesar_cipher()`を完成させる\n",
        "1. `test_decrypt_caesar_cipher()`を実行して、`decrypt_caesar_cipher()`に誤りがないことを確認する。\n",
        "\n",
        "ヒント:\n",
        "1. 大文字のアルファベットは'A'以上'Z'以下、小文字のアルファベットは'a'以上'z'以下である。\n",
        "1. 文字からコードポイント(整数)へは`ord()`関数を使って変換できる。\n",
        "\n",
        "参考:\n",
        "- https://ja.wikipedia.org/wiki/%E3%82%B7%E3%83%BC%E3%82%B6%E3%83%BC%E6%9A%97%E5%8F%B7"
      ]
    },
    {
      "cell_type": "code",
      "execution_count": 16,
      "metadata": {
        "id": "dIQy6Y-7JapU"
      },
      "outputs": [],
      "source": [
        "def test_decrypt_caesar_cipher():\n",
        "    \"\"\"\n",
        "    decrypt_caesar_cipher()をテストする\n",
        "    \"\"\"\n",
        "    assert decrypt_caesar_cipher('hello',3) == 'khoor'\n",
        "    assert decrypt_caesar_cipher('HELLO',3) == 'KHOOR'"
      ]
    },
    {
      "cell_type": "code",
      "execution_count": 17,
      "metadata": {
        "id": "8VcYi-nqJapU"
      },
      "outputs": [],
      "source": [
        "def decrypt_caesar_cipher(encrypted_message, shift):\n",
        "    \"\"\"\n",
        "    シーザー暗号で暗号化されたメッセージを復号化する関数\n",
        "\n",
        "    Args:\n",
        "        encrypted_message (str): 暗号化されたメッセージ\n",
        "        shift (int): 暗号化に使用されたシフト数\n",
        "\n",
        "    Returns:\n",
        "        str: 復号化されたメッセージ\n",
        "    \"\"\"\n",
        "    result = ''\n",
        "    for char in list(encrypted_message):\n",
        "        code = ord(char)\n",
        "        if 97 <= code and code <= 122:\n",
        "             n = code - 97\n",
        "             n = (n + shift) % 26\n",
        "             code = n + 97\n",
        "             result += chr(code)\n",
        "        if 65 <= code and code <= 90:\n",
        "             n = code - 65\n",
        "             n = (n + shift) % 26\n",
        "             code = n + 65\n",
        "             result += chr(code)\n",
        "    return result\n",
        "\n"
      ]
    },
    {
      "cell_type": "code",
      "execution_count": 18,
      "metadata": {
        "id": "x1UXPBF8JapV"
      },
      "outputs": [],
      "source": [
        "# テストを実行して誤りがないことを確認する\n",
        "test_decrypt_caesar_cipher()"
      ]
    },
    {
      "cell_type": "markdown",
      "metadata": {
        "id": "KyLY6IMPJapV"
      },
      "source": [
        "## Q3"
      ]
    },
    {
      "cell_type": "markdown",
      "metadata": {
        "id": "9PtH404VJapV"
      },
      "source": [
        "与えられた2つの文字列の最長共通部分列（LCS: Longest Common Subsequence）を見つける関数`find_lcs()`を、以下の手順で完成させよ。\n",
        "\n",
        "1. `find_lcs()`のテストケースを考え、`test_find_lcs()`にテストを記述する。\n",
        "1. `find_lcs()`を完成させる\n",
        "1. `test_find_lcs()`を実行して、`find_lcs()`に誤りがないことを確認する。\n",
        "\n",
        "\n",
        "注意: 最長共通部分列とは、2つの文字列に共通する部分列のうち最も長いもののことを指す。例えば、\n",
        "- 文字列 “ABCBDAB” と “BDCAB” の最長共通部分列は “BDAB”\n",
        "- 文字列 “ABCX” と “AYBZC” の最長共通部分列は “ABC”\n",
        "\n",
        "となる。この問題はバイオインフォマティクスに応用(ゲノムは文字列とみなせるため)されている他、テキストファイル(プログラムのソースコードを含む)の差分を表示するツールdiffの基礎である。\n",
        "\n",
        "参考:\n",
        "- https://ja.wikipedia.org/wiki/%E6%9C%80%E9%95%B7%E5%85%B1%E9%80%9A%E9%83%A8%E5%88%86%E5%88%97%E5%95%8F%E9%A1%8C\n",
        "\n",
        "\n",
        "ヒント: 2つの文字列を`text1`と`text2`とし、$lcs(i,j)$を`text[:i]`と`text[:j]`の最長共通部分列とすると、以下が成り立つ。\n",
        "\n",
        "$lcs(i,j) = \\left\\{ \\begin{array}{ll}\n",
        "\\text{\"\"} & \\text{if} i = 0 \\text{or} j = 0\\\\\n",
        "lcs(i-1, j-1) + \\text{text1[i-1]} & \\text{if} \\text{text1[i-1]} = \\text{text2[j-1]} \\\\\n",
        "max(lcs(i-1, j), lcs(i, j-1)) & \\text{otherwise}\n",
        "\\end{array}\\right.$\n",
        "\n",
        "辞書順序で文字列に大小関係が定義されるため、関数`max()`は文字列に対しても使うことができる。関数`max()`は辞書順序で小さくない方の文字列を返す。"
      ]
    },
    {
      "cell_type": "code",
      "execution_count": 20,
      "metadata": {
        "id": "DC7QlcyDJapW"
      },
      "outputs": [],
      "source": [
        "def test_find_lcs():\n",
        "    \"\"\"\n",
        "    find_lcs()をテストする\n",
        "    \"\"\"\n",
        "    assert find_lcs('ABCBDAB','BDCAB') == 'BDAB'\n",
        ""
      ]
    },
    {
      "cell_type": "code",
      "execution_count": 19,
      "metadata": {
        "id": "7VFIH8QOJapW"
      },
      "outputs": [],
      "source": [
        "def find_lcs(text1, text2):\n",
        "    \"\"\"\n",
        "    2つの文字列の最長共通部分列を見つける\n",
        "\n",
        "    Args:\n",
        "        text1 (str): 1つ目の文字列\n",
        "        text2 (str): 2つ目の文字列\n",
        "\n",
        "    Returns:\n",
        "        str: 最長共通部分列\n",
        "    \"\"\"\n",
        "    m = len(text1)\n",
        "    n = len(text2)\n",
        "    dp = [[0] * (n + 1) for _ in range(m + 1)]\n",
        "\n",
        "    for i in range(1, m + 1):\n",
        "        for j in range(1, n + 1):\n",
        "            if text1[i - 1] == text2[j - 1]:\n",
        "                dp[i][j] = dp[i - 1][j - 1] + 1\n",
        "            else:\n",
        "                dp[i][j] = max(dp[i - 1][j], dp[i][j - 1])\n",
        "\n",
        "    lcs = ''\n",
        "    i, j = m, n\n",
        "    while i > 0 and j > 0:\n",
        "        if text1[i - 1] == text2[j - 1]:\n",
        "            lcs = text1[i - 1] + lcs\n",
        "            i -= 1\n",
        "            j -= 1\n",
        "        elif dp[i - 1][j] > dp[i][j - 1]:\n",
        "            i -= 1\n",
        "        else:\n",
        "            j -= 1\n",
        "\n",
        "    return lcs\n"
      ]
    },
    {
      "cell_type": "code",
      "execution_count": 21,
      "metadata": {
        "id": "qCcYJiL5JapW"
      },
      "outputs": [],
      "source": [
        "# テストを実行して誤りがないことを確認する\n",
        "test_find_lcs()"
      ]
    },
    {
      "cell_type": "code",
      "source": [],
      "metadata": {
        "id": "cbSaiKX7D0nK"
      },
      "execution_count": null,
      "outputs": []
    }
  ],
  "metadata": {
    "kernelspec": {
      "display_name": ".venv",
      "language": "python",
      "name": "python3"
    },
    "language_info": {
      "codemirror_mode": {
        "name": "ipython",
        "version": 3
      },
      "file_extension": ".py",
      "mimetype": "text/x-python",
      "name": "python",
      "nbconvert_exporter": "python",
      "pygments_lexer": "ipython3",
      "version": "3.11.8"
    },
    "colab": {
      "provenance": [],
      "include_colab_link": true
    }
  },
  "nbformat": 4,
  "nbformat_minor": 0
}