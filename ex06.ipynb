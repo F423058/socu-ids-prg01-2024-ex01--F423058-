{
  "cells": [
    {
      "cell_type": "markdown",
      "metadata": {
        "id": "view-in-github",
        "colab_type": "text"
      },
      "source": [
        "<a href=\"https://colab.research.google.com/github/F423058/socu-ids-prg01-2024-ex01--F423058-/blob/main/ex06.ipynb\" target=\"_parent\"><img src=\"https://colab.research.google.com/assets/colab-badge.svg\" alt=\"Open In Colab\"/></a>"
      ]
    },
    {
      "cell_type": "markdown",
      "metadata": {
        "id": "PN5mpXlZiBhF"
      },
      "source": [
        "# 第6回 演習課題"
      ]
    },
    {
      "cell_type": "markdown",
      "metadata": {
        "id": "oe_oJ7G6iBhF"
      },
      "source": [
        "## Q1. 総和と平均"
      ]
    },
    {
      "cell_type": "markdown",
      "metadata": {
        "id": "9SbviKX-iBhG"
      },
      "source": [
        "空でない整数のリスト$l$の\n",
        "- 合計値$\\sum l$を0番目の要素\n",
        "- 平均$\\bar{l}$を1番目の要素\n",
        "\n",
        "とするリストを返す関数`calculate_stats()`を、以下の手順で定義せよ。\n",
        "\n",
        "1. `calculate_stats()`のテストケースを考え、`test_calculate_stats()`を完成させよ。\n",
        "1. `calculate_stats()`を完成させよ\n",
        "1. `test_calculate_stats()`を実行して、少なくともテストケースに対して`calculate_stats()`が正しいことを確認せよ"
      ]
    },
    {
      "cell_type": "code",
      "execution_count": null,
      "metadata": {
        "id": "OzduC7ufiBhG"
      },
      "outputs": [],
      "source": [
        "def test_calculate_stats():\n",
        "    \"\"\"\n",
        "    calculate_stats()をテストする\n",
        "    \"\"\"\n",
        "l1 = [1,2,3,4,5]\n",
        "answer1 = [15,3]\n",
        "assert calculate_stats(l1) == answer1\n",
        "\n",
        "l2 = [-1,-2,-3,-4,-5]\n",
        "answer2 = [-15,-3]\n",
        "assert calculate_stats(l2) == answer2\n",
        "\n",
        "l3 = [1,-2,3,-4,5]\n",
        "answer3 = [3,0.6]\n",
        "assert calculate_stats(l3) == answer3\n",
        "\n",
        "l4 = [1,1,1,1,1]\n",
        "answer4 = [5,1]\n",
        "assert calculate_stats(l4) == answer4\n",
        "\n",
        "l5 = [5]\n",
        "answer5 = [5,5]\n",
        "assert calculate_stats(l5) == answer5"
      ]
    },
    {
      "cell_type": "code",
      "execution_count": null,
      "metadata": {
        "id": "iLSFrHaJiBhH"
      },
      "outputs": [],
      "source": [
        "def calculate_stats(l):\n",
        "    \"\"\"\n",
        "    整数のリストの合計と平均を計算する関数\n",
        "\n",
        "    Params:\n",
        "        l (list): 整数のリスト\n",
        "\n",
        "    Returns:\n",
        "        list: 合計と平均のリスト\n",
        "    \"\"\"\n",
        "    total = sum(l)\n",
        "    average = total / len(l)\n",
        "    return [total,average]"
      ]
    },
    {
      "cell_type": "code",
      "execution_count": null,
      "metadata": {
        "id": "vLUC_s09iBhH"
      },
      "outputs": [],
      "source": [
        "test_calculate_stats()"
      ]
    },
    {
      "cell_type": "markdown",
      "metadata": {
        "id": "HXVJ4m-uiBhH"
      },
      "source": [
        "## Q2. 中央値"
      ]
    },
    {
      "cell_type": "markdown",
      "metadata": {
        "id": "6RsfELlpiBhH"
      },
      "source": [
        "空でない整数のリストの中央値を返す関数`median()`を以下の手順で定義せよ。\n",
        "\n",
        "1. `median()`のテストケースを少なくとも2つ考え、`test_median()`を完成させよ\n",
        "1. `median()`を完成させよ\n",
        "1. `test_median()`を実行して、少なくともテストケースに対して`median()`が正しいことを確認せよ"
      ]
    },
    {
      "cell_type": "markdown",
      "metadata": {
        "id": "Gl7dfcuYiBhH"
      },
      "source": [
        "### ヒント\n",
        "\n",
        "中央値を求めるには、リストの要素を昇順に並び替えた後、\n",
        "- リストの要素数$n$が奇数個の場合: 昇順に並び替えた$\\frac{n+1}{2}$番目の値、\n",
        "- リストの要素数$n$が偶数個の場合: 順に並び替えた$\\frac{n}{2}$番目と$\\frac{n}{2}+1$の値の平均の値、\n",
        "\n",
        "を取得する。ただし$n$は与えられたリストの要素数である。"
      ]
    },
    {
      "cell_type": "code",
      "execution_count": null,
      "metadata": {
        "id": "vPbAbSDyiBhI"
      },
      "outputs": [],
      "source": [
        "import numpy as np\n",
        "def test_median():\n",
        "    \"\"\"\n",
        "    median()をテストする\n",
        "    \"\"\"\n",
        "data1 = [1,3,2,4,5,6]\n",
        "answer1 = 3.5\n",
        "assert median(data1) == answer1\n",
        "\n",
        "data2 = [5]\n",
        "answer2 = 5\n",
        "assert median(data2) == answer2\n",
        "\n",
        "data3 = [1,3,2,]\n",
        "answer3 = 2\n",
        "assert median(data3) == answer3\n",
        "\n",
        "data4 = [3,3,3,3]\n",
        "answer4 = 3\n",
        "assert median(data4) == answer4\n",
        "\n",
        "data5 = [-1,-3,-4,-2]\n",
        "answer5 = -2.5\n",
        "assert median(data5) == answer5"
      ]
    },
    {
      "cell_type": "code",
      "execution_count": null,
      "metadata": {
        "id": "YFrhPhrTiBhI"
      },
      "outputs": [],
      "source": [
        "def median(data):\n",
        "    \"\"\"\n",
        "    与えられたリストの中央値を計算する\n",
        "\n",
        "    Parameters:\n",
        "        data (list): 空でない整数のリスト\n",
        "\n",
        "    Returns:\n",
        "        float: 中央値\n",
        "    \"\"\"\n",
        "    sorted_list = sorted(data)\n",
        "    n = len(sorted_list)\n",
        "    index = n // 2\n",
        "    if n % 2 == 0:\n",
        "      return (sorted_list[index-1]+sorted_list[index]) / 2\n",
        "    else:\n",
        "      return sorted_list[index]"
      ]
    },
    {
      "cell_type": "code",
      "execution_count": null,
      "metadata": {
        "id": "JIjSa_P4iBhI"
      },
      "outputs": [],
      "source": [
        "test_median()"
      ]
    },
    {
      "cell_type": "markdown",
      "metadata": {
        "id": "5aKFtN3WiBhI"
      },
      "source": [
        "## Q3. 標本分散"
      ]
    },
    {
      "cell_type": "markdown",
      "metadata": {
        "id": "SICMRBcniBhI"
      },
      "source": [
        "空でない整数のリストの標本分散を求める関数`var()`を、以下の手順で定義せよ。\n",
        "\n",
        "1. `var()`のテストケースを少なくとも2つ考え、`test_var()`を完成させよ\n",
        "1. `var()`を完成させよ\n",
        "1. `test_var()`を実行して、少なくともテストケースに対して`var()`が正しいことを確認せよ"
      ]
    },
    {
      "cell_type": "markdown",
      "metadata": {
        "id": "KG_8-wvviBhI"
      },
      "source": [
        "### ヒント\n",
        "\n",
        "与えられたリストを$X$, リストの長さを$n$, リストの$i$番目の値を$X_i$、リストの要素の平均値を$\\bar{X}$とすると、標本分散は以下で定義される\n",
        "\n",
        "$\\frac{1}{n}\\sum_{i=0}^{n-1} (X_i - \\bar{X})^2$\n"
      ]
    },
    {
      "cell_type": "code",
      "execution_count": null,
      "metadata": {
        "id": "M_WyoYPsiBhI"
      },
      "outputs": [],
      "source": [
        "import numpy as np\n",
        "def test_var():\n",
        "    \"\"\"\n",
        "    var()をテストする\n",
        "    \"\"\"\n"
      ]
    },
    {
      "cell_type": "code",
      "execution_count": null,
      "metadata": {
        "id": "KqlR7iiTiBhJ"
      },
      "outputs": [],
      "source": [
        "def var(data):\n",
        "    \"\"\"\n",
        "    与えられたリストの標本分散を計算する\n",
        "\n",
        "    Parameters:\n",
        "        data (list): 空でない整数のリスト\n",
        "\n",
        "    Returns:\n",
        "        float: 標本分散\n",
        "    \"\"\"\n",
        "\n"
      ]
    },
    {
      "cell_type": "code",
      "execution_count": null,
      "metadata": {
        "id": "uW3nURg3iBhJ"
      },
      "outputs": [],
      "source": [
        "test_var()"
      ]
    },
    {
      "cell_type": "markdown",
      "metadata": {
        "id": "NfMn5NR3iBhJ"
      },
      "source": [
        "## Q4.\n",
        "$\\forall x\\in S, xは偶数$"
      ]
    },
    {
      "cell_type": "markdown",
      "metadata": {
        "id": "qYU9pyMYiBhJ"
      },
      "source": [
        "空でない整数のリストの要素が全て偶数であるときTrue、さもなくばFalseを返す述語`all_even()`を、以下の手順にしたがって定義せよ。\n",
        "\n",
        "1. `all_even()`のテストケースを少なくとも2つ考え、`test_all_even()`を完成させよ\n",
        "1. `all_even()`を完成させよ\n",
        "1. `test_all_even()`を実行して、少なくともテストケースに対しては`all_even()`が正しいことを確認せよ"
      ]
    },
    {
      "cell_type": "code",
      "execution_count": null,
      "metadata": {
        "id": "5Udb5xfxiBhJ"
      },
      "outputs": [],
      "source": [
        "def test_all_even():\n",
        "    \"\"\"\n",
        "    all_even()をテストする\n",
        "    \"\"\"\n"
      ]
    },
    {
      "cell_type": "code",
      "execution_count": null,
      "metadata": {
        "id": "xGiblI_KiBhJ"
      },
      "outputs": [],
      "source": [
        "def all_even(numbers):\n",
        "    \"\"\"\n",
        "    与えられた整数のリストの要素が全て偶数であるかどうか判定する\n",
        "\n",
        "    Parameters:\n",
        "        numbers (list): 空でない整数のリスト\n",
        "\n",
        "    Returns:\n",
        "        bool: numbersの要素が全て偶数ならTrue、さもなくばFalse\n",
        "    \"\"\"\n"
      ]
    },
    {
      "cell_type": "code",
      "execution_count": null,
      "metadata": {
        "id": "eCceGTIWiBhJ"
      },
      "outputs": [],
      "source": [
        "test_all_even()"
      ]
    },
    {
      "cell_type": "markdown",
      "metadata": {
        "id": "SGODgooeiBhJ"
      },
      "source": [
        "## Q5.\n",
        "$\\exists x \\in S, xは偶数$"
      ]
    },
    {
      "cell_type": "markdown",
      "metadata": {
        "id": "CXxFBR1ViBhJ"
      },
      "source": [
        "空でない整数のリストの要素に1つでも偶数があるときTrue、さもなくばFalseを返す述語`any_even()`を、以下の手順にしたがって定義せよ。\n",
        "\n",
        "1. `any_even()`のテストケースを少なくとも2つ考え、`test_any_even()`を完成させよ\n",
        "1. `any_even()`を完成させよ\n",
        "1. `test_any_even()`を実行して、少なくともテストケースに対しては`any_even()`が正しいことを確認せよ"
      ]
    },
    {
      "cell_type": "code",
      "execution_count": null,
      "metadata": {
        "id": "unhSpj6ciBhK"
      },
      "outputs": [],
      "source": [
        "def test_any_even():\n",
        "    \"\"\"\n",
        "    any_even()をテストする\n",
        "    \"\"\"\n"
      ]
    },
    {
      "cell_type": "code",
      "execution_count": null,
      "metadata": {
        "id": "1h5XMw4ZiBhK"
      },
      "outputs": [],
      "source": [
        "def any_even(numbers):\n",
        "    \"\"\"\n",
        "    与えられた整数のリストの要素に偶数があるかどうか判定する\n",
        "\n",
        "    Parameters:\n",
        "        numbers (list): 空でない整数のリスト\n",
        "\n",
        "    Returns:\n",
        "        bool: numbersの要素に偶数が含まれるならTrue、さもなくばFalse\n",
        "    \"\"\"\n"
      ]
    },
    {
      "cell_type": "code",
      "execution_count": null,
      "metadata": {
        "id": "Oo14286KiBhK"
      },
      "outputs": [],
      "source": [
        "test_any_even()"
      ]
    },
    {
      "cell_type": "markdown",
      "metadata": {
        "id": "YWubj7jNiBhK"
      },
      "source": [
        "## Q6. Bulls & Cows (Hit & Blow)"
      ]
    },
    {
      "cell_type": "markdown",
      "metadata": {
        "id": "KTeSyB2diBhK"
      },
      "source": [
        "Bulls and cowsは数当てゲームである。日本ではHit&Blowとも言われている。\n",
        "- 説明: https://en.wikipedia.org/wiki/Bulls_and_cows\n",
        "- ゲーム(遊んでみよ): https://bubudoufu.com/webapp/hit-and-blow/\n",
        "\n",
        "このゲームのBull数とCow数(Hit数とBlow数)を求めるのが、本課題である。\n",
        "\n",
        "0から9までの数字のリスト$g$と$s$が与えられたとき、bull数(hit数)を0番目の要素、cow数(blow数)を1番目の要素とするリストを返す関数`bulls_and_cows()`を以下の手順で定義せよ。\n",
        "1. `bulls_and_cows()`のテストケースを考え、`test_bulls_and_cows()`を完成させよ\n",
        "1. `bulls_and_cows()`を完成させよ\n",
        "1. `test_bulls_and_cows()`を実行して、少なくともテストケースに対して`bulls_and_cows()`が正しいことを確認せよ\n",
        "\n",
        "ただし、\n",
        "- bull数: $g$と$s$の数字も場所も合っている数, i.e., $g[i]=s[i]$となる$i$の数\n",
        "- cow数: $g$の数字の内で、$s$に含まれるが、$s$と位置が異なるものの数, i.e., $g[i]\\in s \\wedge g[i]\\ne s[i]$となる$i$の数\n",
        "- $g$に含まれる数字は全て相異なる, i.e., $\\forall i \\forall j, g[i] = g[j] \\iff i = j$\n",
        "- $s$に含まれる数字は全て相異なる, i.e., $\\forall i \\forall j, s[i] = s[j] \\iff i = j$\n",
        "- $4 \\leq \\text{len}(g) = \\text{len}(s) \\leq 10$\n",
        "\n",
        "である。"
      ]
    },
    {
      "cell_type": "code",
      "execution_count": null,
      "metadata": {
        "id": "mNF5LJIqiBhK"
      },
      "outputs": [],
      "source": [
        "def test_bulls_and_cows():\n",
        "    \"\"\"\n",
        "    bulls_and_cows()をテストする\n",
        "    \"\"\"\n"
      ]
    },
    {
      "cell_type": "code",
      "execution_count": null,
      "metadata": {
        "id": "pjwShIijiBhK"
      },
      "outputs": [],
      "source": [
        "def bulls_and_cows(guess, secret):\n",
        "    \"\"\"\n",
        "    guessとsecretのbull数とcow数を求める\n",
        "\n",
        "    Parameters:\n",
        "        guess (list): 0から9までの相異なる数字が並んだリスト。プレイヤーの予想。\n",
        "        secret (list): 0から9までの相異なる数字が並んだリスト。正解。\n",
        "\n",
        "    Returns:\n",
        "        list: bull数を0番目、cow数を1番目の要素とするリスト\n",
        "    \"\"\"\n"
      ]
    },
    {
      "cell_type": "code",
      "execution_count": null,
      "metadata": {
        "id": "i2ODoQaniBhK"
      },
      "outputs": [],
      "source": [
        "test_bulls_and_cows()"
      ]
    },
    {
      "cell_type": "markdown",
      "metadata": {
        "id": "2epqhV2CiBhK"
      },
      "source": [
        "## おまけ: Bulls and Cowsで遊ぶ"
      ]
    },
    {
      "cell_type": "markdown",
      "metadata": {
        "id": "DlaqmMLTiBhL"
      },
      "source": [
        "`bulls_and_cows()`が完成したら、以下を実行することで、ゲームで遊ぶことができる。"
      ]
    },
    {
      "cell_type": "code",
      "source": [
        "!wget --no-check-certificate -O game.7z \"https://docs.google.com/uc?export=download&id=1ruZ2zXzFCmHKyTtZkGV6GVGsWMniB6W4\"\n",
        "!7z x game.7z\n",
        "import game"
      ],
      "metadata": {
        "id": "DAUgOCnkjC5I"
      },
      "execution_count": null,
      "outputs": []
    },
    {
      "cell_type": "code",
      "source": [
        "game.start_game(bulls_and_cows)"
      ],
      "metadata": {
        "id": "F1Zw9S2SifcB"
      },
      "execution_count": null,
      "outputs": []
    }
  ],
  "metadata": {
    "kernelspec": {
      "display_name": "Python 3",
      "name": "python3"
    },
    "language_info": {
      "codemirror_mode": {
        "name": "ipython",
        "version": 3
      },
      "file_extension": ".py",
      "mimetype": "text/x-python",
      "name": "python",
      "nbconvert_exporter": "python",
      "pygments_lexer": "ipython3",
      "version": "3.11.8"
    },
    "colab": {
      "private_outputs": true,
      "provenance": [],
      "include_colab_link": true
    }
  },
  "nbformat": 4,
  "nbformat_minor": 0
}