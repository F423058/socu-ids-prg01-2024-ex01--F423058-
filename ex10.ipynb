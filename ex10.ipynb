{
  "cells": [
    {
      "cell_type": "markdown",
      "metadata": {
        "id": "view-in-github",
        "colab_type": "text"
      },
      "source": [
        "<a href=\"https://colab.research.google.com/github/F423058/socu-ids-prg01-2024-ex01--F423058-/blob/main/ex10.ipynb\" target=\"_parent\"><img src=\"https://colab.research.google.com/assets/colab-badge.svg\" alt=\"Open In Colab\"/></a>"
      ]
    },
    {
      "cell_type": "markdown",
      "metadata": {
        "id": "EqWoX2e0Ysp4"
      },
      "source": [
        "# 第10回課題"
      ]
    },
    {
      "cell_type": "code",
      "execution_count": 1,
      "metadata": {
        "id": "LpLIGXxwYsqA"
      },
      "outputs": [],
      "source": [
        "# このセルは決して書き換えたり消したりしないこと\n",
        "import os\n",
        "\n",
        "def local_run(t):\n",
        "    \"\"\"\n",
        "    自動採点を妨げずにテストを実行するための補助関数。\n",
        "    \"\"\"\n",
        "    if not ('GRADING' in os.environ):\n",
        "        t()"
      ]
    },
    {
      "cell_type": "markdown",
      "metadata": {
        "id": "DMancr3-YsqB"
      },
      "source": [
        "## Q1. 成績評価プログラム"
      ]
    },
    {
      "cell_type": "markdown",
      "metadata": {
        "id": "hiUYV-E-YsqB"
      },
      "source": [
        "- 各学生の中間試験の点数を記録した辞書`mid`と、\n",
        "- 各学生の期末試験の点数を記録した辞書`fin`\n",
        "\n",
        "が与えられた時、各学生の評価を記録した辞書を作成する関数`grading()`を定義せよ。点数を記録した辞書において、キーと値は以下のようになっているものとする。\n",
        "- キー: 学籍番号を表す文字列\n",
        "- 値: 点数を表す整数(0以上100以下)\n",
        "\n",
        "成績は以下で定義する合計点数:\n",
        "\n",
        "$$合計点数 = 中間試験の点数\\times 0.4 + 期末試験の点数\\times 0.6$$\n",
        "\n",
        "に基づいて、以下の表の通りにつけるものとする。\n",
        "\n",
        "| 成績 | 合計点数 |\n",
        "|------|--------|\n",
        "| 'S' | 90以上100以下 |\n",
        "| 'A' | 80以上90未満 |\n",
        "| 'B' | 70以上80未満 |\n",
        "| 'C' | 60以上70未満 |\n",
        "| 'D' | 60未満 |\n",
        "\n",
        "ただし、\n",
        "- `mid`には点数が記録されているが`fin`には記録されていない学生の期末試験の点数は0点\n",
        "- `fin`には点数が記録されているが`mid`には記録されていない学生の中間試験の点数は0点\n",
        "\n",
        "として計算せよ。\n",
        "\n",
        "なお、この成績評価方法は架空のものであり、実在の授業における成績評価とは一切関係ない。"
      ]
    },
    {
      "cell_type": "markdown",
      "metadata": {
        "id": "Ro23A2jQYsqB"
      },
      "source": [
        "### Step 1. 具体例を考え、テストを定義"
      ]
    },
    {
      "cell_type": "code",
      "execution_count": 3,
      "metadata": {
        "id": "pondHdkDYsqC"
      },
      "outputs": [],
      "source": [
        "def test_grading():\n",
        "    \"\"\"\n",
        "    grading()をテストする。\n",
        "    \"\"\"\n",
        "    mid = {'a150001' : 35}\n",
        "    fin = {'a150002' : 100}\n",
        "    assert grading(mid, fin) == {'a150001' : 'D', 'a150002' : 'C'}\n",
        "    # 以下必要に応じてテストケースを追加せよ(間違わない自信があれば追加しなくてもよい)\n",
        "    mid = {'a150005': 0}\n",
        "    fin = {'a150005': 0}\n",
        "    assert grading(mid, fin) == {'a150005': 'D'}"
      ]
    },
    {
      "cell_type": "markdown",
      "metadata": {
        "id": "Wlk0aWRwYsqC"
      },
      "source": [
        "### Step 2. `grading()`を定義"
      ]
    },
    {
      "cell_type": "code",
      "execution_count": 2,
      "metadata": {
        "id": "JEf73FvHYsqD"
      },
      "outputs": [],
      "source": [
        "def grading(mid, fin):\n",
        "    \"\"\"\n",
        "    中間試験と期末試験の点数から成績をつける\n",
        "\n",
        "    Parameters:\n",
        "        mid (dict): 中間試験の点数を記録した辞書\n",
        "        fin (dict): 期末試験の点数を記録した辞書\n",
        "\n",
        "    Returns:\n",
        "        dict: 成績を記録した辞書\n",
        "    \"\"\"\n",
        "    students = mid.keys() | fin.keys()\n",
        "    grades = {}\n",
        "\n",
        "    for student in students:\n",
        "        mid_score = mid.get(student, 0)\n",
        "        fin_score = fin.get(student, 0)\n",
        "\n",
        "        total_score = mid_score * 0.4 + fin_score * 0.6\n",
        "\n",
        "        if total_score >= 90:\n",
        "            grade = 'S'\n",
        "        elif total_score >= 80:\n",
        "            grade = 'A'\n",
        "        elif total_score >= 70:\n",
        "            grade = 'B'\n",
        "        elif total_score >= 60:\n",
        "            grade = 'C'\n",
        "        else:\n",
        "            grade = 'D'\n",
        "\n",
        "        grades[student] = grade\n",
        "\n",
        "    return grades"
      ]
    },
    {
      "cell_type": "markdown",
      "metadata": {
        "id": "hKeaJFh7YsqD"
      },
      "source": [
        "### Step 3. テストを実行"
      ]
    },
    {
      "cell_type": "code",
      "execution_count": 4,
      "metadata": {
        "id": "Rd9f6TJAYsqD"
      },
      "outputs": [],
      "source": [
        "# このセルは決して書き換えたり消したりしないこと\n",
        "local_run(test_grading)"
      ]
    },
    {
      "cell_type": "markdown",
      "metadata": {
        "id": "c5P_wWf9YsqE"
      },
      "source": [
        "## Q2. お絵かきロジックの作問プログラム"
      ]
    },
    {
      "cell_type": "markdown",
      "metadata": {
        "id": "Ryyz8eY_YsqE"
      },
      "source": [
        "### お絵かきロジック"
      ]
    },
    {
      "cell_type": "markdown",
      "metadata": {
        "id": "9DOAgCWtYsqE"
      },
      "source": [
        "> お絵かきロジック（おえかきロジック）は、縦と横の数字をヒントに塗り潰すマス目を割り出し、そのとおりに塗り潰していくと、最終的に絵（または文字）が浮かび上がるタイプのペンシルパズル。ののぐらむ（ノノグラム）、イラストロジック（イラロジ）、ピクロスとも呼ばれている。\n",
        "\n",
        "![](https://upload.wikimedia.org/wikipedia/commons/6/64/Paint_by_numbers_Animation.gif)\n",
        "\n",
        "- Wikipedia: https://ja.wikipedia.org/wiki/%E3%81%8A%E7%B5%B5%E3%81%8B%E3%81%8D%E3%83%AD%E3%82%B8%E3%83%83%E3%82%AF\n",
        "- MiniCGI「お絵かきロジック」で遊ぶ: https://www.minicgi.net/logic/"
      ]
    },
    {
      "cell_type": "markdown",
      "metadata": {
        "id": "25e1wusAYsqE"
      },
      "source": [
        "### 問題"
      ]
    },
    {
      "cell_type": "markdown",
      "metadata": {
        "id": "VstRJ3Y5YsqE"
      },
      "source": [
        "あなたはお絵かきロジックの問題作成の手伝いを頼まれた。渡された正解の絵ができあがるように、問題(上および左に表示される数字の列)を作成してほしいというのである。作成した問題の数だけ、謝金が支払われるらしい。\n",
        "\n",
        "手作業で黒のマスを数えていってもよいが、それでは一問あたりに膨大な時間がかかる。コンピュータに問題の作成をやらせることができれば、あなたはコンピュータに正解の絵を与えるだけでよくなり、1時間あたり100問作ることも可能になるはずだ(正解の絵を作るのはあなたの仕事ではない)。\n",
        "\n",
        "正解の絵は塗りつぶされたマス'■'と塗りつぶされていないマス'□'を要素とする文字列のリストで表現することにしよう。例えば花の絵(チューリップか、某配管工兄弟が火の玉を投げられるようになる花かは知らない)は以下のように表される。\n",
        "\n",
        "```python\n",
        "[\"□□□■□□□■□□□■□□□\",\n",
        " \"□□□■■□■■■□■■□□□\",\n",
        " \"□□□■■■■■■■■■□□□\",\n",
        " \"□□□■■■■■■■■■□□□\",\n",
        " \"□□□■■■■■■■■■□□□\",\n",
        " \"□□□■■■■■■■■■□□□\",\n",
        " \"□□□□■■■■■■■□□□□\",\n",
        " \"□□□□□□■■■□□□□□□\",\n",
        " \"□□□□□□□■□□□□□□□\",\n",
        " \"■■■■□□□■□□□■■■■\",\n",
        " \"■■■■□□□■□□□■■■■\",\n",
        " \"■■■■■■□■□■■■■■■\",\n",
        " \"■■■■■■□■□■■■■■■\",\n",
        " \"□□■■■■□■□■■■■□□\",\n",
        " \"□□■■■■■■■■■■■□□\",\n",
        " \"□□□□□■■■■■□□□□□\"]\n",
        "```\n"
      ]
    },
    {
      "cell_type": "markdown",
      "metadata": {
        "id": "d4XfUQRTYsqE"
      },
      "source": [
        "便利のため、以下の通り、塗りつぶされているマスを表す定数`FULL`と塗りつぶされていないマスを表す定数`EMPTY`を定義する。"
      ]
    },
    {
      "cell_type": "code",
      "execution_count": 8,
      "metadata": {
        "id": "UON-Z2cqYsqE"
      },
      "outputs": [],
      "source": [
        "FULL = '■'  # 塗りつぶされているマス\n",
        "EMPTY = '□' # 塗りつぶされていないマス"
      ]
    },
    {
      "cell_type": "markdown",
      "metadata": {
        "id": "zQLeehVjYsqF"
      },
      "source": [
        "#### Q2-1"
      ]
    },
    {
      "cell_type": "markdown",
      "metadata": {
        "id": "hfpOlkaiYsqF"
      },
      "source": [
        "絵の一行を表す文字列が与えられた時、行(横方向)の塗りつぶしを指示する数字の列(整数のリスト)を返す関数`get_sequence_lengths()`を定義せよ。結果のリストは先頭の要素ほど左の数値を表すものとする。例えば`[2,3]`は2マス塗りつぶしが続き、その右に1マス以上塗りつぶさないマスがあった後、3マス塗りつぶしが続くことを表すものとする。"
      ]
    },
    {
      "cell_type": "markdown",
      "metadata": {
        "id": "fJQdUKSvYsqF"
      },
      "source": [
        "##### Step 1. 具体例を考え、テストを定義"
      ]
    },
    {
      "cell_type": "code",
      "execution_count": 13,
      "metadata": {
        "id": "fnoqANkqYsqF"
      },
      "outputs": [],
      "source": [
        "def test_get_sequence_lengths():\n",
        "    \"\"\"\n",
        "    get_sequence_lengths()をテストする。\n",
        "    \"\"\"\n",
        "    assert get_sequence_lengths(\"□□□■□□□■□□□■□□□\") == [1,1,1]\n",
        "    assert get_sequence_lengths(\"□□□■■□■■■□■■□□□\") == [2,3,2]\n",
        "    # 以下必要に応じてテストケースを追加せよ(間違わない自信があれば追加しなくてもよい)\n",
        "    assert get_sequence_lengths(\"□□□■□□□■□□□■□□□\") == [1, 1, 1]"
      ]
    },
    {
      "cell_type": "markdown",
      "metadata": {
        "id": "8uz_LbSqYsqG"
      },
      "source": [
        "##### Step 2. `get_sequence_lengths()`を定義"
      ]
    },
    {
      "cell_type": "code",
      "execution_count": 10,
      "metadata": {
        "id": "Pxb84eouYsqG"
      },
      "outputs": [],
      "source": [
        "def get_sequence_lengths(r):\n",
        "    \"\"\"\n",
        "    横方向の塗りつぶしを指示する数字の列(リスト)を返す\n",
        "\n",
        "    Parameters:\n",
        "        r (str): 絵の一行を表す文字列\n",
        "\n",
        "    Returns:\n",
        "        list: 塗りつぶしを指示する数字のリスト\n",
        "    \"\"\"\n",
        "    lengths = []\n",
        "    current_length = 0\n",
        "\n",
        "    for cell in r:\n",
        "        if cell == FULL:\n",
        "            current_length += 1\n",
        "        elif cell == EMPTY:\n",
        "            if current_length > 0:\n",
        "                lengths.append(current_length)\n",
        "                current_length = 0\n",
        "\n",
        "    if current_length > 0:\n",
        "        lengths.append(current_length)\n",
        "\n",
        "    return lengths"
      ]
    },
    {
      "cell_type": "markdown",
      "metadata": {
        "id": "PwO1lDRAYsqG"
      },
      "source": [
        "##### Step 3. テストの実行"
      ]
    },
    {
      "cell_type": "code",
      "execution_count": 14,
      "metadata": {
        "id": "buQBBqqcYsqG"
      },
      "outputs": [],
      "source": [
        "# このセルは決して書き換えたり消したりしないこと\n",
        "local_run(test_get_sequence_lengths)"
      ]
    },
    {
      "cell_type": "markdown",
      "metadata": {
        "id": "hSOSVWCiYsqG"
      },
      "source": [
        "#### Q2-2"
      ]
    },
    {
      "cell_type": "markdown",
      "metadata": {
        "id": "mv0PmG3WYsqH"
      },
      "source": [
        "絵を表す文字列のリストを転置して、行を表す文字列のリストから、列を表す文字列のリストを作る関数を作る関数`transpose()`を定義せよ。絵$P$\n",
        "\n",
        "$$P = \\left[\\begin{array}{c}\n",
        "\"p_{(1,1)} \\cdots p_{(1,n)}\",\\\\\n",
        "\\vdots \\\\\n",
        "\"p_{(m,1)} \\cdots p_{(m,n)}\"\\\\\n",
        "\\end{array}\\right]$$\n",
        "\n",
        "の転置$P^T$は以下のようになる。\n",
        "\n",
        "$$P^T = \\left[\\begin{array}{c}\n",
        "\"p_{(1,1)} \\cdots p_{(m,1)}\",\\\\\n",
        "\\vdots \\\\\n",
        "\"p_{(1,n)}  \\cdots  p_{(m,n)}\"\\\\\n",
        "\\end{array}\\right]$$\n",
        "\n",
        "\n",
        "$m$と$n$は等しいとは限らない。\n",
        "\n",
        "例えば、花の絵を転置すると以下のようになる。\n",
        "\n",
        "```python\n",
        "['□□□□□□□□□■■■■□□□',\n",
        " '□□□□□□□□□■■■■□□□',\n",
        " '□□□□□□□□□■■■■■■□',\n",
        " '■■■■■■□□□■■■■■■□',\n",
        " '□■■■■■■□□□□■■■■□',\n",
        " '□□■■■■■□□□□■■■■■',\n",
        " '□■■■■■■■□□□□□□■■',\n",
        " '■■■■■■■■■■■■■■■■',\n",
        " '□■■■■■■■□□□□□□■■',\n",
        " '□□■■■■■□□□□■■■■■',\n",
        " '□■■■■■■□□□□■■■■□',\n",
        " '■■■■■■□□□■■■■■■□',\n",
        " '□□□□□□□□□■■■■■■□',\n",
        " '□□□□□□□□□■■■■□□□',\n",
        " '□□□□□□□□□■■■■□□□']\n",
        "```\n",
        "\n",
        "反時計回りに90度回転したようにみえるが、この絵が左右対象だったためにそう見えるだけで、行列の転置と同じ操作を行っている。"
      ]
    },
    {
      "cell_type": "markdown",
      "metadata": {
        "id": "ZKJDhG47YsqH"
      },
      "source": [
        "##### Step 1. 具体例を考え、テストを定義"
      ]
    },
    {
      "cell_type": "code",
      "execution_count": 18,
      "metadata": {
        "id": "31hekD0VYsqH"
      },
      "outputs": [],
      "source": [
        "def test_transpose():\n",
        "    \"\"\"\n",
        "    transpose()をテストする。\n",
        "    \"\"\"\n",
        "    picture = [\n",
        "        '□■',\n",
        "        '□■'\n",
        "    ]\n",
        "    picture_T = [\n",
        "        '□□',\n",
        "        '■■'\n",
        "    ]\n",
        "    assert transpose(picture) == picture_T\n",
        "    # 以下必要に応じてテストケースを追加せよ(間違わない自信があれば追加しなくてもよい)"
      ]
    },
    {
      "cell_type": "markdown",
      "metadata": {
        "id": "eFjLRfZlYsqI"
      },
      "source": [
        "##### Step 2. `transpose()`を定義"
      ]
    },
    {
      "cell_type": "code",
      "execution_count": 16,
      "metadata": {
        "id": "aybF_tPwYsqI"
      },
      "outputs": [],
      "source": [
        "def transpose(picture):\n",
        "    \"\"\"\n",
        "    pictureを転置する\n",
        "    \"\"\"\n",
        "    if not picture:\n",
        "        return []\n",
        "\n",
        "    rows = len(picture)\n",
        "    cols = len(picture[0])\n",
        "\n",
        "    transposed_picture = ['' for _ in range(cols)]\n",
        "\n",
        "    for col in range(cols):\n",
        "        for row in range(rows):\n",
        "            transposed_picture[col] += picture[row][col]\n",
        "\n",
        "    return transposed_picture"
      ]
    },
    {
      "cell_type": "markdown",
      "metadata": {
        "id": "QUnT5rfHYsqI"
      },
      "source": [
        "##### Step 3. テストの実行"
      ]
    },
    {
      "cell_type": "code",
      "execution_count": 19,
      "metadata": {
        "id": "muiW5CBOYsqI"
      },
      "outputs": [],
      "source": [
        "# このセルは決して書き換えたり消したりしないこと\n",
        "local_run(test_transpose)"
      ]
    },
    {
      "cell_type": "markdown",
      "metadata": {
        "id": "IzzqVt9oYsqI"
      },
      "source": [
        "### おまけ: エクセルファイルでの問題作成&ダウンロード"
      ]
    },
    {
      "cell_type": "markdown",
      "metadata": {
        "id": "FcM4tA6BYsqJ"
      },
      "source": [
        "`get_sequence_lengths()`と`transpose()`が完成したら、以下を実行することでお絵かきロジックの問題をエクセルファイルとして生成し、問題のファイルをダウンロードできる。"
      ]
    },
    {
      "cell_type": "code",
      "execution_count": 20,
      "metadata": {
        "id": "SnyNtu4OYsqJ",
        "outputId": "ad2f1a1c-e5bc-4711-d26f-99980bc0a19b",
        "colab": {
          "base_uri": "https://localhost:8080/"
        }
      },
      "outputs": [
        {
          "output_type": "stream",
          "name": "stdout",
          "text": [
            "--2024-06-28 10:52:21--  https://docs.google.com/uc?export=download&id=1J_hG-cXpwK5vk6qdMhhM9HsJ6B01-kAQ\n",
            "Resolving docs.google.com (docs.google.com)... 74.125.142.113, 74.125.142.139, 74.125.142.100, ...\n",
            "Connecting to docs.google.com (docs.google.com)|74.125.142.113|:443... connected.\n",
            "HTTP request sent, awaiting response... 303 See Other\n",
            "Location: https://drive.usercontent.google.com/download?id=1J_hG-cXpwK5vk6qdMhhM9HsJ6B01-kAQ&export=download [following]\n",
            "--2024-06-28 10:52:21--  https://drive.usercontent.google.com/download?id=1J_hG-cXpwK5vk6qdMhhM9HsJ6B01-kAQ&export=download\n",
            "Resolving drive.usercontent.google.com (drive.usercontent.google.com)... 108.177.98.132, 2607:f8b0:400e:c06::84\n",
            "Connecting to drive.usercontent.google.com (drive.usercontent.google.com)|108.177.98.132|:443... connected.\n",
            "HTTP request sent, awaiting response... 200 OK\n",
            "Length: 659 [application/octet-stream]\n",
            "Saving to: ‘picture_logic.7z’\n",
            "\n",
            "picture_logic.7z    100%[===================>]     659  --.-KB/s    in 0s      \n",
            "\n",
            "2024-06-28 10:52:21 (19.2 MB/s) - ‘picture_logic.7z’ saved [659/659]\n",
            "\n",
            "\n",
            "7-Zip [64] 16.02 : Copyright (c) 1999-2016 Igor Pavlov : 2016-05-21\n",
            "p7zip Version 16.02 (locale=en_US.UTF-8,Utf16=on,HugeFiles=on,64 bits,2 CPUs Intel(R) Xeon(R) CPU @ 2.20GHz (406F0),ASM,AES-NI)\n",
            "\n",
            "Scanning the drive for archives:\n",
            "  0M Scan\b\b\b\b\b\b\b\b\b         \b\b\b\b\b\b\b\b\b1 file, 659 bytes (1 KiB)\n",
            "\n",
            "Extracting archive: picture_logic.7z\n",
            "--\n",
            "Path = picture_logic.7z\n",
            "Type = 7z\n",
            "Physical Size = 659\n",
            "Headers Size = 138\n",
            "Method = LZMA2:12\n",
            "Solid = -\n",
            "Blocks = 1\n",
            "\n",
            "  0%\b\b\b\b    \b\b\b\bEverything is Ok\n",
            "\n",
            "Size:       980\n",
            "Compressed: 659\n"
          ]
        }
      ],
      "source": [
        "# 必要ファイルのダウンロード\n",
        "!wget --no-check-certificate -O picture_logic.7z \"https://docs.google.com/uc?export=download&id=1J_hG-cXpwK5vk6qdMhhM9HsJ6B01-kAQ\"\n",
        "!7z x picture_logic.7z"
      ]
    },
    {
      "cell_type": "code",
      "execution_count": 21,
      "metadata": {
        "id": "Q04ufhYOYsqJ"
      },
      "outputs": [],
      "source": [
        "# お絵かきロジックの完成絵\n",
        "picture = [\n",
        " \"□□□■□□□■□□□■□□□\",\n",
        " \"□□□■■□■■■□■■□□□\",\n",
        " \"□□□■■■■■■■■■□□□\",\n",
        " \"□□□■■■■■■■■■□□□\",\n",
        " \"□□□■■■■■■■■■□□□\",\n",
        " \"□□□■■■■■■■■■□□□\",\n",
        " \"□□□□■■■■■■■□□□□\",\n",
        " \"□□□□□□■■■□□□□□□\",\n",
        " \"□□□□□□□■□□□□□□□\",\n",
        " \"■■■■□□□■□□□■■■■\",\n",
        " \"■■■■□□□■□□□■■■■\",\n",
        " \"■■■■■■□■□■■■■■■\",\n",
        " \"■■■■■■□■□■■■■■■\",\n",
        " \"□□■■■■□■□■■■■□□\",\n",
        " \"□□■■■■■■■■■■■□□\",\n",
        " \"□□□□□■■■■■□□□□□\"\n",
        "]\n",
        "\n",
        "# お絵かきロジックの問題ファイル\n",
        "file_name = 'picture_logic.xlsx'"
      ]
    },
    {
      "cell_type": "code",
      "execution_count": 22,
      "metadata": {
        "id": "mCLtnD9EYsqJ",
        "outputId": "ccf8671b-3da7-4575-e98a-a2c94c8f4bbd",
        "colab": {
          "base_uri": "https://localhost:8080/",
          "height": 17
        }
      },
      "outputs": [
        {
          "output_type": "display_data",
          "data": {
            "text/plain": [
              "<IPython.core.display.Javascript object>"
            ],
            "application/javascript": [
              "\n",
              "    async function download(id, filename, size) {\n",
              "      if (!google.colab.kernel.accessAllowed) {\n",
              "        return;\n",
              "      }\n",
              "      const div = document.createElement('div');\n",
              "      const label = document.createElement('label');\n",
              "      label.textContent = `Downloading \"${filename}\": `;\n",
              "      div.appendChild(label);\n",
              "      const progress = document.createElement('progress');\n",
              "      progress.max = size;\n",
              "      div.appendChild(progress);\n",
              "      document.body.appendChild(div);\n",
              "\n",
              "      const buffers = [];\n",
              "      let downloaded = 0;\n",
              "\n",
              "      const channel = await google.colab.kernel.comms.open(id);\n",
              "      // Send a message to notify the kernel that we're ready.\n",
              "      channel.send({})\n",
              "\n",
              "      for await (const message of channel.messages) {\n",
              "        // Send a message to notify the kernel that we're ready.\n",
              "        channel.send({})\n",
              "        if (message.buffers) {\n",
              "          for (const buffer of message.buffers) {\n",
              "            buffers.push(buffer);\n",
              "            downloaded += buffer.byteLength;\n",
              "            progress.value = downloaded;\n",
              "          }\n",
              "        }\n",
              "      }\n",
              "      const blob = new Blob(buffers, {type: 'application/binary'});\n",
              "      const a = document.createElement('a');\n",
              "      a.href = window.URL.createObjectURL(blob);\n",
              "      a.download = filename;\n",
              "      div.appendChild(a);\n",
              "      a.click();\n",
              "      div.remove();\n",
              "    }\n",
              "  "
            ]
          },
          "metadata": {}
        },
        {
          "output_type": "display_data",
          "data": {
            "text/plain": [
              "<IPython.core.display.Javascript object>"
            ],
            "application/javascript": [
              "download(\"download_99dc9048-e70f-489d-837d-a96e8e74e2ae\", \"picture_logic.xlsx\", 5662)"
            ]
          },
          "metadata": {}
        }
      ],
      "source": [
        "# このセルは決して書き換えたり消したりしないこと\n",
        "import picture_logic\n",
        "picture_logic.make_picture_logic_problem(picture, get_sequence_lengths, transpose, file_name)"
      ]
    }
  ],
  "metadata": {
    "kernelspec": {
      "display_name": ".venv",
      "language": "python",
      "name": "python3"
    },
    "language_info": {
      "codemirror_mode": {
        "name": "ipython",
        "version": 3
      },
      "file_extension": ".py",
      "mimetype": "text/x-python",
      "name": "python",
      "nbconvert_exporter": "python",
      "pygments_lexer": "ipython3",
      "version": "3.12.3"
    },
    "colab": {
      "provenance": [],
      "include_colab_link": true
    }
  },
  "nbformat": 4,
  "nbformat_minor": 0
}